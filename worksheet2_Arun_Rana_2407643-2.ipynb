{
  "nbformat": 4,
  "nbformat_minor": 0,
  "metadata": {
    "colab": {
      "provenance": []
    },
    "kernelspec": {
      "name": "python3",
      "display_name": "Python 3"
    },
    "language_info": {
      "name": "python"
    }
  },
  "cells": [
    {
      "cell_type": "markdown",
      "source": [
        "3. To - Do - Task\n",
        "Please Complete all the problem listed below."
      ],
      "metadata": {
        "id": "ERCRciPMuxY1"
      }
    },
    {
      "cell_type": "markdown",
      "source": [
        "3.1 Warming Up Exercises - Basic Inspection and Exploration:\n",
        "Problem 1 - Data Read, Write and Inspect:\n",
        "Complete all following Task:"
      ],
      "metadata": {
        "id": "WBWOoI1au8DY"
      }
    },
    {
      "cell_type": "markdown",
      "source": [
        "• Dataset for the Task: \"bank.csv\"\n",
        "1. Load the provided dataset and import in pandas DataFrame."
      ],
      "metadata": {
        "id": "w6VIDLsXvB5E"
      }
    },
    {
      "cell_type": "code",
      "source": [
        "import pandas as pd\n",
        "\n",
        "dataset = pd.read_csv(\"/content/drive/My Drive/second year/bank .csv\")\n",
        "\n",
        "print(dataset.head())"
      ],
      "metadata": {
        "colab": {
          "base_uri": "https://localhost:8080/"
        },
        "id": "fMCP_r2uvGu9",
        "outputId": "c3725ccc-70f4-4d33-b7bd-0489807b593c"
      },
      "execution_count": 8,
      "outputs": [
        {
          "output_type": "stream",
          "name": "stdout",
          "text": [
            "   age           job  marital  education default  balance housing loan  \\\n",
            "0   58    management  married   tertiary      no     2143     yes   no   \n",
            "1   44    technician   single  secondary      no       29     yes   no   \n",
            "2   33  entrepreneur  married  secondary      no        2     yes  yes   \n",
            "3   47   blue-collar  married    unknown      no     1506     yes   no   \n",
            "4   33       unknown   single    unknown      no        1      no   no   \n",
            "\n",
            "   contact  day month  duration  campaign  pdays  previous poutcome   y  \n",
            "0  unknown    5   may       261         1     -1         0  unknown  no  \n",
            "1  unknown    5   may       151         1     -1         0  unknown  no  \n",
            "2  unknown    5   may        76         1     -1         0  unknown  no  \n",
            "3  unknown    5   may        92         1     -1         0  unknown  no  \n",
            "4  unknown    5   may       198         1     -1         0  unknown  no  \n"
          ]
        }
      ]
    },
    {
      "cell_type": "markdown",
      "source": [
        "2. Check info of the DataFrame and identify following:\n",
        "(a) columns with dtypes=object\n",
        "(b) unique values of those columns.\n",
        "(c) check for the total number of null values in each column."
      ],
      "metadata": {
        "id": "FhWz8DPBvX05"
      }
    },
    {
      "cell_type": "code",
      "source": [
        "import pandas as pd\n",
        "dataset.info()\n"
      ],
      "metadata": {
        "colab": {
          "base_uri": "https://localhost:8080/"
        },
        "id": "b1YD6apevdRV",
        "outputId": "c51c0585-87a4-412c-d67f-cd3627c25cce"
      },
      "execution_count": 9,
      "outputs": [
        {
          "output_type": "stream",
          "name": "stdout",
          "text": [
            "<class 'pandas.core.frame.DataFrame'>\n",
            "RangeIndex: 45211 entries, 0 to 45210\n",
            "Data columns (total 17 columns):\n",
            " #   Column     Non-Null Count  Dtype \n",
            "---  ------     --------------  ----- \n",
            " 0   age        45211 non-null  int64 \n",
            " 1   job        45211 non-null  object\n",
            " 2   marital    45211 non-null  object\n",
            " 3   education  45211 non-null  object\n",
            " 4   default    45211 non-null  object\n",
            " 5   balance    45211 non-null  int64 \n",
            " 6   housing    45211 non-null  object\n",
            " 7   loan       45211 non-null  object\n",
            " 8   contact    45211 non-null  object\n",
            " 9   day        45211 non-null  int64 \n",
            " 10  month      45211 non-null  object\n",
            " 11  duration   45211 non-null  int64 \n",
            " 12  campaign   45211 non-null  int64 \n",
            " 13  pdays      45211 non-null  int64 \n",
            " 14  previous   45211 non-null  int64 \n",
            " 15  poutcome   45211 non-null  object\n",
            " 16  y          45211 non-null  object\n",
            "dtypes: int64(7), object(10)\n",
            "memory usage: 5.9+ MB\n"
          ]
        }
      ]
    },
    {
      "cell_type": "markdown",
      "source": [
        "3. Drop all the columns with dtypes object and store in new DataFrame, also write the DataFrame in\n",
        "”.csv” with name ”banknumericdata.csv”"
      ],
      "metadata": {
        "id": "U3KT6PWD0EbW"
      }
    },
    {
      "cell_type": "code",
      "source": [
        "import pandas as pd\n",
        "object_columns = dataset.select_dtypes(include=['object']).columns\n",
        "print(\"Columns with dtype=object:\")\n",
        "print(object_columns)\n",
        "\n"
      ],
      "metadata": {
        "colab": {
          "base_uri": "https://localhost:8080/"
        },
        "id": "2mQoAVeh0JmD",
        "outputId": "f4765dfe-39bf-457d-fd75-bcac606518a6"
      },
      "execution_count": 10,
      "outputs": [
        {
          "output_type": "stream",
          "name": "stdout",
          "text": [
            "Columns with dtype=object:\n",
            "Index(['job', 'marital', 'education', 'default', 'housing', 'loan', 'contact',\n",
            "       'month', 'poutcome', 'y'],\n",
            "      dtype='object')\n"
          ]
        }
      ]
    },
    {
      "cell_type": "markdown",
      "source": [
        "4. Read ”banknumericdata.csv” and Find the summary statistics."
      ],
      "metadata": {
        "id": "_DYK7-pK0VLw"
      }
    },
    {
      "cell_type": "code",
      "source": [
        "import pandas as pd\n",
        "object_columns = dataset.select_dtypes(include=['object']).columns\n",
        "\n",
        "\n",
        "for column in object_columns:\n",
        "    unique_values = dataset[column].unique()\n",
        "    print(f\"Unique values in column '{column}':\")\n",
        "    print(unique_values)\n",
        "    print(\"\\n\")"
      ],
      "metadata": {
        "colab": {
          "base_uri": "https://localhost:8080/"
        },
        "id": "lPRYHytQ0YJn",
        "outputId": "4acef2f3-501a-4c94-ffc2-ca226cd7f896"
      },
      "execution_count": 11,
      "outputs": [
        {
          "output_type": "stream",
          "name": "stdout",
          "text": [
            "Unique values in column 'job':\n",
            "['management' 'technician' 'entrepreneur' 'blue-collar' 'unknown'\n",
            " 'retired' 'admin.' 'services' 'self-employed' 'unemployed' 'housemaid'\n",
            " 'student']\n",
            "\n",
            "\n",
            "Unique values in column 'marital':\n",
            "['married' 'single' 'divorced']\n",
            "\n",
            "\n",
            "Unique values in column 'education':\n",
            "['tertiary' 'secondary' 'unknown' 'primary']\n",
            "\n",
            "\n",
            "Unique values in column 'default':\n",
            "['no' 'yes']\n",
            "\n",
            "\n",
            "Unique values in column 'housing':\n",
            "['yes' 'no']\n",
            "\n",
            "\n",
            "Unique values in column 'loan':\n",
            "['no' 'yes']\n",
            "\n",
            "\n",
            "Unique values in column 'contact':\n",
            "['unknown' 'cellular' 'telephone']\n",
            "\n",
            "\n",
            "Unique values in column 'month':\n",
            "['may' 'jun' 'jul' 'aug' 'oct' 'nov' 'dec' 'jan' 'feb' 'mar' 'apr' 'sep']\n",
            "\n",
            "\n",
            "Unique values in column 'poutcome':\n",
            "['unknown' 'failure' 'other' 'success']\n",
            "\n",
            "\n",
            "Unique values in column 'y':\n",
            "['no' 'yes']\n",
            "\n",
            "\n"
          ]
        }
      ]
    },
    {
      "cell_type": "markdown",
      "source": [
        "Problem 2 - Data Imputations:\n",
        "\n",
        "Complete all the following Task:\n",
        "\n",
        "• Dataset for the Task: \"medical_student.csv\""
      ],
      "metadata": {
        "id": "gNXWW3wx0e6q"
      }
    },
    {
      "cell_type": "markdown",
      "source": [],
      "metadata": {
        "id": "GOYCT3Es0jDv"
      }
    },
    {
      "cell_type": "markdown",
      "source": [
        "1. Load the provided dataset and import in pandas DataFrame."
      ],
      "metadata": {
        "id": "KD7QAIQO0ifn"
      }
    },
    {
      "cell_type": "code",
      "source": [
        "import pandas as pd\n",
        "\n",
        "medical_students = pd.read_csv(\"/content/drive/My Drive/second year/medical_students.csv\")\n",
        "\n",
        "\n",
        "print(medical_students.head())\n"
      ],
      "metadata": {
        "colab": {
          "base_uri": "https://localhost:8080/"
        },
        "id": "K1AyNxuW4e91",
        "outputId": "4d0cee1e-ec05-4746-fa51-6e2af3a1d2ec"
      },
      "execution_count": 22,
      "outputs": [
        {
          "output_type": "stream",
          "name": "stdout",
          "text": [
            "   Student ID   Age  Gender      Height     Weight Blood Type        BMI  \\\n",
            "0         1.0  18.0  Female  161.777924  72.354947          O  27.645835   \n",
            "1         2.0   NaN    Male  152.069157  47.630941          B        NaN   \n",
            "2         3.0  32.0  Female  182.537664  55.741083          A  16.729017   \n",
            "3         NaN  30.0    Male  182.112867  63.332207          B  19.096042   \n",
            "4         5.0  23.0  Female         NaN  46.234173          O        NaN   \n",
            "\n",
            "   Temperature  Heart Rate  Blood Pressure  Cholesterol Diabetes Smoking  \n",
            "0          NaN        95.0           109.0        203.0       No     NaN  \n",
            "1    98.714977        93.0           104.0        163.0       No      No  \n",
            "2    98.260293        76.0           130.0        216.0      Yes      No  \n",
            "3    98.839605        99.0           112.0        141.0       No     Yes  \n",
            "4    98.480008        95.0             NaN        231.0       No      No  \n"
          ]
        }
      ]
    },
    {
      "cell_type": "markdown",
      "source": [
        "2. Check info of the DataFrame and identify column with missing (null) values."
      ],
      "metadata": {
        "id": "b2XspYYF4q9w"
      }
    },
    {
      "cell_type": "code",
      "source": [
        "import pandas as pd\n",
        "\n",
        "\n",
        "df = pd.read_csv(\"/content/drive/My Drive/second year/medical_students.csv\")\n",
        "\n",
        "print(\"DataFrame Info:\")\n",
        "print(df.info())\n",
        "\n",
        "\n",
        "print(\"\\nMissing Values in Each Column:\")\n",
        "print(df.isnull().sum())\n"
      ],
      "metadata": {
        "colab": {
          "base_uri": "https://localhost:8080/"
        },
        "id": "4sAox8b24ww2",
        "outputId": "f4df3aa8-1c5c-4906-fd40-464c47be947e"
      },
      "execution_count": 6,
      "outputs": [
        {
          "output_type": "stream",
          "name": "stdout",
          "text": [
            "DataFrame Info:\n",
            "<class 'pandas.core.frame.DataFrame'>\n",
            "RangeIndex: 200000 entries, 0 to 199999\n",
            "Data columns (total 13 columns):\n",
            " #   Column          Non-Null Count   Dtype  \n",
            "---  ------          --------------   -----  \n",
            " 0   Student ID      180000 non-null  float64\n",
            " 1   Age             180000 non-null  float64\n",
            " 2   Gender          180000 non-null  object \n",
            " 3   Height          180000 non-null  float64\n",
            " 4   Weight          180000 non-null  float64\n",
            " 5   Blood Type      180000 non-null  object \n",
            " 6   BMI             180000 non-null  float64\n",
            " 7   Temperature     180000 non-null  float64\n",
            " 8   Heart Rate      180000 non-null  float64\n",
            " 9   Blood Pressure  180000 non-null  float64\n",
            " 10  Cholesterol     180000 non-null  float64\n",
            " 11  Diabetes        180000 non-null  object \n",
            " 12  Smoking         180000 non-null  object \n",
            "dtypes: float64(9), object(4)\n",
            "memory usage: 19.8+ MB\n",
            "None\n",
            "\n",
            "Missing Values in Each Column:\n",
            "Student ID        20000\n",
            "Age               20000\n",
            "Gender            20000\n",
            "Height            20000\n",
            "Weight            20000\n",
            "Blood Type        20000\n",
            "BMI               20000\n",
            "Temperature       20000\n",
            "Heart Rate        20000\n",
            "Blood Pressure    20000\n",
            "Cholesterol       20000\n",
            "Diabetes          20000\n",
            "Smoking           20000\n",
            "dtype: int64\n"
          ]
        }
      ]
    },
    {
      "cell_type": "markdown",
      "source": [
        "3. For the column with missing values fill the values using various techniques we discussed above. Try\n",
        "to explain why did you select the particular methods for particular column."
      ],
      "metadata": {
        "id": "gzIMAOvK43-1"
      }
    },
    {
      "cell_type": "code",
      "source": [
        "import pandas as pd\n",
        "\n",
        "# Load the dataset\n",
        "file_path = (\"/content/drive/My Drive/second year/medical_students.csv\")\n",
        "  # Adjust the path as needed\n",
        "data = pd.read_csv(file_path)\n",
        "\n",
        "# Impute missing values for numerical columns\n",
        "# Using median for BMI and Blood Pressure due to outliers\n",
        "data['BMI'].fillna(data['BMI'].median(), inplace=True)\n",
        "data['Blood Pressure'].fillna(data['Blood Pressure'].median(), inplace=True)\n",
        "\n",
        "# Using mean for other numerical columns\n",
        "numerical_columns_to_mean = ['Age', 'Height', 'Weight', 'Temperature']\n",
        "for col in numerical_columns_to_mean:\n",
        "    data[col].fillna(data[col].mean(), inplace=True)\n",
        "\n",
        "# Impute missing values for categorical columns\n",
        "# Using mode for all categorical columns\n",
        "categorical_columns = ['Gender', 'Blood Type', 'Diabetes', 'Smoking']\n",
        "for col in categorical_columns:\n",
        "    data[col].fillna(data[col].mode()[0], inplace=True)\n",
        "\n",
        "# Check if there are still missing values in the dataset\n",
        "print(data.isnull().sum())\n"
      ],
      "metadata": {
        "colab": {
          "base_uri": "https://localhost:8080/"
        },
        "id": "eoODi5Wa47FU",
        "outputId": "a6b452d5-92b0-487e-c71c-01a8e503a9b0"
      },
      "execution_count": 27,
      "outputs": [
        {
          "output_type": "stream",
          "name": "stdout",
          "text": [
            "Student ID        20000\n",
            "Age                   0\n",
            "Gender                0\n",
            "Height                0\n",
            "Weight                0\n",
            "Blood Type            0\n",
            "BMI                   0\n",
            "Temperature           0\n",
            "Heart Rate        20000\n",
            "Blood Pressure        0\n",
            "Cholesterol       20000\n",
            "Diabetes              0\n",
            "Smoking               0\n",
            "dtype: int64\n"
          ]
        },
        {
          "output_type": "stream",
          "name": "stderr",
          "text": [
            "<ipython-input-27-bde1d853932d>:10: FutureWarning: A value is trying to be set on a copy of a DataFrame or Series through chained assignment using an inplace method.\n",
            "The behavior will change in pandas 3.0. This inplace method will never work because the intermediate object on which we are setting values always behaves as a copy.\n",
            "\n",
            "For example, when doing 'df[col].method(value, inplace=True)', try using 'df.method({col: value}, inplace=True)' or df[col] = df[col].method(value) instead, to perform the operation inplace on the original object.\n",
            "\n",
            "\n",
            "  data['BMI'].fillna(data['BMI'].median(), inplace=True)\n",
            "<ipython-input-27-bde1d853932d>:11: FutureWarning: A value is trying to be set on a copy of a DataFrame or Series through chained assignment using an inplace method.\n",
            "The behavior will change in pandas 3.0. This inplace method will never work because the intermediate object on which we are setting values always behaves as a copy.\n",
            "\n",
            "For example, when doing 'df[col].method(value, inplace=True)', try using 'df.method({col: value}, inplace=True)' or df[col] = df[col].method(value) instead, to perform the operation inplace on the original object.\n",
            "\n",
            "\n",
            "  data['Blood Pressure'].fillna(data['Blood Pressure'].median(), inplace=True)\n",
            "<ipython-input-27-bde1d853932d>:16: FutureWarning: A value is trying to be set on a copy of a DataFrame or Series through chained assignment using an inplace method.\n",
            "The behavior will change in pandas 3.0. This inplace method will never work because the intermediate object on which we are setting values always behaves as a copy.\n",
            "\n",
            "For example, when doing 'df[col].method(value, inplace=True)', try using 'df.method({col: value}, inplace=True)' or df[col] = df[col].method(value) instead, to perform the operation inplace on the original object.\n",
            "\n",
            "\n",
            "  data[col].fillna(data[col].mean(), inplace=True)\n",
            "<ipython-input-27-bde1d853932d>:22: FutureWarning: A value is trying to be set on a copy of a DataFrame or Series through chained assignment using an inplace method.\n",
            "The behavior will change in pandas 3.0. This inplace method will never work because the intermediate object on which we are setting values always behaves as a copy.\n",
            "\n",
            "For example, when doing 'df[col].method(value, inplace=True)', try using 'df.method({col: value}, inplace=True)' or df[col] = df[col].method(value) instead, to perform the operation inplace on the original object.\n",
            "\n",
            "\n",
            "  data[col].fillna(data[col].mode()[0], inplace=True)\n"
          ]
        }
      ]
    },
    {
      "cell_type": "markdown",
      "source": [
        "4. Check for any duplicate values present in Dataset and do necessary to manage the duplicate items.\n",
        "{Hint: dataset.duplicated.sum()}"
      ],
      "metadata": {
        "id": "rL-nNaSX5AaO"
      }
    },
    {
      "cell_type": "code",
      "source": [
        "import pandas as pd\n",
        "\n",
        "df = pd.read_csv(\"/content/drive/My Drive/second year/medical_students.csv\")\n",
        "\n",
        "duplicate_count = df.duplicated().sum()\n",
        "print(f\"Number of duplicate rows: {duplicate_count}\")\n",
        "\n",
        "if duplicate_count > 0:\n",
        "    print(\"\\nDuplicate Rows:\")\n",
        "    print(df[df.duplicated()])\n",
        "\n",
        "df = df.drop_duplicates()\n",
        "\n",
        "print(f\"\\nNumber of duplicate rows after removal: {df.duplicated().sum()}\")\n"
      ],
      "metadata": {
        "colab": {
          "base_uri": "https://localhost:8080/"
        },
        "id": "3BXN720-5HHc",
        "outputId": "74679032-9d02-449e-c01b-074502f4719b"
      },
      "execution_count": 10,
      "outputs": [
        {
          "output_type": "stream",
          "name": "stdout",
          "text": [
            "Number of duplicate rows: 7644\n",
            "\n",
            "Duplicate Rows:\n",
            "        Student ID   Age  Gender      Height     Weight Blood Type        BMI  \\\n",
            "100007         8.0  28.0    Male  186.489402  52.389752         AB  15.063921   \n",
            "100011        12.0  34.0  Female  182.416302  76.371050         AB  22.950992   \n",
            "100018        19.0  31.0  Female  158.790160  46.829849         AB  18.572723   \n",
            "100022        23.0  29.0  Female  179.909041  90.679436         AB  28.015787   \n",
            "100023        24.0  18.0    Male         NaN  52.521560         AB  13.570402   \n",
            "...            ...   ...     ...         ...        ...        ...        ...   \n",
            "199961     99962.0  31.0    Male  180.859321  43.647709          B  13.343804   \n",
            "199962     99963.0  18.0  Female  180.133710  48.381499          A  14.910401   \n",
            "199965     99966.0  22.0  Female  166.562901  48.684146         AB  17.548137   \n",
            "199973     99974.0  25.0  Female  156.297842  90.690186          B  37.123963   \n",
            "199985     99986.0  23.0  Female  162.884951  82.485778          B  31.089745   \n",
            "\n",
            "        Temperature  Heart Rate  Blood Pressure  Cholesterol Diabetes Smoking  \n",
            "100007    98.227788        85.0           123.0        128.0       No      No  \n",
            "100011    98.118274        86.0            97.0        247.0       No      No  \n",
            "100018    98.784709        92.0           102.0        172.0      NaN      No  \n",
            "100022    98.782269        81.0           108.0        227.0       No     Yes  \n",
            "100023    98.215090        60.0           132.0        217.0       No      No  \n",
            "...             ...         ...             ...          ...      ...     ...  \n",
            "199961    98.675411        68.0            90.0        223.0       No      No  \n",
            "199962    98.104064        71.0           129.0        184.0       No      No  \n",
            "199965    98.776134        95.0           109.0        152.0      Yes      No  \n",
            "199973    98.664591        70.0           132.0        164.0      Yes      No  \n",
            "199985    98.852347        65.0            94.0        188.0       No     Yes  \n",
            "\n",
            "[7644 rows x 13 columns]\n",
            "\n",
            "Number of duplicate rows after removal: 0\n"
          ]
        }
      ]
    },
    {
      "cell_type": "markdown",
      "source": [
        "3.2 Exercises\n",
        " - Data Cleaning and Transformations with ”Titanic Dataset”:\n",
        "Dataset Used: \"titanic.csv\""
      ],
      "metadata": {
        "id": "Xxl_TRMH5b7a"
      }
    },
    {
      "cell_type": "markdown",
      "source": [
        "Problem - 1\n",
        "\n",
        "Create a DataFrame that is subsetted for the columns ’Name’, ’Pclass’, ’Sex’, ’Age’, ’Fare’, and ’Survived’.\n",
        "Retain only those rows where ’Pclass’ is equal to 1, representing first-class passengers. What is the mean,\n",
        "median, maximum value, and minimum value of the ’Fare’ column?"
      ],
      "metadata": {
        "id": "7D5gsWqm5fuW"
      }
    },
    {
      "cell_type": "code",
      "source": [
        "import pandas as pd\n",
        "\n",
        "\n",
        "df = pd.read_csv(\"/content/drive/My Drive/second year/titanic.csv\")\n",
        "\n",
        "columns_to_select = ['Name', 'Pclass', 'Sex', 'Age', 'Fare', 'Survived']\n",
        "subset_df = df[columns_to_select]\n",
        "\n",
        "\n",
        "first_class_df = subset_df[subset_df['Pclass'] == 1]\n",
        "\n",
        "fare_mean = first_class_df['Fare'].mean()\n",
        "fare_median = first_class_df['Fare'].median()\n",
        "fare_max = first_class_df['Fare'].max()\n",
        "fare_min = first_class_df['Fare'].min()\n",
        "\n",
        "\n",
        "print(\"Statistics for 'Fare' (First-Class Passengers):\")\n",
        "print(f\"Mean: {fare_mean}\")\n",
        "print(f\"Median: {fare_median}\")\n",
        "print(f\"Maximum: {fare_max}\")\n",
        "print(f\"Minimum: {fare_min}\")\n"
      ],
      "metadata": {
        "colab": {
          "base_uri": "https://localhost:8080/"
        },
        "id": "5ZLtFyj45ise",
        "outputId": "054be3cf-1d90-452d-b592-32fbee3f9df5"
      },
      "execution_count": 11,
      "outputs": [
        {
          "output_type": "stream",
          "name": "stdout",
          "text": [
            "Statistics for 'Fare' (First-Class Passengers):\n",
            "Mean: 84.1546875\n",
            "Median: 60.287499999999994\n",
            "Maximum: 512.3292\n",
            "Minimum: 0.0\n"
          ]
        }
      ]
    },
    {
      "cell_type": "markdown",
      "source": [
        "Problem - 2:\n",
        "How many null values are contained in the ’Age’ column in your subsetted DataFrame? Once you’ve found\n",
        "this out, drop them from your DataFrame."
      ],
      "metadata": {
        "id": "Y32rO7Zk5wXY"
      }
    },
    {
      "cell_type": "code",
      "source": [
        "import pandas as pd\n",
        "\n",
        "\n",
        "df = pd.read_csv(\"/content/drive/My Drive/second year/titanic.csv\")\n",
        "\n",
        "\n",
        "columns_to_select = ['Name', 'Pclass', 'Sex', 'Age', 'Fare', 'Survived']\n",
        "subset_df = df[columns_to_select]\n",
        "\n",
        "\n",
        "null_count = subset_df['Age'].isnull().sum()\n",
        "print(f\"Number of null values in 'Age': {null_count}\")\n",
        "\n",
        "\n",
        "subset_df_cleaned = subset_df.dropna(subset=['Age'])\n",
        "\n",
        "\n",
        "cleaned_null_count = subset_df_cleaned['Age'].isnull().sum()\n",
        "print(f\"Number of null values in 'Age' after dropping: {cleaned_null_count}\")\n"
      ],
      "metadata": {
        "colab": {
          "base_uri": "https://localhost:8080/"
        },
        "id": "iH5ZzHD955Bn",
        "outputId": "280ea071-7598-4b34-c75e-8ea8ac52519b"
      },
      "execution_count": 12,
      "outputs": [
        {
          "output_type": "stream",
          "name": "stdout",
          "text": [
            "Number of null values in 'Age': 177\n",
            "Number of null values in 'Age' after dropping: 0\n"
          ]
        }
      ]
    },
    {
      "cell_type": "markdown",
      "source": [
        "Problem - 3:\n",
        "\n",
        "The ’Embarked’ column in the Titanic dataset contains categorical data representing the ports of embarka-\n",
        "tion:\n",
        "\n",
        "• ’C’ for Cherbourg\n",
        "• ’Q’ for Queenstown\n",
        "• ’S’ for Southampton"
      ],
      "metadata": {
        "id": "zP9X7jNE6Dsq"
      }
    },
    {
      "cell_type": "markdown",
      "source": [
        "Task:\n",
        "1. Use one-hot encoding to convert the ’Embarked’ column into separate binary columns (’Embarked C’,\n",
        "’Embarked Q’, ’Embarked S’)."
      ],
      "metadata": {
        "id": "6OHBvoqy6IXW"
      }
    },
    {
      "cell_type": "code",
      "source": [
        "import pandas as pd\n",
        "\n",
        "\n",
        "df = pd.read_csv(\"/content/drive/My Drive/second year/titanic.csv\")\n",
        "\n",
        "\n",
        "embarked_counts = df['Embarked'].value_counts()\n",
        "print(\"Value Counts for 'Embarked':\")\n",
        "print(embarked_counts)\n",
        "\n",
        "missing_embarked = df['Embarked'].isnull().sum()\n",
        "print(f\"\\nNumber of missing values in 'Embarked': {missing_embarked}\")\n",
        "\n",
        "most_frequent_embarked = df['Embarked'].mode()[0]\n",
        "df['Embarked'] = df['Embarked'].fillna(most_frequent_embarked)\n",
        "\n",
        "missing_embarked_after = df['Embarked'].isnull().sum()\n",
        "print(f\"\\nNumber of missing values in 'Embarked' after replacement: {missing_embarked_after}\")\n",
        "\n",
        "updated_embarked_counts = df['Embarked'].value_counts()\n",
        "print(\"\\nUpdated Value Counts for 'Embarked':\")\n",
        "print(updated_embarked_counts)\n"
      ],
      "metadata": {
        "colab": {
          "base_uri": "https://localhost:8080/"
        },
        "id": "FEhM8vds6MPQ",
        "outputId": "50e1de71-9069-401b-d644-0f7afeb381ad"
      },
      "execution_count": 13,
      "outputs": [
        {
          "output_type": "stream",
          "name": "stdout",
          "text": [
            "Value Counts for 'Embarked':\n",
            "Embarked\n",
            "S    644\n",
            "C    168\n",
            "Q     77\n",
            "Name: count, dtype: int64\n",
            "\n",
            "Number of missing values in 'Embarked': 2\n",
            "\n",
            "Number of missing values in 'Embarked' after replacement: 0\n",
            "\n",
            "Updated Value Counts for 'Embarked':\n",
            "Embarked\n",
            "S    646\n",
            "C    168\n",
            "Q     77\n",
            "Name: count, dtype: int64\n"
          ]
        }
      ]
    },
    {
      "cell_type": "markdown",
      "source": [
        "2. Add these new columns to the original DataFrame."
      ],
      "metadata": {
        "id": "iK9M75Hs6cWz"
      }
    },
    {
      "cell_type": "code",
      "source": [
        "import pandas as pd\n",
        "\n",
        "df = pd.read_csv(\"/content/drive/My Drive/second year/titanic.csv\")\n",
        "\n",
        "most_frequent_embarked = df['Embarked'].mode()[0]\n",
        "df['Embarked'] = df['Embarked'].fillna(most_frequent_embarked)\n",
        "\n",
        "df['Embarked_Full'] = df['Embarked'].replace({'C': 'Cherbourg', 'Q': 'Queenstown', 'S': 'Southampton'})\n",
        "\n",
        "df['Embarked_Cherbourg'] = df['Embarked'] == 'C'\n",
        "\n",
        "print(df[['Embarked', 'Embarked_Full', 'Embarked_Cherbourg']].head())\n"
      ],
      "metadata": {
        "colab": {
          "base_uri": "https://localhost:8080/"
        },
        "id": "tSq5QoD-6ep7",
        "outputId": "70062dca-fe3a-4fbd-8c9d-f884439a1498"
      },
      "execution_count": 14,
      "outputs": [
        {
          "output_type": "stream",
          "name": "stdout",
          "text": [
            "  Embarked Embarked_Full  Embarked_Cherbourg\n",
            "0        S   Southampton               False\n",
            "1        C     Cherbourg                True\n",
            "2        S   Southampton               False\n",
            "3        S   Southampton               False\n",
            "4        S   Southampton               False\n"
          ]
        }
      ]
    },
    {
      "cell_type": "markdown",
      "source": [
        "3. Drop the original ’Embarked’ column."
      ],
      "metadata": {
        "id": "98J4-wC76mfh"
      }
    },
    {
      "cell_type": "code",
      "source": [
        "import pandas as pd\n",
        "\n",
        "\n",
        "dataset = pd.read_csv('/content/drive/My Drive/second year/titanic.csv')\n",
        "\n",
        "\n",
        "dataset = dataset.drop('Embarked', axis=1)\n",
        "\n",
        "print(\"Columns after dropping 'Embarked':\")\n",
        "print(dataset.columns)\n"
      ],
      "metadata": {
        "colab": {
          "base_uri": "https://localhost:8080/"
        },
        "id": "DTAXg0ei6pd2",
        "outputId": "eb38e541-6c61-481b-c6f8-4cf03bd0590f"
      },
      "execution_count": 17,
      "outputs": [
        {
          "output_type": "stream",
          "name": "stdout",
          "text": [
            "Columns after dropping 'Embarked':\n",
            "Index(['PassengerId', 'Survived', 'Pclass', 'Name', 'Sex', 'Age', 'SibSp',\n",
            "       'Parch', 'Ticket', 'Fare', 'Cabin'],\n",
            "      dtype='object')\n"
          ]
        }
      ]
    },
    {
      "cell_type": "markdown",
      "source": [
        "4. Print the first few rows of the modified DataFrame to verify the changes.\n",
        "\n",
        "---\n",
        "\n"
      ],
      "metadata": {
        "id": "miWofdev6wSD"
      }
    },
    {
      "cell_type": "code",
      "source": [
        "import pandas as pd\n",
        "\n",
        "dataset = pd.read_csv('/content/drive/My Drive/second year/titanic.csv')\n",
        "\n",
        "\n",
        "dataset = dataset.drop('Embarked', axis=1)\n",
        "\n",
        "print(\"First few rows of the modified DataFrame:\")\n",
        "print(dataset.head())\n"
      ],
      "metadata": {
        "colab": {
          "base_uri": "https://localhost:8080/"
        },
        "id": "tK2pf1Y16zkv",
        "outputId": "2beb49d9-7873-47da-ea7d-f875b3202740"
      },
      "execution_count": 18,
      "outputs": [
        {
          "output_type": "stream",
          "name": "stdout",
          "text": [
            "First few rows of the modified DataFrame:\n",
            "   PassengerId  Survived  Pclass  \\\n",
            "0            1         0       3   \n",
            "1            2         1       1   \n",
            "2            3         1       3   \n",
            "3            4         1       1   \n",
            "4            5         0       3   \n",
            "\n",
            "                                                Name     Sex   Age  SibSp  \\\n",
            "0                            Braund, Mr. Owen Harris    male  22.0      1   \n",
            "1  Cumings, Mrs. John Bradley (Florence Briggs Th...  female  38.0      1   \n",
            "2                             Heikkinen, Miss. Laina  female  26.0      0   \n",
            "3       Futrelle, Mrs. Jacques Heath (Lily May Peel)  female  35.0      1   \n",
            "4                           Allen, Mr. William Henry    male  35.0      0   \n",
            "\n",
            "   Parch            Ticket     Fare Cabin  \n",
            "0      0         A/5 21171   7.2500   NaN  \n",
            "1      0          PC 17599  71.2833   C85  \n",
            "2      0  STON/O2. 3101282   7.9250   NaN  \n",
            "3      0            113803  53.1000  C123  \n",
            "4      0            373450   8.0500   NaN  \n"
          ]
        }
      ]
    },
    {
      "cell_type": "markdown",
      "source": [
        "Problem - 4:\n",
        "\n",
        "Compare the mean survival rates (’Survived’) for the different groups in the ’Sex’ column. Draw a visual-\n",
        "ization to show how the survival distributions vary by gender."
      ],
      "metadata": {
        "id": "vqkom-ac67PY"
      }
    },
    {
      "cell_type": "code",
      "source": [
        "import pandas as pd\n",
        "import seaborn as sns\n",
        "import matplotlib.pyplot as plt\n",
        "\n",
        "\n",
        "dataset = pd.read_csv('/content/drive/My Drive/second year/titanic.csv')\n",
        "\n",
        "mean_survival_by_gender = dataset.groupby('Sex')['Survived'].mean()\n",
        "\n",
        "print(\"Mean Survival Rates by Gender:\")\n",
        "print(mean_survival_by_gender)\n",
        "\n",
        "\n",
        "plt.figure(figsize=(8, 6))\n",
        "sns.countplot(x='Sex', hue='Survived', data=dataset, palette='Set2')\n",
        "\n",
        "\n",
        "plt.title('Survival Distribution by Gender', fontsize=16)\n",
        "plt.xlabel('Gender', fontsize=12)\n",
        "plt.ylabel('Number of Passengers', fontsize=12)\n",
        "plt.legend(title='Survived', labels=['Did Not Survive', 'Survived'])\n",
        "plt.show()\n"
      ],
      "metadata": {
        "colab": {
          "base_uri": "https://localhost:8080/",
          "height": 655
        },
        "id": "A8964KEz6-Yq",
        "outputId": "78c8d3d7-95f6-4cfb-a317-1419ad00059b"
      },
      "execution_count": 19,
      "outputs": [
        {
          "output_type": "stream",
          "name": "stdout",
          "text": [
            "Mean Survival Rates by Gender:\n",
            "Sex\n",
            "female    0.742038\n",
            "male      0.188908\n",
            "Name: Survived, dtype: float64\n"
          ]
        },
        {
          "output_type": "display_data",
          "data": {
            "text/plain": [
              "<Figure size 800x600 with 1 Axes>"
            ],
            "image/png": "[encoded data removed]"
          },
          "metadata": {}
        }
      ]
    },
    {
      "cell_type": "markdown",
      "source": [
        "Problem - 5:\n",
        "\n",
        "Draw a visualization that breaks your visualization from Exercise 3 down by the port of embarkation (’Em-\n",
        "barked’). In this instance, compare the ports ’C’ (Cherbourg), ’Q’ (Queenstown), and ’S’ (Southampton)."
      ],
      "metadata": {
        "id": "zYvBelR87M7c"
      }
    },
    {
      "cell_type": "code",
      "source": [
        "import pandas as pd\n",
        "import seaborn as sns\n",
        "import matplotlib.pyplot as plt\n",
        "\n",
        "# Load the Titanic dataset\n",
        "dataset = pd.read_csv('/content/drive/My Drive/second year/titanic.csv')\n",
        "\n",
        "# Filter out only relevant ports 'C', 'Q', and 'S' for Embarked\n",
        "dataset_filtered = dataset[dataset['Embarked'].isin(['C', 'Q', 'S'])]\n",
        "\n",
        "# Create a visualization for survival distribution by gender and port of embarkation\n",
        "plt.figure(figsize=(10, 6))\n",
        "sns.countplot(x='Sex', hue='Embarked', data=dataset_filtered, palette='Set2', dodge=True)\n",
        "\n",
        "# Add titles and labels\n",
        "plt.title('Survival Distribution by Gender and Port of Embarkation', fontsize=16)\n",
        "plt.xlabel('Gender', fontsize=12)\n",
        "plt.ylabel('Number of Passengers', fontsize=12)\n",
        "plt.legend(title='Port of Embarkation', labels=['Cherbourg (C)', 'Queenstown (Q)', 'Southampton (S)'])\n",
        "plt.show()\n"
      ],
      "metadata": {
        "colab": {
          "base_uri": "https://localhost:8080/",
          "height": 570
        },
        "id": "MtGdf7kD7NrC",
        "outputId": "3bfcbe76-c941-4d30-bf8b-03c55acc703d"
      },
      "execution_count": 21,
      "outputs": [
        {
          "output_type": "display_data",
          "data": {
            "text/plain": [
              "<Figure size 1000x600 with 1 Axes>"
            ],
            "image/png": "[encoded data removed]"
          },
          "metadata": {}
        }
      ]
    },
    {
      "cell_type": "markdown",
      "source": [
        "Problem - 6\n",
        "{Optional}:\n",
        "\n",
        "Show how the survival rates (’Survived’) vary by age group and passenger class (’Pclass’). Break up the\n",
        "’Age’ column into five quantiles in your DataFrame, and then compare the means of ’Survived’ by class\n",
        "and age group. Draw a visualization using a any plotting library to represent this graphically."
      ],
      "metadata": {
        "id": "vUkKiGeiHi2l"
      }
    },
    {
      "cell_type": "code",
      "source": [
        "import pandas as pd\n",
        "import seaborn as sns\n",
        "import matplotlib.pyplot as plt\n",
        "\n",
        "\n",
        "dataset = '/content/drive/My Drive/second year/titanic.csv'\n",
        "titanic = pd.read_csv(dataset)\n",
        "\n",
        "\n",
        "titanic = titanic.dropna(subset=['Age', 'Survived'])\n",
        "\n",
        "\n",
        "titanic['AgeGroup'] = pd.qcut(titanic['Age'], q=5, labels=['Q1', 'Q2', 'Q3', 'Q4', 'Q5'])\n",
        "\n",
        "grouped = titanic.groupby(['Pclass', 'AgeGroup'])['Survived'].mean().reset_index()\n",
        "\n",
        "\n",
        "pivot_table = grouped.pivot(index='AgeGroup', columns='Pclass', values='Survived')\n",
        "\n",
        "\n",
        "plt.figure(figsize=(10, 6))\n",
        "sns.heatmap(\n",
        "    pivot_table,\n",
        "    annot=True,\n",
        "    cmap='YlGnBu',\n",
        "    fmt=\".2f\",\n",
        "    cbar_kws={'label': 'Survival Rate'}\n",
        ")\n",
        "\n",
        "plt.title('Survival Rates by Age Group and Passenger Class', fontsize=16)\n",
        "plt.xlabel('Passenger Class', fontsize=12)\n",
        "plt.ylabel('Age Group (Quantiles)', fontsize=12)\n",
        "plt.show()\n"
      ],
      "metadata": {
        "colab": {
          "base_uri": "https://localhost:8080/",
          "height": 624
        },
        "id": "2cwiqQRRHjTa",
        "outputId": "b9645854-464c-475c-ebaa-00fcf7fa9b51"
      },
      "execution_count": 4,
      "outputs": [
        {
          "output_type": "stream",
          "name": "stderr",
          "text": [
            "<ipython-input-4-c7bb15b3a8ca>:15: FutureWarning: The default of observed=False is deprecated and will be changed to True in a future version of pandas. Pass observed=False to retain current behavior or observed=True to adopt the future default and silence this warning.\n",
            "  grouped = titanic.groupby(['Pclass', 'AgeGroup'])['Survived'].mean().reset_index()\n"
          ]
        },
        {
          "output_type": "display_data",
          "data": {
            "text/plain": [
              "<Figure size 1000x600 with 2 Axes>"
            ],
            "image/png": "[encoded data removed]"
          },
          "metadata": {}
        }
      ]
    }
  ]
}