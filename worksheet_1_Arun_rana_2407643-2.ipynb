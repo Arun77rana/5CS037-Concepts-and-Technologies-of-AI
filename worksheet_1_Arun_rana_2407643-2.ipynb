{
  "nbformat": 4,
  "nbformat_minor": 0,
  "metadata": {
    "colab": {
      "provenance": []
    },
    "kernelspec": {
      "name": "python3",
      "display_name": "Python 3"
    },
    "language_info": {
      "name": "python"
    }
  },
  "cells": [
    {
      "cell_type": "markdown",
      "source": [],
      "metadata": {
        "id": "Fc3CyVzATkf9"
      }
    },
    {
      "cell_type": "markdown",
      "source": [
        "Tas to do"
      ],
      "metadata": {
        "id": "YVb9vBzNTR_E"
      }
    },
    {
      "cell_type": "markdown",
      "source": [
        "4.1.   Problem _1    Array creation\n"
      ],
      "metadata": {
        "id": "rT9ndJaQTnGI"
      }
    },
    {
      "cell_type": "markdown",
      "source": [
        " 1. Initialize an empty array with size 2X2."
      ],
      "metadata": {
        "id": "_7-jPNUyT7FR"
      }
    },
    {
      "cell_type": "code",
      "source": [
        "from google.colab import drive\n",
        "drive.mount('/content/drive')"
      ],
      "metadata": {
        "colab": {
          "base_uri": "https://localhost:8080/"
        },
        "id": "l4mfGZwGVUX2",
        "outputId": "0a1d8db3-db62-4202-c43d-182bd11398fe"
      },
      "execution_count": null,
      "outputs": [
        {
          "output_type": "stream",
          "name": "stdout",
          "text": [
            "Drive already mounted at /content/drive; to attempt to forcibly remount, call drive.mount(\"/content/drive\", force_remount=True).\n"
          ]
        }
      ]
    },
    {
      "cell_type": "code",
      "source": [
        "import numpy as np\n",
        "x = np.zeros([2,2], dtype = int)\n",
        "print(x);\n"
      ],
      "metadata": {
        "colab": {
          "base_uri": "https://localhost:8080/"
        },
        "id": "FYYaaEMqT4_r",
        "outputId": "4e9c072e-744f-4238-e4e3-ce9572d97549"
      },
      "execution_count": null,
      "outputs": [
        {
          "output_type": "stream",
          "name": "stdout",
          "text": [
            "[[0 0]\n",
            " [0 0]]\n"
          ]
        }
      ]
    },
    {
      "cell_type": "markdown",
      "source": [
        "2. Initialize an all one array with size 4X2."
      ],
      "metadata": {
        "id": "gtEBnn_5UQJL"
      }
    },
    {
      "cell_type": "code",
      "source": [
        "import numpy as np\n",
        "x = np.ones([4,2], dtype = int)\n",
        "print(x);"
      ],
      "metadata": {
        "colab": {
          "base_uri": "https://localhost:8080/"
        },
        "id": "7rEA1lGfUUsl",
        "outputId": "aa46a099-7336-467a-f3dd-834963190e42"
      },
      "execution_count": null,
      "outputs": [
        {
          "output_type": "stream",
          "name": "stdout",
          "text": [
            "[[1 1]\n",
            " [1 1]\n",
            " [1 1]\n",
            " [1 1]]\n"
          ]
        }
      ]
    },
    {
      "cell_type": "markdown",
      "source": [
        "3. Return a new array of given shape and type, filled with fill value.{Hint: np.full}"
      ],
      "metadata": {
        "id": "3fPjnnvIUkWZ"
      }
    },
    {
      "cell_type": "code",
      "source": [
        "import numpy as np\n",
        "\n",
        "shape = (3, 4)\n",
        "fill_value = 7\n",
        "dtype = int\n",
        "\n",
        "filled_array = np.full(shape, fill_value, dtype=dtype)\n",
        "\n",
        "print(\"Array filled with value:\")\n",
        "print(filled_array)\n"
      ],
      "metadata": {
        "colab": {
          "base_uri": "https://localhost:8080/"
        },
        "id": "D8V2M6MVUoQo",
        "outputId": "5e7110cb-7521-48f7-fb74-94aac9968713"
      },
      "execution_count": null,
      "outputs": [
        {
          "output_type": "stream",
          "name": "stdout",
          "text": [
            "Array filled with value:\n",
            "[[7 7 7 7]\n",
            " [7 7 7 7]\n",
            " [7 7 7 7]]\n"
          ]
        }
      ]
    },
    {
      "cell_type": "markdown",
      "source": [
        "4. Return a new array of zeros with same shape and type as a given array.{Hint: np.zeros like}"
      ],
      "metadata": {
        "id": "XQwQtBlAUwhB"
      }
    },
    {
      "cell_type": "code",
      "source": [
        "import numpy as np\n",
        "\n",
        "\n",
        "original_array = np.array([[1, 2, 3], [4, 5, 6]])\n",
        "\n",
        "zeros_array = np.zeros_like(original_array)\n",
        "\n",
        "print(\"Original array:\")\n",
        "print(original_array)\n",
        "print(\"\\nZeros array:\")\n",
        "print(zeros_array)\n"
      ],
      "metadata": {
        "colab": {
          "base_uri": "https://localhost:8080/"
        },
        "id": "pWhMVV5LUzPh",
        "outputId": "31db2263-8bee-498a-de0a-04b70dbae569"
      },
      "execution_count": null,
      "outputs": [
        {
          "output_type": "stream",
          "name": "stdout",
          "text": [
            "Original array:\n",
            "[[1 2 3]\n",
            " [4 5 6]]\n",
            "\n",
            "Zeros array:\n",
            "[[0 0 0]\n",
            " [0 0 0]]\n"
          ]
        }
      ]
    },
    {
      "cell_type": "markdown",
      "source": [
        "5. Return a new array of ones with same shape and type as a given array.{Hint: np.ones like}"
      ],
      "metadata": {
        "id": "-EMqhr5GVx89"
      }
    },
    {
      "cell_type": "code",
      "source": [
        "import numpy as np\n",
        "original_array = np.array([[5,6,7],[8,9,2]])\n",
        "ones_array = np.ones_like(original_array)\n",
        "print(\"Original array:\")\n",
        "print(original_array)\n",
        "print(\"\\nOnes array:\")\n",
        "print(ones_array)\n"
      ],
      "metadata": {
        "colab": {
          "base_uri": "https://localhost:8080/"
        },
        "id": "HVWx4AuLV4Gb",
        "outputId": "a840b2a2-cbd6-4b41-9d5b-65385e62bb61"
      },
      "execution_count": null,
      "outputs": [
        {
          "output_type": "stream",
          "name": "stdout",
          "text": [
            "Original array:\n",
            "[[5 6 7]\n",
            " [8 9 2]]\n",
            "\n",
            "Ones array:\n",
            "[[1 1 1]\n",
            " [1 1 1]]\n"
          ]
        }
      ]
    },
    {
      "cell_type": "markdown",
      "source": [
        "6. For an existing list new_list = [1,2,3,4] convert to an numpy array.{Hint: np.array()}"
      ],
      "metadata": {
        "id": "_sA7TucaZcBK"
      }
    },
    {
      "cell_type": "code",
      "source": [
        "import numpy as np\n",
        "new_list = [1,2,3,4]\n",
        "numpy_array = np.array(new_list)\n",
        "original_array = np.array(new_list)\n",
        "print(\"Original list:\")\n",
        "print(new_list)\n",
        "print(\"\\nNumpy array:\")\n",
        "print( numpy_array)"
      ],
      "metadata": {
        "colab": {
          "base_uri": "https://localhost:8080/"
        },
        "id": "2UntxpIzZgXi",
        "outputId": "40685fd4-f0ea-4f4e-e9d4-d109d21d8466"
      },
      "execution_count": null,
      "outputs": [
        {
          "output_type": "stream",
          "name": "stdout",
          "text": [
            "Original list:\n",
            "[1, 2, 3, 4]\n",
            "\n",
            "Numpy array:\n",
            "[1 2 3 4]\n"
          ]
        }
      ]
    },
    {
      "cell_type": "markdown",
      "source": [
        "4.1.1 Problem - 2: Array Manipulation: Numerical Ranges and Array indexing:"
      ],
      "metadata": {
        "id": "AgpbxDtwamqq"
      }
    },
    {
      "cell_type": "markdown",
      "source": [
        "1. Create an array with values ranging from 10 to 49. {Hint:np.arrange()}."
      ],
      "metadata": {
        "id": "dHTC-ZLVaqkZ"
      }
    },
    {
      "cell_type": "code",
      "source": [
        "import numpy as np\n",
        "\n",
        "array = np.arange(10, 50)\n",
        "\n",
        "print(\"Array with values from 10 to 49:\")\n",
        "print(array)\n"
      ],
      "metadata": {
        "id": "gJ70euxwazGe",
        "colab": {
          "base_uri": "https://localhost:8080/"
        },
        "outputId": "e64b975f-bd7a-41bc-cdf3-9e044425708a"
      },
      "execution_count": null,
      "outputs": [
        {
          "output_type": "stream",
          "name": "stdout",
          "text": [
            "Array with values from 10 to 49:\n",
            "[10 11 12 13 14 15 16 17 18 19 20 21 22 23 24 25 26 27 28 29 30 31 32 33\n",
            " 34 35 36 37 38 39 40 41 42 43 44 45 46 47 48 49]\n"
          ]
        }
      ]
    },
    {
      "cell_type": "markdown",
      "source": [
        "2. Create a 3X3 matrix with values ranging from 0 to 8.\n",
        "{Hint:look for np.reshape()}"
      ],
      "metadata": {
        "id": "gbwlUx1Lnj2Y"
      }
    },
    {
      "cell_type": "code",
      "source": [
        "import numpy as np\n",
        "\n",
        "array = np.arange(9)\n",
        "\n",
        "\n",
        "matrix = array.reshape(3, 3)\n",
        "\n",
        "print(\"3x3 Matrix with values from 0 to 8:\")\n",
        "print(matrix)\n"
      ],
      "metadata": {
        "colab": {
          "base_uri": "https://localhost:8080/"
        },
        "id": "vU_4lEHXnR2q",
        "outputId": "11793f38-31a6-4743-af8b-26aa716e371b"
      },
      "execution_count": null,
      "outputs": [
        {
          "output_type": "stream",
          "name": "stdout",
          "text": [
            "3x3 Matrix with values from 0 to 8:\n",
            "[[0 1 2]\n",
            " [3 4 5]\n",
            " [6 7 8]]\n"
          ]
        }
      ]
    },
    {
      "cell_type": "markdown",
      "source": [
        "3. Create a 3X3 identity matrix.{Hint:np.eye()}"
      ],
      "metadata": {
        "id": "dimUjW5knwyy"
      }
    },
    {
      "cell_type": "code",
      "source": [
        "import numpy as np\n",
        "\n",
        "identity_matrix = np.eye(3)\n",
        "\n",
        "print(\"3x3 Identity Matrix:\")\n",
        "print(identity_matrix)\n"
      ],
      "metadata": {
        "colab": {
          "base_uri": "https://localhost:8080/"
        },
        "id": "ukOCS4DVnzv2",
        "outputId": "132c5c16-a3ba-4ac4-ad3b-6311b85b04ff"
      },
      "execution_count": null,
      "outputs": [
        {
          "output_type": "stream",
          "name": "stdout",
          "text": [
            "3x3 Identity Matrix:\n",
            "[[1. 0. 0.]\n",
            " [0. 1. 0.]\n",
            " [0. 0. 1.]]\n"
          ]
        }
      ]
    },
    {
      "cell_type": "markdown",
      "source": [
        "4. Create a random array of size 30 and find the mean of the array.\n",
        "{Hint:check for np.random.random() and array.mean() function}"
      ],
      "metadata": {
        "id": "Z_yxgH0GoIDp"
      }
    },
    {
      "cell_type": "code",
      "source": [
        "import numpy as np\n",
        "\n",
        "\n",
        "random_array = np.random.random(30)\n",
        "\n",
        "mean_value = random_array.mean()\n",
        "\n",
        "print(\"Random Array:\")\n",
        "print(random_array)\n",
        "print(\"\\nMean of the Array:\")\n",
        "print(mean_value)\n"
      ],
      "metadata": {
        "colab": {
          "base_uri": "https://localhost:8080/"
        },
        "id": "P86eGTAcoLW1",
        "outputId": "efa6fc2b-61f1-425c-93ab-67811d324716"
      },
      "execution_count": null,
      "outputs": [
        {
          "output_type": "stream",
          "name": "stdout",
          "text": [
            "Random Array:\n",
            "[0.15208584 0.26668232 0.71787    0.43713699 0.75254786 0.45188989\n",
            " 0.22833184 0.7807389  0.58191355 0.48689309 0.7461222  0.03723109\n",
            " 0.86833038 0.67939889 0.19799411 0.44483336 0.21788483 0.43297951\n",
            " 0.64594085 0.13735472 0.26380912 0.67775992 0.21326572 0.01377172\n",
            " 0.42787125 0.93247775 0.35176221 0.07137595 0.72026597 0.11630608]\n",
            "\n",
            "Mean of the Array:\n",
            "0.4350941968848215\n"
          ]
        }
      ]
    },
    {
      "cell_type": "markdown",
      "source": [
        "5. Create a 10X10 array with random values and find the minimum and maximum values."
      ],
      "metadata": {
        "id": "nNmwrZwAoPKD"
      }
    },
    {
      "cell_type": "code",
      "source": [
        "import numpy as np\n",
        "\n",
        "\n",
        "random_array = np.random.random((10, 10))\n",
        "\n",
        "min_value = random_array.min()\n",
        "max_value = random_array.max()\n",
        "\n",
        "print(\"10x10 Array with Random Values:\")\n",
        "print(random_array)\n",
        "print(\"\\nMinimum Value:\", min_value)\n",
        "print(\"Maximum Value:\", max_value)\n"
      ],
      "metadata": {
        "colab": {
          "base_uri": "https://localhost:8080/"
        },
        "id": "JJhZhLJdoRNU",
        "outputId": "51d69a84-2543-438b-a39a-e1fdf1d844a2"
      },
      "execution_count": null,
      "outputs": [
        {
          "output_type": "stream",
          "name": "stdout",
          "text": [
            "10x10 Array with Random Values:\n",
            "[[0.93371008 0.55716051 0.51342657 0.68345928 0.46329718 0.49177247\n",
            "  0.90410897 0.76067238 0.3163791  0.96018298]\n",
            " [0.25287885 0.13738822 0.14299225 0.60997759 0.47840725 0.10512721\n",
            "  0.96231079 0.03315396 0.01678321 0.83045585]\n",
            " [0.49639181 0.51951108 0.30991669 0.67391307 0.84844639 0.11902398\n",
            "  0.24537769 0.944504   0.61574952 0.06548694]\n",
            " [0.14826371 0.2067076  0.48547246 0.37523499 0.33517457 0.73305656\n",
            "  0.68783451 0.25745594 0.29690983 0.75542416]\n",
            " [0.71428228 0.56963719 0.31374776 0.90387933 0.41782015 0.29774008\n",
            "  0.20311129 0.56191565 0.49641452 0.60282795]\n",
            " [0.66438064 0.91291729 0.14848448 0.59832752 0.16969745 0.49026439\n",
            "  0.29398491 0.32056619 0.38357162 0.87597549]\n",
            " [0.4484232  0.05121408 0.83398432 0.22257176 0.45510796 0.73417659\n",
            "  0.98399259 0.73598492 0.37276463 0.72239087]\n",
            " [0.80186845 0.83138805 0.49403173 0.17009442 0.82106046 0.49004748\n",
            "  0.51144446 0.15680391 0.02346784 0.1038327 ]\n",
            " [0.99914911 0.43078019 0.96683454 0.79568058 0.40175625 0.21619062\n",
            "  0.83749667 0.37225531 0.79340178 0.00732378]\n",
            " [0.23251982 0.41927987 0.57096613 0.78825449 0.00678778 0.34209769\n",
            "  0.99170075 0.77310935 0.14652639 0.18928222]]\n",
            "\n",
            "Minimum Value: 0.006787778615480744\n",
            "Maximum Value: 0.9991491122174255\n"
          ]
        }
      ]
    },
    {
      "cell_type": "markdown",
      "source": [
        "6. Create a zero array of size 10 and replace 5th element with 1."
      ],
      "metadata": {
        "id": "oNzW0dmYoRmT"
      }
    },
    {
      "cell_type": "code",
      "source": [
        "import numpy as np\n",
        "\n",
        "zero_array = np.zeros(10)\n",
        "\n",
        "zero_array[4] = 1\n",
        "\n",
        "print(\"Modified Array:\")\n",
        "print(zero_array)\n"
      ],
      "metadata": {
        "colab": {
          "base_uri": "https://localhost:8080/"
        },
        "id": "54X08PI1opC3",
        "outputId": "158ec39b-067d-46d2-b8a5-04aa133e26f4"
      },
      "execution_count": null,
      "outputs": [
        {
          "output_type": "stream",
          "name": "stdout",
          "text": [
            "Modified Array:\n",
            "[0. 0. 0. 0. 1. 0. 0. 0. 0. 0.]\n"
          ]
        }
      ]
    },
    {
      "cell_type": "markdown",
      "source": [
        "7. Reverse an array arr = [1,2,0,0,4,0]."
      ],
      "metadata": {
        "id": "MsmWIc3mo2nI"
      }
    },
    {
      "cell_type": "code",
      "source": [
        "import numpy as np\n",
        "\n",
        "arr = np.array([1, 2, 0, 0, 4, 0])\n",
        "\n",
        "reversed_arr = arr[::-1]\n",
        "\n",
        "print(\"Original Array:\")\n",
        "print(arr)\n",
        "print(\"\\nReversed Array:\")\n",
        "print(reversed_arr)\n"
      ],
      "metadata": {
        "colab": {
          "base_uri": "https://localhost:8080/"
        },
        "id": "wdU-vpJzo6Db",
        "outputId": "2e4dc63e-0f77-4f89-fade-85915fe0e1dd"
      },
      "execution_count": null,
      "outputs": [
        {
          "output_type": "stream",
          "name": "stdout",
          "text": [
            "Original Array:\n",
            "[1 2 0 0 4 0]\n",
            "\n",
            "Reversed Array:\n",
            "[0 4 0 0 2 1]\n"
          ]
        }
      ]
    },
    {
      "cell_type": "markdown",
      "source": [
        "8. Create a 2d array with 1 on border and 0 inside."
      ],
      "metadata": {
        "id": "PEfW3BlopURp"
      }
    },
    {
      "cell_type": "code",
      "source": [
        "import numpy as np\n",
        "\n",
        "\n",
        "array = np.ones((5, 5), dtype=int)\n",
        "\n",
        "\n",
        "array[1:-1, 1:-1] = 0\n",
        "\n",
        "print(\"2D Array with 1s on the border and 0s inside:\")\n",
        "print(array)\n"
      ],
      "metadata": {
        "colab": {
          "base_uri": "https://localhost:8080/"
        },
        "id": "FVowr18bpW8c",
        "outputId": "9b64767e-e693-49a5-847d-04e8170185ec"
      },
      "execution_count": null,
      "outputs": [
        {
          "output_type": "stream",
          "name": "stdout",
          "text": [
            "2D Array with 1s on the border and 0s inside:\n",
            "[[1 1 1 1 1]\n",
            " [1 0 0 0 1]\n",
            " [1 0 0 0 1]\n",
            " [1 0 0 0 1]\n",
            " [1 1 1 1 1]]\n"
          ]
        }
      ]
    },
    {
      "cell_type": "markdown",
      "source": [
        "9. Create a 8X8 matrix and fill it with a checkerboard pattern."
      ],
      "metadata": {
        "id": "9p5xiVDvpfLR"
      }
    },
    {
      "cell_type": "code",
      "source": [
        "import numpy as np\n",
        "\n",
        "checkerboard = np.zeros((8, 8), dtype=int)\n",
        "\n",
        "\n",
        "checkerboard[::2, ::2] = 1\n",
        "checkerboard[1::2, 1::2] = 1\n",
        "\n",
        "print(\"8x8 Checkerboard Pattern:\")\n",
        "print(checkerboard)\n"
      ],
      "metadata": {
        "colab": {
          "base_uri": "https://localhost:8080/"
        },
        "id": "MCqGCou-pfjf",
        "outputId": "7b135d1f-49d7-4612-c970-a8f184909b0e"
      },
      "execution_count": null,
      "outputs": [
        {
          "output_type": "stream",
          "name": "stdout",
          "text": [
            "8x8 Checkerboard Pattern:\n",
            "[[1 0 1 0 1 0 1 0]\n",
            " [0 1 0 1 0 1 0 1]\n",
            " [1 0 1 0 1 0 1 0]\n",
            " [0 1 0 1 0 1 0 1]\n",
            " [1 0 1 0 1 0 1 0]\n",
            " [0 1 0 1 0 1 0 1]\n",
            " [1 0 1 0 1 0 1 0]\n",
            " [0 1 0 1 0 1 0 1]]\n"
          ]
        }
      ]
    },
    {
      "cell_type": "markdown",
      "source": [
        "Problem - 3: Array Operations:\n",
        "\n",
        "For the following arrays:\n",
        "x = np.array([[1,2],[3,5]]) and y = np.array([[5,6],[7,8]]);\n",
        "v = np.array([9,10]) and w = np.array([11,12]);"
      ],
      "metadata": {
        "id": "om5HLqPrpxea"
      }
    },
    {
      "cell_type": "markdown",
      "source": [
        "1. Add the two array."
      ],
      "metadata": {
        "id": "GLlpI-Fdp3kQ"
      }
    },
    {
      "cell_type": "code",
      "source": [
        "import numpy as np\n",
        "\n",
        "\n",
        "array1 = np.array([1, 2, 3])\n",
        "array2 = np.array([4, 5, 6])\n",
        "\n",
        "\n",
        "sum_array = array1 + array2\n",
        "\n",
        "print(\"Array 1:\")\n",
        "print(array1)\n",
        "\n",
        "print(\"\\nArray 2:\")\n",
        "print(array2)\n",
        "\n",
        "print(\"\\nSum of the Arrays:\")\n",
        "print(sum_array)\n"
      ],
      "metadata": {
        "colab": {
          "base_uri": "https://localhost:8080/"
        },
        "id": "IYeTDYnUqMsX",
        "outputId": "b0b0e5ab-b530-4ba5-c9ad-bdbd781d3e13"
      },
      "execution_count": null,
      "outputs": [
        {
          "output_type": "stream",
          "name": "stdout",
          "text": [
            "Array 1:\n",
            "[1 2 3]\n",
            "\n",
            "Array 2:\n",
            "[4 5 6]\n",
            "\n",
            "Sum of the Arrays:\n",
            "[5 7 9]\n"
          ]
        }
      ]
    },
    {
      "cell_type": "markdown",
      "source": [
        "2. Subtract the two array."
      ],
      "metadata": {
        "id": "hObUuMc3qWmP"
      }
    },
    {
      "cell_type": "code",
      "source": [
        "import numpy as np\n",
        "\n",
        "\n",
        "array1 = np.array([5, 10, 15])\n",
        "array2 = np.array([2, 3, 4])\n",
        "\n",
        "\n",
        "difference_array = array1 - array2\n",
        "\n",
        "print(\"Array 1:\")\n",
        "print(array1)\n",
        "\n",
        "print(\"\\nArray 2:\")\n",
        "print(array2)\n",
        "\n",
        "print(\"\\nDifference of the Arrays:\")\n",
        "print(difference_array)\n"
      ],
      "metadata": {
        "colab": {
          "base_uri": "https://localhost:8080/"
        },
        "id": "f7D2sNmTqZGI",
        "outputId": "5558c156-070d-4b9d-dcd5-7983ebfdb95b"
      },
      "execution_count": null,
      "outputs": [
        {
          "output_type": "stream",
          "name": "stdout",
          "text": [
            "Array 1:\n",
            "[ 5 10 15]\n",
            "\n",
            "Array 2:\n",
            "[2 3 4]\n",
            "\n",
            "Difference of the Arrays:\n",
            "[ 3  7 11]\n"
          ]
        }
      ]
    },
    {
      "cell_type": "markdown",
      "source": [
        "3. Multiply the array with any integers of your choice."
      ],
      "metadata": {
        "id": "5eMylIGdqw3d"
      }
    },
    {
      "cell_type": "code",
      "source": [
        "import numpy as np\n",
        "\n",
        "\n",
        "array = np.array([1, 2, 3, 4])\n",
        "\n",
        "\n",
        "multiplied_array = array * 3\n",
        "\n",
        "print(\"Original Array:\")\n",
        "print(array)\n",
        "\n",
        "print(\"\\nArray after multiplying by 3:\")\n",
        "print(multiplied_array)\n"
      ],
      "metadata": {
        "colab": {
          "base_uri": "https://localhost:8080/"
        },
        "id": "fs1Z3ECFq74Y",
        "outputId": "be90514b-199f-4ff4-a8bf-32f8198aecdb"
      },
      "execution_count": null,
      "outputs": [
        {
          "output_type": "stream",
          "name": "stdout",
          "text": [
            "Original Array:\n",
            "[1 2 3 4]\n",
            "\n",
            "Array after multiplying by 3:\n",
            "[ 3  6  9 12]\n"
          ]
        }
      ]
    },
    {
      "cell_type": "markdown",
      "source": [
        "4. Find the square of each element of the array."
      ],
      "metadata": {
        "id": "GTABdk_0rAUw"
      }
    },
    {
      "cell_type": "code",
      "source": [
        "import numpy as np\n",
        "\n",
        "\n",
        "array = np.array([1, 2, 3, 4])\n",
        "\n",
        "\n",
        "squared_array = array ** 2\n",
        "\n",
        "print(\"Original Array:\")\n",
        "print(array)\n",
        "\n",
        "print(\"\\nSquared Array:\")\n",
        "print(squared_array)\n"
      ],
      "metadata": {
        "colab": {
          "base_uri": "https://localhost:8080/"
        },
        "id": "CBK3V5pPrDyG",
        "outputId": "3dc8f746-6add-4000-8c9d-ea9a3875450f"
      },
      "execution_count": null,
      "outputs": [
        {
          "output_type": "stream",
          "name": "stdout",
          "text": [
            "Original Array:\n",
            "[1 2 3 4]\n",
            "\n",
            "Squared Array:\n",
            "[ 1  4  9 16]\n"
          ]
        }
      ]
    },
    {
      "cell_type": "markdown",
      "source": [
        "5. Find the dot product between: v(and)w ; x(and)v ; x(and)y."
      ],
      "metadata": {
        "id": "9jJ1mTl8rKRg"
      }
    },
    {
      "cell_type": "code",
      "source": [
        "import numpy as np\n",
        "\n",
        "\n",
        "v = np.array([1, 2])\n",
        "w = np.array([3, 4])\n",
        "x = np.array([5, 6])\n",
        "y = np.array([7, 8])\n",
        "\n",
        "\n",
        "dot_v_w = np.dot(v, w)\n",
        "dot_x_v = np.dot(x, v)\n",
        "dot_x_y = np.dot(x, y)\n",
        "\n",
        "\n",
        "print(\"Dot product of v and w:\", dot_v_w)\n",
        "print(\"Dot product of x and v:\", dot_x_v)\n",
        "print(\"Dot product of x and y:\", dot_x_y)\n"
      ],
      "metadata": {
        "colab": {
          "base_uri": "https://localhost:8080/"
        },
        "id": "8wmQSk0xrNe9",
        "outputId": "2a78be41-90e0-4194-a9d7-2a5bd5e89861"
      },
      "execution_count": null,
      "outputs": [
        {
          "output_type": "stream",
          "name": "stdout",
          "text": [
            "Dot product of v and w: 11\n",
            "Dot product of x and v: 17\n",
            "Dot product of x and y: 83\n"
          ]
        }
      ]
    },
    {
      "cell_type": "markdown",
      "source": [
        "6. Concatenate x(and)y along row and Concatenate v(and)w along column.\n",
        "{Hint:try np.concatenate() or np.vstack() functions."
      ],
      "metadata": {
        "id": "OP2aS7aArS2L"
      }
    },
    {
      "cell_type": "code",
      "source": [
        "import numpy as np\n",
        "\n",
        "v = np.array([1, 2])\n",
        "w = np.array([3, 4])\n",
        "x = np.array([5, 6])\n",
        "y = np.array([7, 8])\n",
        "\n",
        "\n",
        "concat_x_y = np.concatenate((x, y))\n",
        "\n",
        "\n",
        "concat_v_w = np.vstack((v, w))\n",
        "\n",
        "\n",
        "print(\"Concatenation of x and y along row:\")\n",
        "print(concat_x_y)\n",
        "\n",
        "print(\"\\nConcatenation of v and w along column:\")\n",
        "print(concat_v_w)\n"
      ],
      "metadata": {
        "colab": {
          "base_uri": "https://localhost:8080/"
        },
        "id": "e4Fx2lTQr2w8",
        "outputId": "0a2d46cc-b442-40a8-cab5-a3c41d9a0b00"
      },
      "execution_count": null,
      "outputs": [
        {
          "output_type": "stream",
          "name": "stdout",
          "text": [
            "Concatenation of x and y along row:\n",
            "[5 6 7 8]\n",
            "\n",
            "Concatenation of v and w along column:\n",
            "[[1 2]\n",
            " [3 4]]\n"
          ]
        }
      ]
    },
    {
      "cell_type": "markdown",
      "source": [
        "7. Concatenate x(and)v; if you get an error, observe and explain why did you get the error?"
      ],
      "metadata": {
        "id": "RX3L_o7TsHTj"
      }
    },
    {
      "cell_type": "code",
      "source": [
        "import numpy as np\n",
        "\n",
        "\n",
        "v = np.array([1, 2])\n",
        "x = np.array([5, 6])\n",
        "\n",
        "try:\n",
        "    concat_x_v = np.concatenate((x, v))\n",
        "    print(\"Concatenation of x and v:\")\n",
        "    print(concat_x_v)\n",
        "except ValueError as e:\n",
        "    print(f\"Error: {e}\")\n"
      ],
      "metadata": {
        "colab": {
          "base_uri": "https://localhost:8080/"
        },
        "id": "m6fhWWV_sLDJ",
        "outputId": "b67558ec-9c43-4ebf-b2ac-8e20a4cd70af"
      },
      "execution_count": null,
      "outputs": [
        {
          "output_type": "stream",
          "name": "stdout",
          "text": [
            "Concatenation of x and v:\n",
            "[5 6 1 2]\n"
          ]
        }
      ]
    },
    {
      "cell_type": "markdown",
      "source": [
        "No error in this case: The arrays x and v are both one-dimensional arrays of the same size, so they can be concatenated along the first axis (horizontally).\n",
        "Shape of x and v: Both x = [5, 6] and v = [1, 2] have the shape (2,), meaning they both have 2 elements, so they can be concatenated directly into a single array [5, 6, 1, 2].\n"
      ],
      "metadata": {
        "id": "Np2lsFsTscjg"
      }
    },
    {
      "cell_type": "markdown",
      "source": [
        "Problem - 4: Matrix Operations:"
      ],
      "metadata": {
        "id": "mjzCRa0MslCN"
      }
    },
    {
      "cell_type": "markdown",
      "source": [
        "• For the following arrays:\n",
        "A = np.array([[3,4],[7,8]]) and B = np.array([[5,3],[2,1]]);\n",
        "Prove following with Numpy:\n",
        "1. Prove A.A−1 = I.\n",
        "2. Prove AB ̸= BA.\n",
        "3. Prove (AB)T = BTAT."
      ],
      "metadata": {
        "id": "MY_7-4Klso07"
      }
    },
    {
      "cell_type": "code",
      "source": [
        "import numpy as np\n",
        "\n",
        "\n",
        "A = np.array([[3, 4], [7, 8]])\n",
        "B = np.array([[5, 3], [2, 1]])\n",
        "\n",
        "\n",
        "A_inv = np.linalg.inv(A)\n",
        "identity_matrix = np.dot(A, A_inv)\n",
        "\n",
        "\n",
        "AB = np.dot(A, B)\n",
        "BA = np.dot(B, A)\n",
        "\n",
        "\n",
        "AB_T = np.transpose(AB)\n",
        "B_T_A_T = np.dot(np.transpose(B), np.transpose(A))\n",
        "\n",
        "print(\"1. A * A^-1 (Identity Matrix):\\n\", identity_matrix)\n",
        "print(\"\\n2. AB:\\n\", AB)\n",
        "print(\"   BA:\\n\", BA)\n",
        "print(\"   AB == BA?\", np.array_equal(AB, BA))\n",
        "\n",
        "print(\"\\n3. (AB)^T:\\n\", AB_T)\n",
        "print(\"   B^T * A^T:\\n\", B_T_A_T)\n",
        "print(\"   (AB)^T == B^T * A^T?\", np.array_equal(AB_T, B_T_A_T))\n"
      ],
      "metadata": {
        "colab": {
          "base_uri": "https://localhost:8080/"
        },
        "id": "E3DjodEntAgm",
        "outputId": "64ab3c7d-11f3-47cd-b9d8-b83f56761ad5"
      },
      "execution_count": null,
      "outputs": [
        {
          "output_type": "stream",
          "name": "stdout",
          "text": [
            "1. A * A^-1 (Identity Matrix):\n",
            " [[1.00000000e+00 0.00000000e+00]\n",
            " [1.77635684e-15 1.00000000e+00]]\n",
            "\n",
            "2. AB:\n",
            " [[23 13]\n",
            " [51 29]]\n",
            "   BA:\n",
            " [[36 44]\n",
            " [13 16]]\n",
            "   AB == BA? False\n",
            "\n",
            "3. (AB)^T:\n",
            " [[23 51]\n",
            " [13 29]]\n",
            "   B^T * A^T:\n",
            " [[23 51]\n",
            " [13 29]]\n",
            "   (AB)^T == B^T * A^T? True\n"
          ]
        }
      ]
    },
    {
      "cell_type": "markdown",
      "source": [
        "Solve the following system of Linear equation using Inverse Methods.\n",
        "\n",
        "2x − 3y + z = −1\n",
        "x − y + 2z = −3\n",
        "3x + y − z = 9\n",
        "\n",
        "{Hint: First use Numpy array to represent the equation in Matrix form. Then Solve for: AX = B}"
      ],
      "metadata": {
        "id": "jI_vWa-ZtfDm"
      }
    },
    {
      "cell_type": "code",
      "source": [
        "import numpy as np\n",
        "\n",
        "\n",
        "A = np.array([[2, -3, 1],\n",
        "              [1, -1, 2],\n",
        "              [3, 1, -1]])\n",
        "\n",
        "\n",
        "B = np.array([-1, -3, 9])\n",
        "\n",
        "\n",
        "A_inv = np.linalg.inv(A)\n",
        "\n",
        "\n",
        "X = np.dot(A_inv, B)\n",
        "\n",
        "\n",
        "print(\"Solution (x, y, z):\")\n",
        "print(X)\n"
      ],
      "metadata": {
        "colab": {
          "base_uri": "https://localhost:8080/"
        },
        "id": "RSp6yQV03GBX",
        "outputId": "cbb131fd-3ee5-4e06-fde1-978348b9b3bc"
      },
      "execution_count": null,
      "outputs": [
        {
          "output_type": "stream",
          "name": "stdout",
          "text": [
            "Solution (x, y, z):\n",
            "[ 2.  1. -2.]\n"
          ]
        }
      ]
    },
    {
      "cell_type": "markdown",
      "source": [
        "Now: solve the above equation using np.linalg.inv function.{Explore more about ”linalg” function\n",
        "of Numpy}"
      ],
      "metadata": {
        "id": "6nDIKlZt3abY"
      }
    },
    {
      "cell_type": "markdown",
      "source": [
        "From the above question using np.linalg.inv(is explained in details).\n",
        "\n",
        "\n",
        "\n",
        "*  np.linalg.inv(A): This function computes the inverse of matrix\n",
        "A\n",
        "A. If\n",
        "A\n",
        "A is invertible, it returns\n",
        "A\n",
        "−\n",
        "1\n",
        "A\n",
        "−1\n",
        " .\n",
        "\n",
        "*  np.dot(A_inv, B): This performs matrix multiplication of the inverse of\n",
        "A\n",
        "A and\n",
        "B\n",
        "B to compute the solution\n",
        "X\n",
        "X, which contains the values of\n",
        "x\n",
        "x,\n",
        "y\n",
        "y, and\n",
        "z\n",
        "z.\n",
        "\n"
      ],
      "metadata": {
        "id": "CSo6iLz33z-z"
      }
    },
    {
      "cell_type": "markdown",
      "source": [
        "4.2 Experiment: How Fast is Numpy?"
      ],
      "metadata": {
        "id": "BIGvA1bh4lIr"
      }
    },
    {
      "cell_type": "markdown",
      "source": [
        "In this exercise, you will compare the performance and implementation of operations using plain Python\n",
        "lists (arrays) and NumPy arrays. Follow the instructions:"
      ],
      "metadata": {
        "id": "a8ZGbuIE4wPG"
      }
    },
    {
      "cell_type": "markdown",
      "source": [
        "1. Element-wise Addition:\n",
        "• Using Python Lists, perform element-wise addition of two lists of size 1, 000, 000. Measure\n",
        "and Print the time taken for this operation.\n",
        "• Using Numpy Arrays, Repeat the calculation and measure and print the time taken for this\n",
        "operation."
      ],
      "metadata": {
        "id": "xAsTi0FP40Ah"
      }
    },
    {
      "cell_type": "code",
      "source": [
        "import time\n",
        "import numpy as np\n",
        "\n",
        "\n",
        "size = 1000000\n",
        "\n",
        "list1 = [i for i in range(size)]\n",
        "list2 = [i for i in range(size, 2*size)]\n",
        "\n",
        "\n",
        "start_time = time.time()\n",
        "result_list = [list1[i] + list2[i] for i in range(size)]\n",
        "end_time = time.time()\n",
        "\n",
        "print(\"Time taken for element-wise addition using Python Lists: {:.6f} seconds\".format(end_time - start_time))\n",
        "\n",
        "\n",
        "array1 = np.arange(size)\n",
        "array2 = np.arange(size, 2*size)\n",
        "\n",
        "start_time = time.time()\n",
        "result_array = array1 + array2\n",
        "end_time = time.time()\n",
        "\n",
        "print(\"Time taken for element-wise addition using NumPy Arrays: {:.6f} seconds\".format(end_time - start_time))\n"
      ],
      "metadata": {
        "colab": {
          "base_uri": "https://localhost:8080/"
        },
        "id": "iOth9YiL42zs",
        "outputId": "1d5258ce-e3bb-40b2-921e-de430fd9b53f"
      },
      "execution_count": null,
      "outputs": [
        {
          "output_type": "stream",
          "name": "stdout",
          "text": [
            "Time taken for element-wise addition using Python Lists: 0.155476 seconds\n",
            "Time taken for element-wise addition using NumPy Arrays: 0.004266 seconds\n"
          ]
        }
      ]
    },
    {
      "cell_type": "markdown",
      "source": [
        "2. Element-wise Multiplication\n",
        "\n",
        "• Using Python Lists, perform element-wise multiplication of two lists of size 1, 000, 000. Mea-\n",
        "sure and Print the time taken for this operation.\n",
        "\n",
        "• Using Numpy Arrays, Repeat the calculation and measure and print the time taken for this\n",
        "operation."
      ],
      "metadata": {
        "id": "w-VuMtnD5Pac"
      }
    },
    {
      "cell_type": "code",
      "source": [
        "import time\n",
        "import numpy as np\n",
        "\n",
        "\n",
        "size = 1000000\n",
        "\n",
        "\n",
        "list1 = [i for i in range(size)]\n",
        "list2 = [i for i in range(size, 2*size)]\n",
        "\n",
        "\n",
        "start_time = time.time()\n",
        "result_list = [list1[i] * list2[i] for i in range(size)]\n",
        "end_time = time.time()\n",
        "\n",
        "print(\"Time taken for element-wise multiplication using Python Lists: {:.6f} seconds\".format(end_time - start_time))\n",
        "\n",
        "\n",
        "array1 = np.arange(size)\n",
        "array2 = np.arange(size, 2*size)\n",
        "\n",
        "start_time = time.time()\n",
        "result_array = array1 * array2\n",
        "end_time = time.time()\n",
        "\n",
        "print(\"Time taken for element-wise multiplication using NumPy Arrays: {:.6f} seconds\".format(end_time - start_time))\n"
      ],
      "metadata": {
        "colab": {
          "base_uri": "https://localhost:8080/"
        },
        "id": "8DgFLIOM5Sxj",
        "outputId": "92c3e2ca-d067-4808-9d1b-1b53c7b3eeba"
      },
      "execution_count": null,
      "outputs": [
        {
          "output_type": "stream",
          "name": "stdout",
          "text": [
            "Time taken for element-wise multiplication using Python Lists: 0.150232 seconds\n",
            "Time taken for element-wise multiplication using NumPy Arrays: 0.004488 seconds\n"
          ]
        }
      ]
    },
    {
      "cell_type": "markdown",
      "source": [
        "3. Dot Product\n",
        "• Using Python Lists, compute the dot product of two lists of size 1, 000, 000. Measure and\n",
        "Print the time taken for this operation.\n",
        "• Using Numpy Arrays, Repeat the calculation and measure and print the time taken for this\n",
        "operation."
      ],
      "metadata": {
        "id": "1AR9a5S55p9e"
      }
    },
    {
      "cell_type": "code",
      "source": [
        "import time\n",
        "import numpy as np\n",
        "\n",
        "\n",
        "size = 1000000\n",
        "\n",
        "\n",
        "list1 = [i for i in range(size)]\n",
        "list2 = [i for i in range(size, 2*size)]\n",
        "\n",
        "\n",
        "start_time = time.time()\n",
        "dot_product_list = sum(list1[i] * list2[i] for i in range(size))\n",
        "end_time = time.time()\n",
        "\n",
        "print(\"Time taken for dot product using Python Lists: {:.6f} seconds\".format(end_time - start_time))\n",
        "\n",
        "\n",
        "array1 = np.arange(size)\n",
        "array2 = np.arange(size, 2*size)\n",
        "\n",
        "start_time = time.time()\n",
        "dot_product_array = np.dot(array1, array2)\n",
        "end_time = time.time()\n",
        "\n",
        "print(\"Time taken for dot product using NumPy Arrays: {:.6f} seconds\".format(end_time - start_time))\n"
      ],
      "metadata": {
        "colab": {
          "base_uri": "https://localhost:8080/"
        },
        "id": "9Pw0a_ix5t-_",
        "outputId": "116d40f0-80ca-4b87-c0ad-59713d7fff2c"
      },
      "execution_count": null,
      "outputs": [
        {
          "output_type": "stream",
          "name": "stdout",
          "text": [
            "Time taken for dot product using Python Lists: 0.171826 seconds\n",
            "Time taken for dot product using NumPy Arrays: 0.001424 seconds\n"
          ]
        }
      ]
    },
    {
      "cell_type": "markdown",
      "source": [
        "4. Matrix Multiplication\n",
        "• Using Python lists, perform matrix multiplication of two matrices of size 1000x1000. Measure\n",
        "and print the time taken for this operation.\n",
        "\n",
        "• Using NumPy arrays, perform matrix multiplication of two matrices of size 1000x1000. Mea-\n",
        "sure and print the time taken for this operation."
      ],
      "metadata": {
        "id": "Ew1H210J5_Kh"
      }
    },
    {
      "cell_type": "code",
      "source": [
        "import time\n",
        "import numpy as np\n",
        "\n",
        "\n",
        "size = 1000\n",
        "\n",
        "matrix1 = [[i + j for j in range(size)] for i in range(size)]\n",
        "matrix2 = [[i - j for j in range(size)] for i in range(size)]\n",
        "\n",
        "start_time = time.time()\n",
        "\n",
        "result_list = [[sum(matrix1[i][k] * matrix2[k][j] for k in range(size)) for j in range(size)] for i in range(size)]\n",
        "\n",
        "end_time = time.time()\n",
        "print(\"Time taken for matrix multiplication using Python Lists: {:.6f} seconds\".format(end_time - start_time))\n",
        "\n",
        "array1 = np.random.randint(1, 10, (size, size))\n",
        "array2 = np.random.randint(1, 10, (size, size))\n",
        "\n",
        "start_time = time.time()\n",
        "\n",
        "\n",
        "result_array = np.dot(array1, array2)\n",
        "\n",
        "end_time = time.time()\n",
        "print(\"Time taken for matrix multiplication using NumPy Arrays: {:.6f} seconds\".format(end_time - start_time))\n"
      ],
      "metadata": {
        "colab": {
          "base_uri": "https://localhost:8080/"
        },
        "id": "6rggaDj_6YV9",
        "outputId": "ab456f54-023b-45be-d3fe-9b9774c43335"
      },
      "execution_count": null,
      "outputs": [
        {
          "output_type": "stream",
          "name": "stdout",
          "text": [
            "Time taken for matrix multiplication using Python Lists: 253.501995 seconds\n",
            "Time taken for matrix multiplication using NumPy Arrays: 1.292179 seconds\n"
          ]
        }
      ]
    }
  ]
}