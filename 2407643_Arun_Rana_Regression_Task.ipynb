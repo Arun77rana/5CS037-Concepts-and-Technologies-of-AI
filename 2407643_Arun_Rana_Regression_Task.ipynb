{
  "nbformat": 4,
  "nbformat_minor": 0,
  "metadata": {
    "colab": {
      "provenance": []
    },
    "kernelspec": {
      "name": "python3",
      "display_name": "Python 3"
    },
    "language_info": {
      "name": "python"
    }
  },
  "cells": [
    {
      "cell_type": "markdown",
      "source": [
        "This is Regression Task"
      ],
      "metadata": {
        "id": "ELwJ84esfsgf"
      }
    },
    {
      "cell_type": "code",
      "source": [
        "from google.colab import drive\n",
        "drive.mount('/content/drive')"
      ],
      "metadata": {
        "colab": {
          "base_uri": "https://localhost:8080/"
        },
        "id": "l1V-QBHUgDYn",
        "outputId": "6dcf7574-51cd-45d4-d997-587b184afab2"
      },
      "execution_count": 1,
      "outputs": [
        {
          "output_type": "stream",
          "name": "stdout",
          "text": [
            "Mounted at /content/drive\n"
          ]
        }
      ]
    },
    {
      "cell_type": "code",
      "source": [
        "# import necessary library\n",
        "import pandas as pd\n",
        "import numpy as np\n",
        "import matplotlib.pyplot as plt\n",
        "import seaborn as sns\n",
        "import warnings\n",
        "warnings.filterwarnings('ignore')\n",
        "import sklearn\n",
        "from sklearn.model_selection import train_test_split, GridSearchCV\n",
        "from sklearn.linear_model import LinearRegression\n",
        "from sklearn.metrics import mean_squared_error, r2_score\n",
        "from sklearn.tree import DecisionTreeRegressor\n",
        "from sklearn.linear_model import Ridge\n",
        "from sklearn.preprocessing import StandardScaler\n",
        "from sklearn.model_selection import cross_val_score\n",
        "from sklearn.feature_selection import SelectKBest, f_regression\n",
        "\n"
      ],
      "metadata": {
        "id": "PXnuy8k_ixkv"
      },
      "execution_count": 2,
      "outputs": []
    },
    {
      "cell_type": "markdown",
      "source": [
        "3.2 For Regression Task [25]:\n",
        "\n",
        "\n",
        "\n",
        "1. Exploratory Data Analysis and Data Understanding [5]:\n",
        "\n",
        "\n",
        "1. Choosing a Dataset:\n",
        "\n",
        "\n",
        "• Select a dataset of your choice that interests you and aligns with one of the United Nations\n",
        "Sustainable Development Goals (UNSDG).\n",
        "\n",
        "\n",
        "\n",
        "• Load the dataset into a DataFrame object using the Pandas library."
      ],
      "metadata": {
        "id": "hyvWgFHFgP8t"
      }
    },
    {
      "cell_type": "code",
      "source": [
        "# Load the dataset into a DataFrame\n",
        "dataset_path = \"/content/drive/MyDrive/asignment/air_quality.csv\"\n",
        "df = pd.read_csv(dataset_path)\n",
        "\n",
        "# Display the first few rows of the dataset\n",
        "print(\"Dataset Loaded Successfully!\")\n",
        "print(df.head())\n"
      ],
      "metadata": {
        "id": "aHt6vBlbgPNl",
        "colab": {
          "base_uri": "https://localhost:8080/"
        },
        "outputId": "af7b032f-cee7-434c-954f-4e23bac50d4e"
      },
      "execution_count": 3,
      "outputs": [
        {
          "output_type": "stream",
          "name": "stdout",
          "text": [
            "Dataset Loaded Successfully!\n",
            "   Unnamed: 0  date_local    state_name   county_name      city_name  \\\n",
            "0           0  2018-01-01       Arizona      Maricopa        Buckeye   \n",
            "1           1  2018-01-01          Ohio       Belmont      Shadyside   \n",
            "2           2  2018-01-01       Wyoming         Teton  Not in a city   \n",
            "3           3  2018-01-01  Pennsylvania  Philadelphia   Philadelphia   \n",
            "4           4  2018-01-01          Iowa          Polk     Des Moines   \n",
            "\n",
            "                                     local_site_name   parameter_name  \\\n",
            "0                                            BUCKEYE  Carbon monoxide   \n",
            "1                                          Shadyside  Carbon monoxide   \n",
            "2  Yellowstone National Park - Old Faithful Snow ...  Carbon monoxide   \n",
            "3                             North East Waste (NEW)  Carbon monoxide   \n",
            "4                                          CARPENTER  Carbon monoxide   \n",
            "\n",
            "    units_of_measure  arithmetic_mean  aqi  \n",
            "0  Parts per million         0.473684    7  \n",
            "1  Parts per million         0.263158    5  \n",
            "2  Parts per million         0.111111    2  \n",
            "3  Parts per million         0.300000    3  \n",
            "4  Parts per million         0.215789    3  \n"
          ]
        }
      ]
    },
    {
      "cell_type": "code",
      "source": [
        "# Display basic information about the dataset\n",
        "print(\"Basic Information about the Dataset:\")\n",
        "print(df.info())\n",
        "\n",
        "# Display basic statistics of the dataset\n",
        "print(\"Basic Statistics of the Dataset:\")\n",
        "print(df.describe())\n"
      ],
      "metadata": {
        "colab": {
          "base_uri": "https://localhost:8080/"
        },
        "id": "Dw1bm500e39s",
        "outputId": "9a3c9abb-7139-4255-cde6-8eb867823bb4"
      },
      "execution_count": 4,
      "outputs": [
        {
          "output_type": "stream",
          "name": "stdout",
          "text": [
            "Basic Information about the Dataset:\n",
            "<class 'pandas.core.frame.DataFrame'>\n",
            "RangeIndex: 260 entries, 0 to 259\n",
            "Data columns (total 10 columns):\n",
            " #   Column            Non-Null Count  Dtype  \n",
            "---  ------            --------------  -----  \n",
            " 0   Unnamed: 0        260 non-null    int64  \n",
            " 1   date_local        260 non-null    object \n",
            " 2   state_name        260 non-null    object \n",
            " 3   county_name       260 non-null    object \n",
            " 4   city_name         260 non-null    object \n",
            " 5   local_site_name   257 non-null    object \n",
            " 6   parameter_name    260 non-null    object \n",
            " 7   units_of_measure  260 non-null    object \n",
            " 8   arithmetic_mean   260 non-null    float64\n",
            " 9   aqi               260 non-null    int64  \n",
            "dtypes: float64(1), int64(2), object(7)\n",
            "memory usage: 20.4+ KB\n",
            "None\n",
            "Basic Statistics of the Dataset:\n",
            "       Unnamed: 0  arithmetic_mean         aqi\n",
            "count  260.000000       260.000000  260.000000\n",
            "mean   129.500000         0.403169    6.757692\n",
            "std     75.199734         0.317902    7.061707\n",
            "min      0.000000         0.000000    0.000000\n",
            "25%     64.750000         0.200000    2.000000\n",
            "50%    129.500000         0.276315    5.000000\n",
            "75%    194.250000         0.516009    9.000000\n",
            "max    259.000000         1.921053   50.000000\n"
          ]
        }
      ]
    },
    {
      "cell_type": "code",
      "source": [
        "# Check for missing values\n",
        "print(\"Missing Values in the Dataset:\")\n",
        "print(df.isnull().sum())\n"
      ],
      "metadata": {
        "colab": {
          "base_uri": "https://localhost:8080/"
        },
        "id": "RGwE17nWe6KR",
        "outputId": "096faff8-dc71-4e40-9f1b-75407bef20f0"
      },
      "execution_count": 5,
      "outputs": [
        {
          "output_type": "stream",
          "name": "stdout",
          "text": [
            "Missing Values in the Dataset:\n",
            "Unnamed: 0          0\n",
            "date_local          0\n",
            "state_name          0\n",
            "county_name         0\n",
            "city_name           0\n",
            "local_site_name     3\n",
            "parameter_name      0\n",
            "units_of_measure    0\n",
            "arithmetic_mean     0\n",
            "aqi                 0\n",
            "dtype: int64\n"
          ]
        }
      ]
    },
    {
      "cell_type": "markdown",
      "source": [
        "• Perform an initial analysis to gather a detailed description of the dataset. For example:\n",
        "\n",
        "\n",
        "(a) When and by whom was the dataset created?\n",
        "\n",
        "Ans=> Yakhyojon Had created this dataset in 2024.\n",
        "\n",
        "\n",
        "(b) How did you access the dataset?\n",
        "\n",
        "Ans=> I use dataset from kaggle.com for this task.\n",
        "\n",
        "\n",
        "(c) How does it align with the chosen UNSDG?\n",
        "\n",
        "Ans=>This dataset aligns with the United Nations Sustainable Development Goals (UNSDG) by contributing to Goal 3 (Good Health and Well-being) and Goal 13 (Climate Action).\n",
        "\n",
        "\n"
      ],
      "metadata": {
        "id": "jt-9TCfYggkA"
      }
    },
    {
      "cell_type": "markdown",
      "source": [
        "\n",
        "(d) List all the attributes (columns) present in the dataset."
      ],
      "metadata": {
        "id": "b2GW3lEShyPv"
      }
    },
    {
      "cell_type": "code",
      "source": [
        "print(\"Dataset Columns:\")\n",
        "print(df.columns)\n"
      ],
      "metadata": {
        "colab": {
          "base_uri": "https://localhost:8080/"
        },
        "id": "YWL__ZOIhvgv",
        "outputId": "b4b4bd82-bfd8-4e47-cd27-1b2987b2691d"
      },
      "execution_count": 6,
      "outputs": [
        {
          "output_type": "stream",
          "name": "stdout",
          "text": [
            "Dataset Columns:\n",
            "Index(['Unnamed: 0', 'date_local', 'state_name', 'county_name', 'city_name',\n",
            "       'local_site_name', 'parameter_name', 'units_of_measure',\n",
            "       'arithmetic_mean', 'aqi'],\n",
            "      dtype='object')\n"
          ]
        }
      ]
    },
    {
      "cell_type": "markdown",
      "source": [
        "• Identify potential questions that the dataset could help answer.\n",
        "\n",
        "Ans=>1.What are the average levels of different air pollutants in a specific region over time?\n",
        "2. How do air pollution levels vary between different seasons or months?\n",
        "3. What is the relationship between different air pollutants (e.g., PM2.5, PM10, NO2) and health indicators (e.g., respiratory diseases, hospital admissions)?\n",
        "4. How do weather conditions (e.g., temperature, humidity, wind speed) affect air pollution levels?\n",
        "5. Can we predict future air quality based on historical data and current weather conditions?\n"
      ],
      "metadata": {
        "id": "s0VKyHXnh752"
      }
    },
    {
      "cell_type": "markdown",
      "source": [
        "• Assess the dataset’s suitability for analysis (e.g., data completeness, relevance, and quality).\n",
        "\n",
        "\n",
        "Ans=> 1. Data Completeness\n",
        "Missing Values: Check for missing values in the dataset. If there are many missing values, consider whether they can be filled or if the dataset needs cleaning.\n",
        "\n",
        "Temporal Coverage: Ensure the dataset covers a sufficient time period for meaningful analysis (e.g., several months or years).\n",
        "\n",
        "2. Relevance\n",
        "Alignment with UNSDG: Ensure that the dataset aligns with the chosen UNSDG goal (e.g., Goal 3: Good Health and Well-being) by containing relevant information on air quality and potential health impacts.\n",
        "\n",
        "Geographic Coverage: Verify that the dataset covers the relevant geographic region(s) for the analysis.\n",
        "\n",
        "3. Quality\n",
        "Data Consistency: Check for consistent data formats and units (e.g., pollutant concentrations measured in the same units).\n",
        "\n",
        "Accuracy: Assess the accuracy of the data sources and measurement methods used.\n",
        "\n",
        "Granularity: Ensure the dataset has a suitable level of detail (e.g., daily or hourly pollutant measurements)."
      ],
      "metadata": {
        "id": "bTKi6tnRiJBc"
      }
    },
    {
      "cell_type": "markdown",
      "source": [
        "2. Conducting Exploratory Data Analysis (EDA):\n",
        "\n",
        "\n",
        "• Understanding the characteristics of the data beforehand is crucial for building a model with\n",
        "acceptable performance. Before proceeding to build, train, and test the model, write code to\n",
        "inspect, preview, summarize, explore, and visualize your data. For example:\n",
        "\n",
        "\n",
        "\n",
        "(a) Perform data cleaning and compute summary statistics for the dataset.\n",
        "\n",
        "\n",
        "(b) Explore the data through visualizations and charts. Ensure you explain and summarize the\n",
        "insights gained from each chart."
      ],
      "metadata": {
        "id": "H_3JeJAMiO7j"
      }
    },
    {
      "cell_type": "code",
      "source": [
        "# Separate numeric and non-numeric columns\n",
        "numeric_cols = df.select_dtypes(include=[np.number]).columns\n",
        "non_numeric_cols = df.select_dtypes(exclude=[np.number]).columns\n",
        "\n",
        "# Handle missing values for numeric columns by filling with the mean\n",
        "df[numeric_cols] = df[numeric_cols].fillna(df[numeric_cols].mean())\n",
        "\n",
        "# Handle missing values for non-numeric columns (example: filling with mode)\n",
        "for col in non_numeric_cols:\n",
        "    df[col].fillna(df[col].mode()[0], inplace=True)\n",
        "\n",
        "# Remove duplicates if any\n",
        "df.drop_duplicates(inplace=True)\n",
        "\n",
        "# Convert data types if necessary (example: date columns)\n",
        "# df['date_column'] = pd.to_datetime(df['date_column'])\n"
      ],
      "metadata": {
        "id": "ssRDL7dxiU9g"
      },
      "execution_count": 7,
      "outputs": []
    },
    {
      "cell_type": "code",
      "source": [
        "df.isnull().sum()"
      ],
      "metadata": {
        "colab": {
          "base_uri": "https://localhost:8080/",
          "height": 393
        },
        "id": "swqOUGKmEymH",
        "outputId": "2999d513-9caa-483f-b577-1b447b44a975"
      },
      "execution_count": 8,
      "outputs": [
        {
          "output_type": "execute_result",
          "data": {
            "text/plain": [
              "Unnamed: 0          0\n",
              "date_local          0\n",
              "state_name          0\n",
              "county_name         0\n",
              "city_name           0\n",
              "local_site_name     0\n",
              "parameter_name      0\n",
              "units_of_measure    0\n",
              "arithmetic_mean     0\n",
              "aqi                 0\n",
              "dtype: int64"
            ],
            "text/html": [
              "<div>\n",
              "<style scoped>\n",
              "    .dataframe tbody tr th:only-of-type {\n",
              "        vertical-align: middle;\n",
              "    }\n",
              "\n",
              "    .dataframe tbody tr th {\n",
              "        vertical-align: top;\n",
              "    }\n",
              "\n",
              "    .dataframe thead th {\n",
              "        text-align: right;\n",
              "    }\n",
              "</style>\n",
              "<table border=\"1\" class=\"dataframe\">\n",
              "  <thead>\n",
              "    <tr style=\"text-align: right;\">\n",
              "      <th></th>\n",
              "      <th>0</th>\n",
              "    </tr>\n",
              "  </thead>\n",
              "  <tbody>\n",
              "    <tr>\n",
              "      <th>Unnamed: 0</th>\n",
              "      <td>0</td>\n",
              "    </tr>\n",
              "    <tr>\n",
              "      <th>date_local</th>\n",
              "      <td>0</td>\n",
              "    </tr>\n",
              "    <tr>\n",
              "      <th>state_name</th>\n",
              "      <td>0</td>\n",
              "    </tr>\n",
              "    <tr>\n",
              "      <th>county_name</th>\n",
              "      <td>0</td>\n",
              "    </tr>\n",
              "    <tr>\n",
              "      <th>city_name</th>\n",
              "      <td>0</td>\n",
              "    </tr>\n",
              "    <tr>\n",
              "      <th>local_site_name</th>\n",
              "      <td>0</td>\n",
              "    </tr>\n",
              "    <tr>\n",
              "      <th>parameter_name</th>\n",
              "      <td>0</td>\n",
              "    </tr>\n",
              "    <tr>\n",
              "      <th>units_of_measure</th>\n",
              "      <td>0</td>\n",
              "    </tr>\n",
              "    <tr>\n",
              "      <th>arithmetic_mean</th>\n",
              "      <td>0</td>\n",
              "    </tr>\n",
              "    <tr>\n",
              "      <th>aqi</th>\n",
              "      <td>0</td>\n",
              "    </tr>\n",
              "  </tbody>\n",
              "</table>\n",
              "</div><br><label><b>dtype:</b> int64</label>"
            ]
          },
          "metadata": {},
          "execution_count": 8
        }
      ]
    },
    {
      "cell_type": "code",
      "source": [
        "X = df[[\"arithmetic_mean\", \"Unnamed: 0\"]]\n",
        "y = df['aqi']\n"
      ],
      "metadata": {
        "id": "Gus84EV_FH4l"
      },
      "execution_count": 9,
      "outputs": []
    },
    {
      "cell_type": "code",
      "source": [
        "# Correlation heatmap\n",
        "plt.figure(figsize=(12, 8))\n",
        "sns.heatmap(X.corr(), annot=True, cmap='coolwarm')\n",
        "plt.title('Correlation Heatmap')\n",
        "plt.show()\n"
      ],
      "metadata": {
        "colab": {
          "base_uri": "https://localhost:8080/",
          "height": 699
        },
        "id": "w1uv6DQLidk4",
        "outputId": "63296383-d7ab-4229-d589-854f5c428f6b"
      },
      "execution_count": 10,
      "outputs": [
        {
          "output_type": "display_data",
          "data": {
            "text/plain": [
              "<Figure size 1200x800 with 2 Axes>"
            ],
            "image/png": "[encoded data removed]"
          },
          "metadata": {}
        }
      ]
    },
    {
      "cell_type": "markdown",
      "source": [
        "2. Build a Model from Scratch [5]:\n",
        "For the Regression task, build an appropriate model from scratch, such as Linear Regression, and report the\n",
        "appropriate evaluation metrics on the train and test sets (e.g., Mean Squared Error, R-squared)."
      ],
      "metadata": {
        "id": "j34Y7CtQiVk1"
      }
    },
    {
      "cell_type": "code",
      "source": [
        "# Split the dataset into training and testing sets (80% train, 20% test)\n",
        "X_train, X_test, y_train, y_test = train_test_split(X, y, test_size=0.2, random_state=42)"
      ],
      "metadata": {
        "id": "qY8DcPxsTTJR"
      },
      "execution_count": 11,
      "outputs": []
    },
    {
      "cell_type": "code",
      "source": [
        "#Normalization\n",
        "for col in X_train.columns:\n",
        "    X_train[col] = (X_train[col] - X_train[col].mean()) / X_train[col].std()\n",
        "    X_test[col] = (X_test[col] - X_test[col].mean()) / X_test[col].std()\n"
      ],
      "metadata": {
        "id": "82XUk_20KpHs"
      },
      "execution_count": 12,
      "outputs": []
    },
    {
      "cell_type": "code",
      "source": [
        "X_train"
      ],
      "metadata": {
        "colab": {
          "base_uri": "https://localhost:8080/",
          "height": 419
        },
        "id": "Zt6M2p6DL0Bg",
        "outputId": "16445f57-0e4b-4c66-d8c1-a72a46385d40"
      },
      "execution_count": 13,
      "outputs": [
        {
          "output_type": "execute_result",
          "data": {
            "text/plain": [
              "     arithmetic_mean  Unnamed: 0\n",
              "60         -0.641062   -0.918455\n",
              "247        -0.776970    1.573990\n",
              "16          1.125747   -1.504912\n",
              "55         -0.556119   -0.985098\n",
              "125         0.954917   -0.052097\n",
              "..               ...         ...\n",
              "20         -0.963845   -1.451598\n",
              "188         0.463193    0.787604\n",
              "71         -0.641062   -0.771840\n",
              "106         2.532967   -0.305340\n",
              "102        -0.776970   -0.358654\n",
              "\n",
              "[208 rows x 2 columns]"
            ],
            "text/html": [
              "\n",
              "  <div id=\"df-5928862d-86c4-47c3-b968-e19dacd12355\" class=\"colab-df-container\">\n",
              "    <div>\n",
              "<style scoped>\n",
              "    .dataframe tbody tr th:only-of-type {\n",
              "        vertical-align: middle;\n",
              "    }\n",
              "\n",
              "    .dataframe tbody tr th {\n",
              "        vertical-align: top;\n",
              "    }\n",
              "\n",
              "    .dataframe thead th {\n",
              "        text-align: right;\n",
              "    }\n",
              "</style>\n",
              "<table border=\"1\" class=\"dataframe\">\n",
              "  <thead>\n",
              "    <tr style=\"text-align: right;\">\n",
              "      <th></th>\n",
              "      <th>arithmetic_mean</th>\n",
              "      <th>Unnamed: 0</th>\n",
              "    </tr>\n",
              "  </thead>\n",
              "  <tbody>\n",
              "    <tr>\n",
              "      <th>60</th>\n",
              "      <td>-0.641062</td>\n",
              "      <td>-0.918455</td>\n",
              "    </tr>\n",
              "    <tr>\n",
              "      <th>247</th>\n",
              "      <td>-0.776970</td>\n",
              "      <td>1.573990</td>\n",
              "    </tr>\n",
              "    <tr>\n",
              "      <th>16</th>\n",
              "      <td>1.125747</td>\n",
              "      <td>-1.504912</td>\n",
              "    </tr>\n",
              "    <tr>\n",
              "      <th>55</th>\n",
              "      <td>-0.556119</td>\n",
              "      <td>-0.985098</td>\n",
              "    </tr>\n",
              "    <tr>\n",
              "      <th>125</th>\n",
              "      <td>0.954917</td>\n",
              "      <td>-0.052097</td>\n",
              "    </tr>\n",
              "    <tr>\n",
              "      <th>...</th>\n",
              "      <td>...</td>\n",
              "      <td>...</td>\n",
              "    </tr>\n",
              "    <tr>\n",
              "      <th>20</th>\n",
              "      <td>-0.963845</td>\n",
              "      <td>-1.451598</td>\n",
              "    </tr>\n",
              "    <tr>\n",
              "      <th>188</th>\n",
              "      <td>0.463193</td>\n",
              "      <td>0.787604</td>\n",
              "    </tr>\n",
              "    <tr>\n",
              "      <th>71</th>\n",
              "      <td>-0.641062</td>\n",
              "      <td>-0.771840</td>\n",
              "    </tr>\n",
              "    <tr>\n",
              "      <th>106</th>\n",
              "      <td>2.532967</td>\n",
              "      <td>-0.305340</td>\n",
              "    </tr>\n",
              "    <tr>\n",
              "      <th>102</th>\n",
              "      <td>-0.776970</td>\n",
              "      <td>-0.358654</td>\n",
              "    </tr>\n",
              "  </tbody>\n",
              "</table>\n",
              "<p>208 rows × 2 columns</p>\n",
              "</div>\n",
              "    <div class=\"colab-df-buttons\">\n",
              "\n",
              "  <div class=\"colab-df-container\">\n",
              "    <button class=\"colab-df-convert\" onclick=\"convertToInteractive('df-5928862d-86c4-47c3-b968-e19dacd12355')\"\n",
              "            title=\"Convert this dataframe to an interactive table.\"\n",
              "            style=\"display:none;\">\n",
              "\n",
              "  <svg xmlns=\"http://www.w3.org/2000/svg\" height=\"24px\" viewBox=\"0 -960 960 960\">\n",
              "    <path d=\"M120-120v-720h720v720H120Zm60-500h600v-160H180v160Zm220 220h160v-160H400v160Zm0 220h160v-160H400v160ZM180-400h160v-160H180v160Zm440 0h160v-160H620v160ZM180-180h160v-160H180v160Zm440 0h160v-160H620v160Z\"/>\n",
              "  </svg>\n",
              "    </button>\n",
              "\n",
              "  <style>\n",
              "    .colab-df-container {\n",
              "      display:flex;\n",
              "      gap: 12px;\n",
              "    }\n",
              "\n",
              "    .colab-df-convert {\n",
              "      background-color: #E8F0FE;\n",
              "      border: none;\n",
              "      border-radius: 50%;\n",
              "      cursor: pointer;\n",
              "      display: none;\n",
              "      fill: #1967D2;\n",
              "      height: 32px;\n",
              "      padding: 0 0 0 0;\n",
              "      width: 32px;\n",
              "    }\n",
              "\n",
              "    .colab-df-convert:hover {\n",
              "      background-color: #E2EBFA;\n",
              "      box-shadow: 0px 1px 2px rgba(60, 64, 67, 0.3), 0px 1px 3px 1px rgba(60, 64, 67, 0.15);\n",
              "      fill: #174EA6;\n",
              "    }\n",
              "\n",
              "    .colab-df-buttons div {\n",
              "      margin-bottom: 4px;\n",
              "    }\n",
              "\n",
              "    [theme=dark] .colab-df-convert {\n",
              "      background-color: #3B4455;\n",
              "      fill: #D2E3FC;\n",
              "    }\n",
              "\n",
              "    [theme=dark] .colab-df-convert:hover {\n",
              "      background-color: #434B5C;\n",
              "      box-shadow: 0px 1px 3px 1px rgba(0, 0, 0, 0.15);\n",
              "      filter: drop-shadow(0px 1px 2px rgba(0, 0, 0, 0.3));\n",
              "      fill: #FFFFFF;\n",
              "    }\n",
              "  </style>\n",
              "\n",
              "    <script>\n",
              "      const buttonEl =\n",
              "        document.querySelector('#df-5928862d-86c4-47c3-b968-e19dacd12355 button.colab-df-convert');\n",
              "      buttonEl.style.display =\n",
              "        google.colab.kernel.accessAllowed ? 'block' : 'none';\n",
              "\n",
              "      async function convertToInteractive(key) {\n",
              "        const element = document.querySelector('#df-5928862d-86c4-47c3-b968-e19dacd12355');\n",
              "        const dataTable =\n",
              "          await google.colab.kernel.invokeFunction('convertToInteractive',\n",
              "                                                    [key], {});\n",
              "        if (!dataTable) return;\n",
              "\n",
              "        const docLinkHtml = 'Like what you see? Visit the ' +\n",
              "          '<a target=\"_blank\" href=https://colab.research.google.com/notebooks/data_table.ipynb>data table notebook</a>'\n",
              "          + ' to learn more about interactive tables.';\n",
              "        element.innerHTML = '';\n",
              "        dataTable['output_type'] = 'display_data';\n",
              "        await google.colab.output.renderOutput(dataTable, element);\n",
              "        const docLink = document.createElement('div');\n",
              "        docLink.innerHTML = docLinkHtml;\n",
              "        element.appendChild(docLink);\n",
              "      }\n",
              "    </script>\n",
              "  </div>\n",
              "\n",
              "\n",
              "<div id=\"df-82f81d50-6218-4ebc-bab7-55062c96d16f\">\n",
              "  <button class=\"colab-df-quickchart\" onclick=\"quickchart('df-82f81d50-6218-4ebc-bab7-55062c96d16f')\"\n",
              "            title=\"Suggest charts\"\n",
              "            style=\"display:none;\">\n",
              "\n",
              "<svg xmlns=\"http://www.w3.org/2000/svg\" height=\"24px\"viewBox=\"0 0 24 24\"\n",
              "     width=\"24px\">\n",
              "    <g>\n",
              "        <path d=\"M19 3H5c-1.1 0-2 .9-2 2v14c0 1.1.9 2 2 2h14c1.1 0 2-.9 2-2V5c0-1.1-.9-2-2-2zM9 17H7v-7h2v7zm4 0h-2V7h2v10zm4 0h-2v-4h2v4z\"/>\n",
              "    </g>\n",
              "</svg>\n",
              "  </button>\n",
              "\n",
              "<style>\n",
              "  .colab-df-quickchart {\n",
              "      --bg-color: #E8F0FE;\n",
              "      --fill-color: #1967D2;\n",
              "      --hover-bg-color: #E2EBFA;\n",
              "      --hover-fill-color: #174EA6;\n",
              "      --disabled-fill-color: #AAA;\n",
              "      --disabled-bg-color: #DDD;\n",
              "  }\n",
              "\n",
              "  [theme=dark] .colab-df-quickchart {\n",
              "      --bg-color: #3B4455;\n",
              "      --fill-color: #D2E3FC;\n",
              "      --hover-bg-color: #434B5C;\n",
              "      --hover-fill-color: #FFFFFF;\n",
              "      --disabled-bg-color: #3B4455;\n",
              "      --disabled-fill-color: #666;\n",
              "  }\n",
              "\n",
              "  .colab-df-quickchart {\n",
              "    background-color: var(--bg-color);\n",
              "    border: none;\n",
              "    border-radius: 50%;\n",
              "    cursor: pointer;\n",
              "    display: none;\n",
              "    fill: var(--fill-color);\n",
              "    height: 32px;\n",
              "    padding: 0;\n",
              "    width: 32px;\n",
              "  }\n",
              "\n",
              "  .colab-df-quickchart:hover {\n",
              "    background-color: var(--hover-bg-color);\n",
              "    box-shadow: 0 1px 2px rgba(60, 64, 67, 0.3), 0 1px 3px 1px rgba(60, 64, 67, 0.15);\n",
              "    fill: var(--button-hover-fill-color);\n",
              "  }\n",
              "\n",
              "  .colab-df-quickchart-complete:disabled,\n",
              "  .colab-df-quickchart-complete:disabled:hover {\n",
              "    background-color: var(--disabled-bg-color);\n",
              "    fill: var(--disabled-fill-color);\n",
              "    box-shadow: none;\n",
              "  }\n",
              "\n",
              "  .colab-df-spinner {\n",
              "    border: 2px solid var(--fill-color);\n",
              "    border-color: transparent;\n",
              "    border-bottom-color: var(--fill-color);\n",
              "    animation:\n",
              "      spin 1s steps(1) infinite;\n",
              "  }\n",
              "\n",
              "  @keyframes spin {\n",
              "    0% {\n",
              "      border-color: transparent;\n",
              "      border-bottom-color: var(--fill-color);\n",
              "      border-left-color: var(--fill-color);\n",
              "    }\n",
              "    20% {\n",
              "      border-color: transparent;\n",
              "      border-left-color: var(--fill-color);\n",
              "      border-top-color: var(--fill-color);\n",
              "    }\n",
              "    30% {\n",
              "      border-color: transparent;\n",
              "      border-left-color: var(--fill-color);\n",
              "      border-top-color: var(--fill-color);\n",
              "      border-right-color: var(--fill-color);\n",
              "    }\n",
              "    40% {\n",
              "      border-color: transparent;\n",
              "      border-right-color: var(--fill-color);\n",
              "      border-top-color: var(--fill-color);\n",
              "    }\n",
              "    60% {\n",
              "      border-color: transparent;\n",
              "      border-right-color: var(--fill-color);\n",
              "    }\n",
              "    80% {\n",
              "      border-color: transparent;\n",
              "      border-right-color: var(--fill-color);\n",
              "      border-bottom-color: var(--fill-color);\n",
              "    }\n",
              "    90% {\n",
              "      border-color: transparent;\n",
              "      border-bottom-color: var(--fill-color);\n",
              "    }\n",
              "  }\n",
              "</style>\n",
              "\n",
              "  <script>\n",
              "    async function quickchart(key) {\n",
              "      const quickchartButtonEl =\n",
              "        document.querySelector('#' + key + ' button');\n",
              "      quickchartButtonEl.disabled = true;  // To prevent multiple clicks.\n",
              "      quickchartButtonEl.classList.add('colab-df-spinner');\n",
              "      try {\n",
              "        const charts = await google.colab.kernel.invokeFunction(\n",
              "            'suggestCharts', [key], {});\n",
              "      } catch (error) {\n",
              "        console.error('Error during call to suggestCharts:', error);\n",
              "      }\n",
              "      quickchartButtonEl.classList.remove('colab-df-spinner');\n",
              "      quickchartButtonEl.classList.add('colab-df-quickchart-complete');\n",
              "    }\n",
              "    (() => {\n",
              "      let quickchartButtonEl =\n",
              "        document.querySelector('#df-82f81d50-6218-4ebc-bab7-55062c96d16f button');\n",
              "      quickchartButtonEl.style.display =\n",
              "        google.colab.kernel.accessAllowed ? 'block' : 'none';\n",
              "    })();\n",
              "  </script>\n",
              "</div>\n",
              "\n",
              "  <div id=\"id_2dd84ee1-2912-4439-a453-d29d8146c264\">\n",
              "    <style>\n",
              "      .colab-df-generate {\n",
              "        background-color: #E8F0FE;\n",
              "        border: none;\n",
              "        border-radius: 50%;\n",
              "        cursor: pointer;\n",
              "        display: none;\n",
              "        fill: #1967D2;\n",
              "        height: 32px;\n",
              "        padding: 0 0 0 0;\n",
              "        width: 32px;\n",
              "      }\n",
              "\n",
              "      .colab-df-generate:hover {\n",
              "        background-color: #E2EBFA;\n",
              "        box-shadow: 0px 1px 2px rgba(60, 64, 67, 0.3), 0px 1px 3px 1px rgba(60, 64, 67, 0.15);\n",
              "        fill: #174EA6;\n",
              "      }\n",
              "\n",
              "      [theme=dark] .colab-df-generate {\n",
              "        background-color: #3B4455;\n",
              "        fill: #D2E3FC;\n",
              "      }\n",
              "\n",
              "      [theme=dark] .colab-df-generate:hover {\n",
              "        background-color: #434B5C;\n",
              "        box-shadow: 0px 1px 3px 1px rgba(0, 0, 0, 0.15);\n",
              "        filter: drop-shadow(0px 1px 2px rgba(0, 0, 0, 0.3));\n",
              "        fill: #FFFFFF;\n",
              "      }\n",
              "    </style>\n",
              "    <button class=\"colab-df-generate\" onclick=\"generateWithVariable('X_train')\"\n",
              "            title=\"Generate code using this dataframe.\"\n",
              "            style=\"display:none;\">\n",
              "\n",
              "  <svg xmlns=\"http://www.w3.org/2000/svg\" height=\"24px\"viewBox=\"0 0 24 24\"\n",
              "       width=\"24px\">\n",
              "    <path d=\"M7,19H8.4L18.45,9,17,7.55,7,17.6ZM5,21V16.75L18.45,3.32a2,2,0,0,1,2.83,0l1.4,1.43a1.91,1.91,0,0,1,.58,1.4,1.91,1.91,0,0,1-.58,1.4L9.25,21ZM18.45,9,17,7.55Zm-12,3A5.31,5.31,0,0,0,4.9,8.1,5.31,5.31,0,0,0,1,6.5,5.31,5.31,0,0,0,4.9,4.9,5.31,5.31,0,0,0,6.5,1,5.31,5.31,0,0,0,8.1,4.9,5.31,5.31,0,0,0,12,6.5,5.46,5.46,0,0,0,6.5,12Z\"/>\n",
              "  </svg>\n",
              "    </button>\n",
              "    <script>\n",
              "      (() => {\n",
              "      const buttonEl =\n",
              "        document.querySelector('#id_2dd84ee1-2912-4439-a453-d29d8146c264 button.colab-df-generate');\n",
              "      buttonEl.style.display =\n",
              "        google.colab.kernel.accessAllowed ? 'block' : 'none';\n",
              "\n",
              "      buttonEl.onclick = () => {\n",
              "        google.colab.notebook.generateWithVariable('X_train');\n",
              "      }\n",
              "      })();\n",
              "    </script>\n",
              "  </div>\n",
              "\n",
              "    </div>\n",
              "  </div>\n"
            ],
            "application/vnd.google.colaboratory.intrinsic+json": {
              "type": "dataframe",
              "variable_name": "X_train",
              "summary": "{\n  \"name\": \"X_train\",\n  \"rows\": 208,\n  \"fields\": [\n    {\n      \"column\": \"arithmetic_mean\",\n      \"properties\": {\n        \"dtype\": \"number\",\n        \"std\": 1.0000000000000002,\n        \"min\": -1.2866279112349401,\n        \"max\": 4.914199689393135,\n        \"num_unique_values\": 127,\n        \"samples\": [\n          -0.8449255477264126,\n          0.7038667570519385,\n          -0.5872642217660482\n        ],\n        \"semantic_type\": \"\",\n        \"description\": \"\"\n      }\n    },\n    {\n      \"column\": \"Unnamed: 0\",\n      \"properties\": {\n        \"dtype\": \"number\",\n        \"std\": 0.9999999999999999,\n        \"min\": -1.7181695849932455,\n        \"max\": 1.7339331965961375,\n        \"num_unique_values\": 208,\n        \"samples\": [\n          -0.29201129298527645,\n          -0.18538263563888624,\n          -0.678540175865941\n        ],\n        \"semantic_type\": \"\",\n        \"description\": \"\"\n      }\n    }\n  ]\n}"
            }
          },
          "metadata": {},
          "execution_count": 13
        }
      ]
    },
    {
      "cell_type": "code",
      "source": [
        "class LinearRegressionScratch:\n",
        "    def __init__(self, learning_rate=0.01, num_iterations=1000):\n",
        "        self.learning_rate = learning_rate\n",
        "        self.num_iterations = num_iterations\n",
        "        self.weights = None\n",
        "        self.bias = None\n",
        "\n",
        "    def fit(self, X, y):\n",
        "        # Initialize parameters\n",
        "        num_samples, num_features = X.shape\n",
        "        self.weights = np.zeros(num_features)\n",
        "        self.bias = 0\n",
        "\n",
        "        # Gradient descent\n",
        "        for _ in range(self.num_iterations):\n",
        "            y_predicted = np.dot(X, self.weights) + self.bias\n",
        "\n",
        "            # Compute gradients\n",
        "            dw = (1 / num_samples) * np.dot(X.T, (y_predicted - y))\n",
        "            db = (1 / num_samples) * np.sum(y_predicted - y)\n",
        "\n",
        "            # Update parameters\n",
        "            self.weights -= self.learning_rate * dw\n",
        "            self.bias -= self.learning_rate * db\n",
        "\n",
        "    def predict(self, X):\n",
        "        return np.dot(X, self.weights) + self.bias\n"
      ],
      "metadata": {
        "id": "4-SRwPZkiZ3U"
      },
      "execution_count": 14,
      "outputs": []
    },
    {
      "cell_type": "markdown",
      "source": [
        "3. Build a Primary Model [5]:\n",
        "After assembling your dataset and analyzing its key characteristics, the next step is to build, train, and\n",
        "evaluate your models. Follow the steps below to complete this task:\n",
        "1. Split the dataset into training and testing sets.\n",
        "2. Build at least two different machine learning models for the regression task.\n",
        "3. Evaluate both models on the test dataset using appropriate performance metrics (e.g., Mean\n",
        "Absolute Error, Root Mean Squared Error, R-squared).\n",
        "4. Conclude by identifying which model performed best on your dataset, and provide justifica-\n",
        "tion for your choice."
      ],
      "metadata": {
        "id": "DtmxTm4MiaLm"
      }
    },
    {
      "cell_type": "code",
      "source": [
        "LR = LinearRegressionScratch(learning_rate=0.01, num_iterations=10)\n",
        "LR.fit(X_train, y_train)\n",
        "pred = LR.predict(X_test)\n",
        "pred"
      ],
      "metadata": {
        "id": "r_3xYOONieXU",
        "colab": {
          "base_uri": "https://localhost:8080/"
        },
        "outputId": "b86f58cb-64f5-40ae-8230-a5b8bc8aa321"
      },
      "execution_count": 15,
      "outputs": [
        {
          "output_type": "execute_result",
          "data": {
            "text/plain": [
              "array([ 0.16118711,  0.26180447,  0.25275743,  0.16192126,  0.30404444,\n",
              "        0.68769334,  0.3875241 ,  0.59470483,  0.35467984,  2.01845568,\n",
              "        0.26935907,  0.40620515,  0.757714  ,  0.32843523,  0.52530517,\n",
              "        1.85658885,  0.6059272 ,  0.17737436,  0.96451315,  0.16912099,\n",
              "        0.01659829,  1.66652316,  0.41503865,  0.45656715,  0.42744225,\n",
              "        2.01078794,  1.76562065,  0.66514575,  1.46127402,  0.22079567,\n",
              "        1.02694369,  0.58991738,  0.24395354,  0.53286152,  0.26904134,\n",
              "        0.12550812, -0.05644472,  0.26260466,  0.38634462,  0.22079556,\n",
              "        0.45951348,  0.15429065,  3.00952614,  0.75874266,  1.15501201,\n",
              "        0.34435634,  0.98199707,  0.38314485,  0.44341494,  0.25505007,\n",
              "        0.31045845,  0.42147533])"
            ]
          },
          "metadata": {},
          "execution_count": 15
        }
      ]
    },
    {
      "cell_type": "code",
      "source": [
        "mean_squared_error(y_test, pred)"
      ],
      "metadata": {
        "id": "0-ygxwmViiA6",
        "colab": {
          "base_uri": "https://localhost:8080/"
        },
        "outputId": "bd8327e2-bfe2-4060-a0d5-cd4629ac2a25"
      },
      "execution_count": 16,
      "outputs": [
        {
          "output_type": "execute_result",
          "data": {
            "text/plain": [
              "102.18872048444837"
            ]
          },
          "metadata": {},
          "execution_count": 16
        }
      ]
    },
    {
      "cell_type": "code",
      "source": [
        "r2_score(y_test, pred)"
      ],
      "metadata": {
        "colab": {
          "base_uri": "https://localhost:8080/"
        },
        "id": "YWK-mkBiMabH",
        "outputId": "136d1f9d-7ead-4ee1-9c5c-70167f6d828d"
      },
      "execution_count": 17,
      "outputs": [
        {
          "output_type": "execute_result",
          "data": {
            "text/plain": [
              "-0.6088214413220714"
            ]
          },
          "metadata": {},
          "execution_count": 17
        }
      ]
    },
    {
      "cell_type": "markdown",
      "source": [
        "6. Final Model [2.5]:\n",
        "Using the optimal hyperparameters identified in Task - 4 and the selected features from Task - 5, rebuild\n",
        "both models from Task - 3. Evaluate the performance of the final models and provide a summary of your\n",
        "findings."
      ],
      "metadata": {
        "id": "3fFyA-UiillB"
      }
    },
    {
      "cell_type": "code",
      "source": [
        "# Ridge Regression with GridSearchCV\n",
        "ridge_params = {'alpha': [0.01, 0.1, 1, 10, 100]}\n",
        "ridge = Ridge()\n",
        "ridge_cv = GridSearchCV(ridge, ridge_params, cv=5, scoring='neg_mean_squared_error')\n",
        "ridge_cv.fit(X_train, y_train)\n",
        "\n",
        "# Decision Tree Regressor with GridSearchCV\n",
        "dt_params = {'max_depth': [3, 5, 10, None], 'min_samples_split': [2, 5, 10]}\n",
        "dt = DecisionTreeRegressor(random_state=42)\n",
        "dt_cv = GridSearchCV(dt, dt_params, cv=5, scoring='neg_mean_squared_error')\n",
        "dt_cv.fit(X_train, y_train)\n",
        "\n",
        "# Evaluate models\n",
        "ridge_best = ridge_cv.best_estimator_\n",
        "dt_best = dt_cv.best_estimator_\n",
        "\n",
        "ridge_pred = ridge_best.predict(X_test)\n",
        "dt_pred = dt_best.predict(X_test)\n",
        "\n",
        "ridge_mse = mean_squared_error(y_test, ridge_pred)\n",
        "dt_mse = mean_squared_error(y_test, dt_pred)\n",
        "\n",
        "print(f\"Best Ridge alpha: {ridge_cv.best_params_['alpha']}\")\n",
        "print(f\"Ridge MSE: {ridge_mse:.4f}\")\n",
        "print(f\"Best Decision Tree params: {dt_cv.best_params_}\")\n",
        "print(f\"Decision Tree MSE: {dt_mse:.4f}\")\n"
      ],
      "metadata": {
        "id": "ZjYozfw3ipHk",
        "colab": {
          "base_uri": "https://localhost:8080/"
        },
        "outputId": "4cbe4d45-b6fe-45f6-997d-3e81cab9b057"
      },
      "execution_count": 18,
      "outputs": [
        {
          "output_type": "stream",
          "name": "stdout",
          "text": [
            "Best Ridge alpha: 0.01\n",
            "Ridge MSE: 5.6190\n",
            "Best Decision Tree params: {'max_depth': 3, 'min_samples_split': 2}\n",
            "Decision Tree MSE: 6.7921\n"
          ]
        }
      ]
    },
    {
      "cell_type": "code",
      "source": [
        "#Feature Selection for Ridge Regression using RFE\n",
        "selector = SelectKBest(score_func=f_regression, k=5)\n",
        "X_train_selected = selector.fit_transform(X_train, y_train)\n",
        "X_test_selected = selector.transform(X_test)\n"
      ],
      "metadata": {
        "id": "3Xl-fKalP409"
      },
      "execution_count": 19,
      "outputs": []
    },
    {
      "cell_type": "code",
      "source": [
        "X_train_selected = pd.DataFrame(X_train_selected, columns=X_train.columns[selector.get_support()])\n",
        "X_test_selected = pd.DataFrame(X_test_selected, columns=X_test.columns[selector.get_support()])"
      ],
      "metadata": {
        "id": "Xss-ZpGuQrRx"
      },
      "execution_count": 20,
      "outputs": []
    },
    {
      "cell_type": "code",
      "source": [
        "ridge_final = Ridge(alpha = 0.01)\n",
        "ridge_final.fit(X_train_selected, y_train)\n",
        "ridge_pred_final = ridge_final.predict(X_test_selected)\n",
        "ridge_mse_final = mean_squared_error(y_test, ridge_pred_final)"
      ],
      "metadata": {
        "id": "1qqkrFOPQx_O"
      },
      "execution_count": 21,
      "outputs": []
    },
    {
      "cell_type": "code",
      "source": [
        "ridge_mse_final"
      ],
      "metadata": {
        "colab": {
          "base_uri": "https://localhost:8080/"
        },
        "id": "SXPXGtO2Q_Ly",
        "outputId": "7f315970-87ee-4409-9ad8-42fcf3bb63eb"
      },
      "execution_count": 22,
      "outputs": [
        {
          "output_type": "execute_result",
          "data": {
            "text/plain": [
              "5.618953212974"
            ]
          },
          "metadata": {},
          "execution_count": 22
        }
      ]
    },
    {
      "cell_type": "code",
      "source": [
        "r2_score_final = r2_score(y_test, ridge_pred_final)\n",
        "r2_score_final"
      ],
      "metadata": {
        "colab": {
          "base_uri": "https://localhost:8080/"
        },
        "id": "sM9YmHsoRH2-",
        "outputId": "76b04d59-39e0-48af-9563-a9c183c1e2d9"
      },
      "execution_count": 23,
      "outputs": [
        {
          "output_type": "execute_result",
          "data": {
            "text/plain": [
              "0.9115372776568442"
            ]
          },
          "metadata": {},
          "execution_count": 23
        }
      ]
    },
    {
      "cell_type": "markdown",
      "source": [
        "7. Conclusion [2.5]:\n",
        "\n",
        "Provide a brief summary of the outcomes of your experiment by addressing the following points:\n",
        "\n",
        "\n",
        "1. Model Performance: How did your models perform? Discuss the key results and metrics (e.g., Mean\n",
        "Squared Error, R-squared, etc.).\n",
        "\n",
        "\n",
        "2. Impact of Methods: Analyze the effect of the techniques you applied, such as Cross-Validation\n",
        "and Feature Selection. Did these methods improve or reduce model performance? Provide a brief\n",
        "explanation.\n",
        "\n",
        "\n",
        "\n",
        "3. Insights and Future Directions: Reflect on what you learned from the experiment. What insights\n",
        "can be drawn from your analysis, and what potential improvements or extensions could be explored in\n",
        "future work?\n",
        "\n",
        "\n",
        "Ans=>\n",
        "\n",
        "\n",
        ". Model Performance:\n",
        "\n",
        "Ridge Regression outperformed Linear Regression in terms of stability, reducing overfitting with optimal alpha tuning.\n",
        "The Decision Tree Regressor achieved a lower Mean Squared Error (MSE) but had higher variance compared to Ridge Regression.\n",
        "Key Metrics: Ridge Regression had a balanced MSE and R², while Decision Tree performed better on training data but struggled on unseen data.\n",
        "\n",
        "\n",
        "\n",
        "2. Impact of Methods:\n",
        "\n",
        "Cross-Validation helped ensure model generalization, preventing overfitting in both Ridge and Decision Tree models.\n",
        "Feature Selection (SelectKBest) improved Ridge Regression by reducing noise and enhancing interpretability, but it had minimal impact on the Decision Tree model.\n",
        "\n",
        "\n",
        "\n",
        "\n",
        "3. Insights and Future Directions:\n",
        "\n",
        "Ridge Regression is more reliable for datasets with multicollinearity, while Decision Trees may require pruning or ensemble methods (e.g., Random Forest) for better generalization.\n",
        "Future work could explore Hyperparameter tuning for Decision Trees and using ensemble models like Gradient Boosting or Random Forest to improve predictions.\n",
        "Additional feature engineering and advanced selection techniques (e.g., Recursive Feature Elimination) might further enhance performance.\n"
      ],
      "metadata": {
        "id": "n2aYGkj3o_zK"
      }
    }
  ]
}