{
 "cells": [
  {
   "cell_type": "code",
   "execution_count": 1,
   "id": "ae3ea6fd-1a42-49d2-a78f-4ec5ca53dc42",
   "metadata": {},
   "outputs": [
    {
     "name": "stdout",
     "output_type": "stream",
     "text": [
      "ali, baba, choor!\n",
      "Python version: 3.12.7 (main, Oct  1 2024, 02:05:46) [Clang 16.0.0 (clang-1600.0.26.3)]\n"
     ]
    }
   ],
   "source": [
    "# example 1\n",
    "import sys\n",
    "if sys.version_info.major == 3 and sys.version_info.minor >= 6:\n",
    "    print(\"ali, baba, choor!\")\n",
    "    print(f\"Python version: {sys.version}\")\n",
    "else:\n",
    "    print(\"Please use Python 3.6 or higher.\")"
   ]
  },
  {
   "cell_type": "code",
   "execution_count": 4,
   "id": "b581d00a-2fc9-4d17-90f8-a1b2103b44dd",
   "metadata": {},
   "outputs": [
    {
     "name": "stdout",
     "output_type": "stream",
     "text": [
      "data type of variable age =  <class 'int'>\n",
      "data type of variable pi =  <class 'float'>\n",
      "data type of variable temperature =  <class 'float'>\n"
     ]
    }
   ],
   "source": [
    "age = 23 #int\n",
    "pi = 3.14 #float\n",
    "temperature = -5.5 #float\n",
    "print(\"data type of variable age = \", type(age))\n",
    "print(\"data type of variable pi = \", type(pi))\n",
    "print(\"data type of variable temperature = \", type(temperature))"
   ]
  },
  {
   "cell_type": "code",
   "execution_count": 6,
   "id": "e427b09e-7315-4e89-a519-abee8b6ef6ce",
   "metadata": {},
   "outputs": [
    {
     "name": "stdout",
     "output_type": "stream",
     "text": [
      "data type of the variable name =  <class 'str'>\n",
      "data type of the variable greeting =  <class 'str'>\n",
      "data type of the variable address =  <class 'str'>\n",
      "The first letter of the name is: A\n",
      "The last letter of the name is: n\n",
      "The second letter to the fourth of the name is: run\n",
      "The first two letters of the name are: Ar\n",
      "Substring starting from the third letter is: un\n"
     ]
    }
   ],
   "source": [
    "name = \"Arun\"\n",
    "greeting = \"Hello\"\n",
    "address = \"Maitidevi Main St\"\n",
    "print(\"data type of the variable name = \"\n",
    ",type(name))\n",
    "print(\"data type of the variable greeting = \"\n",
    ",type(greeting))\n",
    "print(\"data type of the variable address = \"\n",
    ",type(address))\n",
    "# slice only one element\n",
    "print(\"The first letter of the name is:\"\n",
    ", name[0])\n",
    "print(\"The last letter of the name is:\"\n",
    ", name[-1])\n",
    "# slice a range of elements\n",
    "print(\"The second letter to the fourth of the name is:\"\n",
    ", name[1:4])\n",
    "print(\"The first two letters of the name are:\"\n",
    ", name[:2])\n",
    "print(\"Substring starting from the third letter is:\"\n",
    ", name[2:])"
   ]
  },
  {
   "cell_type": "code",
   "execution_count": 7,
   "id": "1948143a-f2ab-4992-a8ca-bf82d98623b4",
   "metadata": {},
   "outputs": [
    {
     "data": {
      "text/plain": [
       "[False, 'Hello', True]"
      ]
     },
     "execution_count": 7,
     "metadata": {},
     "output_type": "execute_result"
    }
   ],
   "source": [
    "list1 = [1, 2, 3, 4]\n",
    "mixed_list = [12, \"Hello\"\n",
    ", True]\n",
    "# List is mutable\n",
    "mixed_list[0] = False\n",
    "mixed_list"
   ]
  },
  {
   "cell_type": "code",
   "execution_count": 12,
   "id": "c514a08a-7528-4052-b031-1e2992e416b6",
   "metadata": {},
   "outputs": [
    {
     "name": "stdout",
     "output_type": "stream",
     "text": [
      "First element: red\n",
      "Last two elements: ['yellow', 'blue']\n",
      "Middle two elements: ['green', 'yellow']\n",
      "Modified list: ['purple', 'green', 'yellow', 'blue']\n"
     ]
    }
   ],
   "source": [
    "colors = ['red', 'green', 'yellow', 'blue']  # Use square brackets for a list\n",
    "print(\"First element:\", colors[0])\n",
    "print(\"Last two elements:\", colors[2:])\n",
    "print(\"Middle two elements:\", colors[1:3])\n",
    "\n",
    "colors[0] = 'purple'  # Update the first element\n",
    "print(\"Modified list:\", colors)\n"
   ]
  },
  {
   "cell_type": "code",
   "execution_count": 14,
   "id": "c7ac679c-2af8-46dc-8f9a-b32f7239e37d",
   "metadata": {},
   "outputs": [
    {
     "name": "stdout",
     "output_type": "stream",
     "text": [
      "Hello my name is John. I am 30 years old and I live at Pittsburgh.\n",
      "All keys: ['name', 'age', 'city']\n",
      "All values: ['John', 30, 'Pittsburgh']\n"
     ]
    }
   ],
   "source": [
    "person = {'name': 'John', 'age': 30, 'city': 'Pittsburgh'}\n",
    "print(f\"Hello my name is {person['name']}. I am {person['age']} years old and I live at {person['city']}.\")\n",
    "print(\"All keys:\", list(person.keys()))\n",
    "print(\"All values:\", list(person.values()))\n"
   ]
  },
  {
   "cell_type": "code",
   "execution_count": 15,
   "id": "52271ec9-cb82-414f-9951-c683d199ab1a",
   "metadata": {},
   "outputs": [
    {
     "name": "stdout",
     "output_type": "stream",
     "text": [
      "{1, 2, 3, 4, 5}\n"
     ]
    }
   ],
   "source": [
    "unique_numbers = {1,2,3,3,3,3,4,5}\n",
    "print(unique_numbers)"
   ]
  },
  {
   "cell_type": "code",
   "execution_count": 16,
   "id": "4c757960-b17a-476c-8921-77166df78ad8",
   "metadata": {},
   "outputs": [
    {
     "name": "stdout",
     "output_type": "stream",
     "text": [
      "data type of the variable is_student =  <class 'bool'>\n",
      "data type of the variable has_license =  <class 'bool'>\n"
     ]
    }
   ],
   "source": [
    "is_student = True\n",
    "has_license = False\n",
    "print(\"data type of the variable is_student = \"\n",
    ",type(is_student))\n",
    "print(\"data type of the variable has_license = \"\n",
    ",type(has_license))"
   ]
  },
  {
   "cell_type": "code",
   "execution_count": 17,
   "id": "30dde7e9-f9b8-4dac-9203-1f30cb8084bb",
   "metadata": {},
   "outputs": [],
   "source": [
    "result = None"
   ]
  },
  {
   "cell_type": "code",
   "execution_count": 19,
   "id": "d89ba49d-9b6b-4967-9267-e36d399b67e9",
   "metadata": {},
   "outputs": [
    {
     "name": "stdout",
     "output_type": "stream",
     "text": [
      "Positive\n"
     ]
    }
   ],
   "source": [
    "num = 10\n",
    "if num > 0:\n",
    "    print(\"Positive\")\n",
    "elif num == 0:\n",
    "    print(\"Zero\")\n",
    "else:\n",
    "    print(\"Non-positive\")"
   ]
  },
  {
   "cell_type": "code",
   "execution_count": 21,
   "id": "5781dda1-c7cc-4644-90a8-5666f816868c",
   "metadata": {},
   "outputs": [
    {
     "name": "stdout",
     "output_type": "stream",
     "text": [
      "Both conditions are true\n",
      "At least one condition is true\n",
      "x is not equal to 0\n"
     ]
    }
   ],
   "source": [
    "x = 5\n",
    "y = 10\n",
    "if x > 0 and y < 20:\n",
    "    print(\"Both conditions are true\")\n",
    "if x > 0 or y > 20:\n",
    "    print(\"At least one condition is true\")\n",
    "if not x == 0:\n",
    "    print(\"x is not equal to 0\")"
   ]
  },
  {
   "cell_type": "code",
   "execution_count": 23,
   "id": "d4d89b5c-bd61-4a98-b1cb-77c5f7ed9ef3",
   "metadata": {},
   "outputs": [
    {
     "name": "stdout",
     "output_type": "stream",
     "text": [
      "Either a or b is False\n",
      "At least one of a or b is True\n",
      "a is True\n"
     ]
    }
   ],
   "source": [
    "# Define two boolean variables\n",
    "a = True\n",
    "b = False\n",
    "# Using the ’and’ operator\n",
    "if a and b:\n",
    "    print(\"Both a and b are True\")\n",
    "else:\n",
    "    print(\"Either a or b is False\") # This will be printed\n",
    "# Using the ’or’ operator\n",
    "if a or b:\n",
    "    print(\"At least one of a or b is True\") # This will be printed\n",
    "else:\n",
    "    print(\"Both a and b are False\")\n",
    "# Using the ’not’ operator\n",
    "if not a:\n",
    "    print(\"a is False\") # This will not be printed\n",
    "else:\n",
    "    print(\"a is True\") # This will be printed"
   ]
  },
  {
   "cell_type": "code",
   "execution_count": 28,
   "id": "d4e38da9-43af-421d-81ce-6d9ad804a9b5",
   "metadata": {},
   "outputs": [
    {
     "name": "stdout",
     "output_type": "stream",
     "text": [
      "apple\n",
      "banana\n",
      "cherry\n",
      "Count is: 0\n",
      "Count is: 1\n",
      "Count is: 2\n",
      "Count is: 3\n",
      "Count is: 4\n",
      "loop 1\n",
      "apple\n",
      "loop 2\n",
      "banana\n",
      "orange\n"
     ]
    }
   ],
   "source": [
    "# For loop:\n",
    "fruits = [\"apple\", \"banana\", \"cherry\"]\n",
    "for fruit in fruits:  # Ensure the loop body is properly indented\n",
    "    print(fruit)\n",
    "\n",
    "# While loop:\n",
    "count = 0\n",
    "while count < 5:  # Ensure the loop body is properly indented\n",
    "    print(\"Count is:\", count)\n",
    "    count += 1\n",
    "\n",
    "# Break\n",
    "fruits = [\"apple\", \"banana\", \"orange\"]\n",
    "print(\"loop 1\")\n",
    "for fruit in fruits:  # Ensure the loop body is properly indented\n",
    "    print(fruit)\n",
    "    if fruit == \"apple\":  # Ensure conditional block is properly indented\n",
    "        break\n",
    "\n",
    "# Continue\n",
    "print(\"loop 2\")\n",
    "for fruit in fruits:  # Ensure the loop body is properly indented\n",
    "    if fruit == \"apple\":  # Ensure conditional block is properly indented\n",
    "        continue\n",
    "    else:\n",
    "        print(fruit)\n"
   ]
  },
  {
   "cell_type": "code",
   "execution_count": 32,
   "id": "bd0f0c00-41ce-413b-b75b-ae9de62effdc",
   "metadata": {},
   "outputs": [],
   "source": [
    "def add_binary(a, b):\n",
    "    '''\n",
    "    Returns the sum of two decimal numbers in binary digits.\n",
    "    Parameters:\n",
    "    a (int): A decimal integer\n",
    "    b (int): Another decimal integer\n",
    "    Returns:\n",
    "    binary_sum (str): Binary string of the sum of a and b\n",
    "    '''\n",
    "    binary_sum = bin(a + b)[2:]  # Convert sum to binary and remove the '0b' prefix\n",
    "    return binary_sum\n"
   ]
  },
  {
   "cell_type": "code",
   "execution_count": 33,
   "id": "0e832e49-0f27-4cb5-aab7-a6a718f7a456",
   "metadata": {},
   "outputs": [
    {
     "name": "stdout",
     "output_type": "stream",
     "text": [
      "Hello, World!\n"
     ]
    }
   ],
   "source": [
    "print(\"Hello, World!\") # Output: Hello, World!\n",
    "length = len(\"Hello\") # Output: 5\n",
    "data_type = type(42) # Output: <class ’int’>\n",
    "total = sum([1, 2, 3]) # Output: 6"
   ]
  },
  {
   "cell_type": "code",
   "execution_count": 35,
   "id": "c678038b-20ab-493b-be94-075289c04e76",
   "metadata": {},
   "outputs": [
    {
     "name": "stdout",
     "output_type": "stream",
     "text": [
      "HELLO\n",
      "['apple', 'banana', 'cherry']\n",
      "25\n"
     ]
    }
   ],
   "source": [
    "# str.upper(): Converts all characters in a string to uppercase.\n",
    "message = \"hello\"\n",
    "print(message.upper())  # Output: \"HELLO\"\n",
    "\n",
    "# list.append(): Adds an element to the end of a list.\n",
    "fruits = [\"apple\", \"banana\"]\n",
    "fruits.append(\"cherry\")\n",
    "print(fruits)  # Output: [\"apple\", \"banana\", \"cherry\"]\n",
    "\n",
    "# dict.get(): Returns the value associated with a key in a dictionary.\n",
    "info = {\"name\": \"Alice\", \"age\": 25}\n",
    "age = info.get(\"age\")\n",
    "print(age)  # Output: 25\n"
   ]
  },
  {
   "cell_type": "code",
   "execution_count": null,
   "id": "89bdc669-5e0f-4122-9b65-23211e4748e8",
   "metadata": {},
   "outputs": [
    {
     "name": "stdout",
     "output_type": "stream",
     "text": [
      "Choose conversion type:\n",
      "1. Celsius to Fahrenheit\n",
      "2. Fahrenheit to Celsius\n"
     ]
    }
   ],
   "source": [
    "def temperature_converter():\n",
    "    \"\"\"\n",
    "    Converts temperature between Celsius and Fahrenheit.\n",
    "    This function prompts the user to specify the conversion type (Celsius to Fahrenheit\n",
    "    or Fahrenheit to Celsius) and then asks for the temperature value.\n",
    "    It calculates and returns the converted temperature.\n",
    "    \n",
    "    Returns:\n",
    "    float: The converted temperature value.\n",
    "    \"\"\"\n",
    "    print(\"Choose conversion type:\")\n",
    "    print(\"1. Celsius to Fahrenheit\")\n",
    "    print(\"2. Fahrenheit to Celsius\")\n",
    "    \n",
    "    # Get conversion choice from user\n",
    "    choice = input(\"Enter 1 or 2: \")\n",
    "    \n",
    "    if choice == \"1\":\n",
    "        # Celsius to Fahrenheit conversion\n",
    "        celsius = float(input(\"Enter temperature in Celsius: \"))\n",
    "        fahrenheit = (celsius * 9 / 5) + 32\n",
    "        print(f\"{celsius}C is equal to {fahrenheit}F\")\n",
    "        return fahrenheit\n",
    "    elif choice == \"2\":\n",
    "        # Fahrenheit to Celsius conversion\n",
    "        fahrenheit = float(input(\"Enter temperature in Fahrenheit: \"))\n",
    "        celsius = (fahrenheit - 32) * 5 / 9\n",
    "        print(f\"{fahrenheit}F is equal to {celsius}C\")\n",
    "        return celsius\n",
    "    else:\n",
    "        print(\"Invalid choice. Please enter 1 or 2.\")\n",
    "        return None  # Optional, to indicate an invalid input\n",
    "\n",
    "# Call the function to test\n",
    "temperature_converter()\n"
   ]
  },
  {
   "cell_type": "code",
   "execution_count": null,
   "id": "fdcbad97-847e-4f00-9413-3034ae54dafd",
   "metadata": {},
   "outputs": [],
   "source": [
    "x = 10 # Global Variable.\n",
    "def print_global():\n",
    "print(x) # Accessing global variable\n",
    "print_global() # Output: 10"
   ]
  },
  {
   "cell_type": "code",
   "execution_count": null,
   "id": "1e22568f-bd62-4938-8eba-2a70f9be3cf0",
   "metadata": {},
   "outputs": [],
   "source": [
    "def print_local():\n",
    "y = 5 # Local variable\n",
    "print(y)\n",
    "print_local() # Output: 5\n",
    "print(y) # This would cause an error because y is not accessible outside the function"
   ]
  },
  {
   "cell_type": "code",
   "execution_count": null,
   "id": "b7316f06-6f2e-45fb-b1c3-1c485b50211e",
   "metadata": {},
   "outputs": [],
   "source": [
    "x = 10 # Global variable\n",
    "def modify_global():\n",
    "    global x # Declaring x as global\n",
    "x = 20 # Modifying global x\n",
    "modify_global()\n",
    "print(x) # Output: 20"
   ]
  },
  {
   "cell_type": "code",
   "execution_count": 1,
   "id": "af6fa09e-a973-41df-b984-059f7adb0730",
   "metadata": {},
   "outputs": [
    {
     "name": "stdout",
     "output_type": "stream",
     "text": [
      "720\n"
     ]
    }
   ],
   "source": [
    "#8\n",
    "#Sample\n",
    "def factorial(n):\n",
    "    \"\"\"\n",
    "    Calculate the factorial of a non-negative integer n.\n",
    "    The factorial of a number n (denoted n!) is the product of all positive integers less\n",
    "    than or equal to n.\n",
    "    Specifically:\n",
    "    - If n is 0, the factorial is defined as 1 (base case).\n",
    "    - For any positive integer n, the factorial is calculated recursively as n * (n-1)\n",
    "    * (n-2) * ... * 1.\n",
    "    Args:\n",
    "    n (int): A non-negative integer for which to calculate the factorial.\n",
    "    Returns:\n",
    "    int: The factorial of the input number n.\n",
    "    Raises:\n",
    "    ValueError: If the input n is a negative integer, as factorial is only defined for\n",
    "    non-negative integers.\n",
    "    \"\"\"\n",
    "    if n == 0: # Base case\n",
    "        return 1\n",
    "    else: # Recursive case\n",
    "        return n * factorial(n - 1)\n",
    "print(factorial(6))"
   ]
  },
  {
   "cell_type": "code",
   "execution_count": 2,
   "id": "552cfc66",
   "metadata": {},
   "outputs": [
    {
     "name": "stdout",
     "output_type": "stream",
     "text": [
      "Total sum of nested list: 36\n"
     ]
    }
   ],
   "source": [
    "#Task 1\n",
    "def sum_nested_list(nested_list):\n",
    "    \"\"\"\n",
    "    Calculating the sum of all numbers in a nested list.\n",
    "    nested_list is a list that may contain integers or other lists of integers.\n",
    "    Returns the total sum of all integers in the nested list, including those in sublists.\n",
    "    \"\"\"\n",
    "    total = 0\n",
    "    for element in nested_list:\n",
    "        if isinstance(element, list):  #checking if the element is a list\n",
    "            total += sum_nested_list(element)  #recursively sum the nested list\n",
    "        else:\n",
    "            total += element #adding the number to the total\n",
    "    return total\n",
    "\n",
    "nested_list = [1, [2, [3, 4], 5], 6, [7, 8]]\n",
    "print(\"Total sum of nested list:\", sum_nested_list(nested_list))"
   ]
  },
  {
   "cell_type": "code",
   "execution_count": 3,
   "id": "2e6fdecf",
   "metadata": {},
   "outputs": [
    {
     "name": "stdout",
     "output_type": "stream",
     "text": [
      "Permutations of 'abc': ['acb', 'abc', 'bac', 'cab', 'cba', 'bca']\n",
      "Permutations of 'aab': ['aba', 'aab', 'baa']\n"
     ]
    }
   ],
   "source": [
    "def generate_permutations(s):\n",
    "    \"\"\"\n",
    "    Generating all unique permutations of a string.\n",
    "    s (str) is the The input string.\n",
    "    Returns list which is list of all unique permutations of the string.\n",
    "    \"\"\"\n",
    "    if len(s) == 1:\n",
    "        return [s]\n",
    "\n",
    "    permutations = []\n",
    "    for i in range(len(s)):\n",
    "        #fixing the first character and generate permutations of the remaining string\n",
    "        fixed = s[i]\n",
    "        rest = s[:i] + s[i+1:]\n",
    "        for perm in generate_permutations(rest):\n",
    "            permutations.append(fixed + perm)\n",
    "\n",
    "    return list(set(permutations))  #using set to ensure uniqueness\n",
    "\n",
    "print(\"Permutations of 'abc':\", generate_permutations(\"abc\"))\n",
    "print(\"Permutations of 'aab':\", generate_permutations(\"aab\"))"
   ]
  },
  {
   "cell_type": "code",
   "execution_count": 4,
   "id": "a40dc23c",
   "metadata": {},
   "outputs": [
    {
     "name": "stdout",
     "output_type": "stream",
     "text": [
      "Total size of directory: 1400\n"
     ]
    }
   ],
   "source": [
    "def calculate_directory_size(directory):\n",
    "    \"\"\"\n",
    "    Calculating the total size of a directory, including nested files and subdirectories.\n",
    "    directory is a A dictionary where keys represent file names (values as sizes in KB)\n",
    "    or directory names (values as another dictionary representing subdirectories).\n",
    "    Returns the total size of the directory in KB.\n",
    "    \"\"\"\n",
    "    total_size = 0\n",
    "    for key, value in directory.items():\n",
    "        if isinstance(value, dict):  #if the value is a subdirectory\n",
    "            total_size += calculate_directory_size(value)\n",
    "        else:  #if the value is a file size\n",
    "            total_size += value\n",
    "    return total_size\n",
    "\n",
    "directory_structure = {\n",
    "    \"file1.txt\": 200,\n",
    "    \"file2.txt\": 300,\n",
    "    \"subdir1\": {\n",
    "        \"file3.txt\": 400,\n",
    "        \"file4.txt\": 100\n",
    "    },\n",
    "    \"subdir2\": {\n",
    "        \"subsubdir1\": {\n",
    "            \"file5.txt\": 250\n",
    "        },\n",
    "        \"file6.txt\": 150\n",
    "    }\n",
    "}\n",
    "\n",
    "print(\"Total size of directory:\", calculate_directory_size(directory_structure))"
   ]
  },
  {
   "cell_type": "code",
   "execution_count": 5,
   "id": "2cf68515",
   "metadata": {},
   "outputs": [
    {
     "name": "stdout",
     "output_type": "stream",
     "text": [
      "55\n"
     ]
    }
   ],
   "source": [
    "\n",
    "def fibonacci(n):\n",
    "    \"\"\"\n",
    "    This function uses a bottom-up dynamic programming approach to calculate the nth\n",
    "    Fibonacci\n",
    "    number by iteratively building up an array of Fibonacci numbers up to n, thus\n",
    "    eliminating\n",
    "    redundant calculations and optimizing performance.\n",
    "    Parameters:    \n",
    "    n (int): The index in the Fibonacci sequence for which the value is to be computed.\n",
    "    Must be a non-negative integer.\n",
    "    Returns:\n",
    "    int: The nth Fibonacci number.\n",
    "    Example:\n",
    "    >>> fibonacci(5)\n",
    "    5\n",
    "    >>> fibonacci(10)\n",
    "    55\n",
    "    Time Complexity:\n",
    "    - The time complexity is O(n), as the function iterates through the range 2 to n,\n",
    "    calculating\n",
    "    each Fibonacci number once.\n",
    "    Space Complexity:\n",
    "    - The space complexity is O(n), due to the array used to store the Fibonacci numbers\n",
    "    up to n.\n",
    "    \"\"\"\n",
    "    if n <= 1:\n",
    "        return n\n",
    "    dp = [0] * (n + 1)\n",
    "    dp[1] = 1\n",
    "    for i in range(2, n + 1):\n",
    "        dp[i] = dp[i - 1] + dp[i - 2]\n",
    "    return dp[n]\n",
    "print(fibonacci(10))"
   ]
  },
  {
   "cell_type": "code",
   "execution_count": 6,
   "id": "58aae714",
   "metadata": {},
   "outputs": [
    {
     "name": "stdout",
     "output_type": "stream",
     "text": [
      "Minimum coins needed: 3\n"
     ]
    }
   ],
   "source": [
    "def min_coins(coins, amount):\n",
    "    \"\"\"\n",
    "    Finds the minimum number of coins needed to make up a given amount using dynamic\n",
    "    programming.\n",
    "    This function solves the coin change problem by determining the fewest number of\n",
    "    coins from a given set of coin denominations that sum up to a target amount. The\n",
    "    solution uses dynamic programming(tabulation) to iteratively build up the minimum\n",
    "    number of coins required for each amount.\n",
    "    Parameters:\n",
    "    coins (list of int): A list of coin denominations available for making change. Each\n",
    "    coin denomination is a positive integer.\n",
    "    amount (int): The target amount for which we need to find the minimum number of coins\n",
    "    . It must be a non-negative integer.\n",
    "    Returns:\n",
    "    int: The minimum number of coins required to make the given amount.\n",
    "    If it is not possible to make the amount with the given coins, returns -1.\n",
    "    Example:\n",
    "    >>> min_coins([1, 2, 5], 11)\n",
    "    3\n",
    "    >>> min_coins([2], 3)\n",
    "    -1    \n",
    "    \"\"\"\n",
    "    dp = [float('inf')] * (amount + 1)\n",
    "    dp[0] = 0 \n",
    "    \n",
    "    for coin in coins:\n",
    "        for i in range(coin, amount + 1):\n",
    "            dp[i] = min(dp[i], dp[i - coin] + 1)\n",
    "    \n",
    "    return dp[amount] if dp[amount] != float('inf') else -1\n",
    "\n",
    "coins = [1, 2, 5]\n",
    "amount = 11\n",
    "print(f\"Minimum coins needed: {min_coins(coins, amount)}\")"
   ]
  },
  {
   "cell_type": "code",
   "execution_count": 7,
   "id": "690cfa52",
   "metadata": {},
   "outputs": [
    {
     "name": "stdout",
     "output_type": "stream",
     "text": [
      "Length of LCS: 3\n"
     ]
    }
   ],
   "source": [
    "def longest_common_subsequence(s1, s2):\n",
    "    \"\"\"\n",
    "    Finding the length of the longest common subsequence between two strings using dynamic programming.\n",
    "    \"\"\"\n",
    "    m, n = len(s1), len(s2)\n",
    "    # Create a DP table initialized to 0\n",
    "    dp = [[0] * (n + 1) for _ in range(m + 1)]\n",
    "    \n",
    "    # Fill DP table\n",
    "    for i in range(1, m + 1):\n",
    "        for j in range(1, n + 1):\n",
    "            if s1[i - 1] == s2[j - 1]:  # Characters match\n",
    "                dp[i][j] = dp[i - 1][j - 1] + 1\n",
    "            else: \n",
    "                dp[i][j] = max(dp[i - 1][j], dp[i][j - 1])\n",
    "    \n",
    "    return dp[m][n]\n",
    "\n",
    "s1 = \"abcde\"\n",
    "s2 = \"ace\"\n",
    "print(f\"Length of LCS: {longest_common_subsequence(s1, s2)}\")"
   ]
  },
  {
   "cell_type": "code",
   "execution_count": 1,
   "id": "538ab14a",
   "metadata": {},
   "outputs": [
    {
     "name": "stdout",
     "output_type": "stream",
     "text": [
      "Maximum value: 9\n"
     ]
    }
   ],
   "source": [
    "def knapsack(weights, values, capacity):\n",
    "    \"\"\"\n",
    "    Solving the 0/1 Knapsack Problem using dynamic programming.\n",
    "    \"\"\"\n",
    "    n = len(weights)\n",
    "    dp = [[0] * (capacity + 1) for _ in range(n + 1)]\n",
    "    \n",
    "    # Fill DP table\n",
    "    for i in range(1, n + 1):\n",
    "        for w in range(capacity + 1):\n",
    "            if weights[i - 1] <= w: \n",
    "                dp[i][w] = max(dp[i - 1][w], dp[i - 1][w - weights[i - 1]] + values[i - 1])\n",
    "            else:\n",
    "                dp[i][w] = dp[i - 1][w]\n",
    "    \n",
    "    return dp[n][capacity]\n",
    "\n",
    "weights = [1, 3, 4, 5]\n",
    "values = [1, 4, 5, 7]\n",
    "capacity = 7\n",
    "print(f\"Maximum value: {knapsack(weights, values, capacity)}\")"
   ]
  },
  {
   "cell_type": "code",
   "execution_count": null,
   "id": "5b4bf79c-d7eb-4114-9c5d-4a8e2d97ee75",
   "metadata": {},
   "outputs": [],
   "source": []
  }
 ],
 "metadata": {
  "kernelspec": {
   "display_name": "Python 3 (ipykernel)",
   "language": "python",
   "name": "python3"
  },
  "language_info": {
   "codemirror_mode": {
    "name": "ipython",
    "version": 3
   },
   "file_extension": ".py",
   "mimetype": "text/x-python",
   "name": "python",
   "nbconvert_exporter": "python",
   "pygments_lexer": "ipython3",
   "version": "3.12.7"
  }
 },
 "nbformat": 4,
 "nbformat_minor": 5
}
