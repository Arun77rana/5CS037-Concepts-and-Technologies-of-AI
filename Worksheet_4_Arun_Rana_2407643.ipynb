{
  "nbformat": 4,
  "nbformat_minor": 0,
  "metadata": {
    "colab": {
      "provenance": []
    },
    "kernelspec": {
      "name": "python3",
      "display_name": "Python 3"
    },
    "language_info": {
      "name": "python"
    }
  },
  "cells": [
    {
      "cell_type": "markdown",
      "source": [
        "3.  To - Do Exercise:\n",
        "\n",
        "   For the provided dataset:\n",
        "    \n",
        "     • diabetes.csv\n",
        "          \n",
        "          Complete the following Problems."
      ],
      "metadata": {
        "id": "otIo5uhcdmZ7"
      }
    },
    {
      "cell_type": "markdown",
      "source": [
        "Submission Instructions:\n",
        "\n",
        "  • Submit a single notebook containing:\n",
        "\n",
        "   1. Clean and well-documented code.\n",
        "\n",
        "     2. Outputs and visualizations.\n",
        "\n",
        "       3. Detailed explanations and analysis for all steps.\n",
        "\n",
        "          • Ensure all cells are executed before submission."
      ],
      "metadata": {
        "id": "6aB6wL9kd0P3"
      }
    },
    {
      "cell_type": "markdown",
      "source": [
        "Problem - 1: Perform a classification task with knn from scratch.\n",
        "\n",
        "\n",
        "  1. Load the Dataset:\n",
        "\n",
        "     • Read the dataset into a pandas DataFrame.\n",
        "\n",
        "     • Display the first few rows and perform exploratory data analysis (EDA) to understand the dataset\n",
        "(e.g., check data types, missing values, summary statistics)."
      ],
      "metadata": {
        "id": "nlTjPeD0eEld"
      }
    },
    {
      "cell_type": "code",
      "source": [
        "from google.colab import drive\n",
        "drive.mount('/content/drive')"
      ],
      "metadata": {
        "colab": {
          "base_uri": "https://localhost:8080/"
        },
        "id": "lBcbcLCU69HH",
        "outputId": "bcb288ce-a0f7-411d-8dbe-830cd122ee4d"
      },
      "execution_count": null,
      "outputs": [
        {
          "output_type": "stream",
          "name": "stdout",
          "text": [
            "Drive already mounted at /content/drive; to attempt to forcibly remount, call drive.mount(\"/content/drive\", force_remount=True).\n"
          ]
        }
      ]
    },
    {
      "cell_type": "code",
      "source": [
        "# importiing all necessary packages\n",
        "import pandas as pd\n",
        "import numpy as np\n",
        "from sklearn.preprocessing import StandardScaler\n",
        "import time\n",
        "import matplotlib.pyplot as plt"
      ],
      "metadata": {
        "id": "sHomSnZ77KdG"
      },
      "execution_count": null,
      "outputs": []
    },
    {
      "cell_type": "code",
      "source": [
        "\n",
        "df = pd.read_csv('/content/drive/My Drive/second year/diabetes.csv')\n",
        "\n",
        "print(\"First 5 Rows of the Dataset:\")\n",
        "print(df.head())\n",
        "\n",
        "print(\"\\nDataset Information:\")\n",
        "print(df.info())\n",
        "\n",
        "print(\"\\nColumn Names:\")\n",
        "print(df.columns)\n",
        "\n",
        "print(\"\\nMissing Values in Each Column:\")\n",
        "print(df.isnull().sum())\n",
        "\n",
        "print(\"\\nStatistical Summary:\")\n",
        "print(df.describe())\n"
      ],
      "metadata": {
        "colab": {
          "base_uri": "https://localhost:8080/"
        },
        "id": "MdlOJ2IteaJ9",
        "outputId": "f12e6e8f-b594-4c93-db1c-c7125d75a152"
      },
      "execution_count": null,
      "outputs": [
        {
          "output_type": "stream",
          "name": "stdout",
          "text": [
            "First 5 Rows of the Dataset:\n",
            "   Pregnancies  Glucose  BloodPressure  SkinThickness  Insulin   BMI  \\\n",
            "0            6      148             72             35        0  33.6   \n",
            "1            1       85             66             29        0  26.6   \n",
            "2            8      183             64              0        0  23.3   \n",
            "3            1       89             66             23       94  28.1   \n",
            "4            0      137             40             35      168  43.1   \n",
            "\n",
            "   DiabetesPedigreeFunction  Age  Outcome  \n",
            "0                     0.627   50        1  \n",
            "1                     0.351   31        0  \n",
            "2                     0.672   32        1  \n",
            "3                     0.167   21        0  \n",
            "4                     2.288   33        1  \n",
            "\n",
            "Dataset Information:\n",
            "<class 'pandas.core.frame.DataFrame'>\n",
            "RangeIndex: 768 entries, 0 to 767\n",
            "Data columns (total 9 columns):\n",
            " #   Column                    Non-Null Count  Dtype  \n",
            "---  ------                    --------------  -----  \n",
            " 0   Pregnancies               768 non-null    int64  \n",
            " 1   Glucose                   768 non-null    int64  \n",
            " 2   BloodPressure             768 non-null    int64  \n",
            " 3   SkinThickness             768 non-null    int64  \n",
            " 4   Insulin                   768 non-null    int64  \n",
            " 5   BMI                       768 non-null    float64\n",
            " 6   DiabetesPedigreeFunction  768 non-null    float64\n",
            " 7   Age                       768 non-null    int64  \n",
            " 8   Outcome                   768 non-null    int64  \n",
            "dtypes: float64(2), int64(7)\n",
            "memory usage: 54.1 KB\n",
            "None\n",
            "\n",
            "Column Names:\n",
            "Index(['Pregnancies', 'Glucose', 'BloodPressure', 'SkinThickness', 'Insulin',\n",
            "       'BMI', 'DiabetesPedigreeFunction', 'Age', 'Outcome'],\n",
            "      dtype='object')\n",
            "\n",
            "Missing Values in Each Column:\n",
            "Pregnancies                 0\n",
            "Glucose                     0\n",
            "BloodPressure               0\n",
            "SkinThickness               0\n",
            "Insulin                     0\n",
            "BMI                         0\n",
            "DiabetesPedigreeFunction    0\n",
            "Age                         0\n",
            "Outcome                     0\n",
            "dtype: int64\n",
            "\n",
            "Statistical Summary:\n",
            "       Pregnancies     Glucose  BloodPressure  SkinThickness     Insulin  \\\n",
            "count   768.000000  768.000000     768.000000     768.000000  768.000000   \n",
            "mean      3.845052  120.894531      69.105469      20.536458   79.799479   \n",
            "std       3.369578   31.972618      19.355807      15.952218  115.244002   \n",
            "min       0.000000    0.000000       0.000000       0.000000    0.000000   \n",
            "25%       1.000000   99.000000      62.000000       0.000000    0.000000   \n",
            "50%       3.000000  117.000000      72.000000      23.000000   30.500000   \n",
            "75%       6.000000  140.250000      80.000000      32.000000  127.250000   \n",
            "max      17.000000  199.000000     122.000000      99.000000  846.000000   \n",
            "\n",
            "              BMI  DiabetesPedigreeFunction         Age     Outcome  \n",
            "count  768.000000                768.000000  768.000000  768.000000  \n",
            "mean    31.992578                  0.471876   33.240885    0.348958  \n",
            "std      7.884160                  0.331329   11.760232    0.476951  \n",
            "min      0.000000                  0.078000   21.000000    0.000000  \n",
            "25%     27.300000                  0.243750   24.000000    0.000000  \n",
            "50%     32.000000                  0.372500   29.000000    0.000000  \n",
            "75%     36.600000                  0.626250   41.000000    1.000000  \n",
            "max     67.100000                  2.420000   81.000000    1.000000  \n"
          ]
        }
      ]
    },
    {
      "cell_type": "markdown",
      "source": [
        "2. Handle Missing Data:\n",
        "\n",
        "\n",
        "• Handle any missing values appropriately, either by dropping or imputing them based on the data."
      ],
      "metadata": {
        "id": "RJDP7yHmg4fO"
      }
    },
    {
      "cell_type": "code",
      "source": [
        "\n",
        "df = pd.read_csv('/content/drive/My Drive/second year/diabetes.csv')\n",
        "\n",
        "print(\"Missing Values in Each Column (Before Handling):\")\n",
        "print(df.isnull().sum())\n",
        "\n",
        "columns_with_zeros = ['Glucose', 'BloodPressure', 'SkinThickness', 'Insulin', 'BMI']\n",
        "\n",
        "for column in columns_with_zeros:\n",
        "    zero_count = (df[column] == 0).sum()\n",
        "    print(f\"{column}: {zero_count} zero values\")\n",
        "\n",
        "df[columns_with_zeros] = df[columns_with_zeros].replace(0, np.nan)\n",
        "\n",
        "print(\"\\nMissing Values in Each Column (After Replacing Zeros):\")\n",
        "print(df.isnull().sum())\n",
        "\n",
        "df[columns_with_zeros] = df[columns_with_zeros].apply(lambda x: x.fillna(x.median()))\n",
        "\n",
        "print(\"\\nMissing Values in Each Column (After Imputation):\")\n",
        "print(df.isnull().sum())\n"
      ],
      "metadata": {
        "colab": {
          "base_uri": "https://localhost:8080/"
        },
        "id": "W1zwCv-fhFiV",
        "outputId": "157c7227-322d-4b4e-d5c9-775c04af47e1"
      },
      "execution_count": null,
      "outputs": [
        {
          "output_type": "stream",
          "name": "stdout",
          "text": [
            "Missing Values in Each Column (Before Handling):\n",
            "Pregnancies                 0\n",
            "Glucose                     0\n",
            "BloodPressure               0\n",
            "SkinThickness               0\n",
            "Insulin                     0\n",
            "BMI                         0\n",
            "DiabetesPedigreeFunction    0\n",
            "Age                         0\n",
            "Outcome                     0\n",
            "dtype: int64\n",
            "Glucose: 5 zero values\n",
            "BloodPressure: 35 zero values\n",
            "SkinThickness: 227 zero values\n",
            "Insulin: 374 zero values\n",
            "BMI: 11 zero values\n",
            "\n",
            "Missing Values in Each Column (After Replacing Zeros):\n",
            "Pregnancies                   0\n",
            "Glucose                       5\n",
            "BloodPressure                35\n",
            "SkinThickness               227\n",
            "Insulin                     374\n",
            "BMI                          11\n",
            "DiabetesPedigreeFunction      0\n",
            "Age                           0\n",
            "Outcome                       0\n",
            "dtype: int64\n",
            "\n",
            "Missing Values in Each Column (After Imputation):\n",
            "Pregnancies                 0\n",
            "Glucose                     0\n",
            "BloodPressure               0\n",
            "SkinThickness               0\n",
            "Insulin                     0\n",
            "BMI                         0\n",
            "DiabetesPedigreeFunction    0\n",
            "Age                         0\n",
            "Outcome                     0\n",
            "dtype: int64\n"
          ]
        }
      ]
    },
    {
      "cell_type": "markdown",
      "source": [
        "3. Feature Engineering:\n",
        "\n",
        "• Separate the feature matrix (X) and target variable (y).\n",
        "\n",
        "• Perform a train - test split from scratch using a 70% − 30% ratio."
      ],
      "metadata": {
        "id": "tFRk6Hs5i89T"
      }
    },
    {
      "cell_type": "code",
      "source": [
        "\n",
        "df = pd.read_csv('/content/drive/My Drive/second year/diabetes.csv')\n",
        "\n",
        "X = df.drop('Outcome', axis=1)\n",
        "y = df['Outcome']\n",
        "\n",
        "print(\"Feature Matrix (X) Shape:\", X.shape)\n",
        "print(\"Target Variable (y) Shape:\", y.shape)\n",
        "\n",
        "train_size = int(0.7 * len(df))\n",
        "indices = np.arange(len(df))\n",
        "\n",
        "np.random.seed(42)\n",
        "np.random.shuffle(indices)\n",
        "\n",
        "train_indices = indices[:train_size]\n",
        "test_indices = indices[train_size:]\n",
        "\n",
        "X_train, X_test = X.iloc[train_indices], X.iloc[test_indices]\n",
        "y_train, y_test = y.iloc[train_indices], y.iloc[test_indices]\n",
        "\n",
        "print(\"\\nTraining Set Size (X_train, y_train):\", X_train.shape, y_train.shape)\n",
        "print(\"Testing Set Size (X_test, y_test):\", X_test.shape, y_test.shape)\n"
      ],
      "metadata": {
        "colab": {
          "base_uri": "https://localhost:8080/"
        },
        "id": "o7CCtZXujCe8",
        "outputId": "d1b8e3b2-6ff4-4d24-ab6f-15cc523ad02b"
      },
      "execution_count": 14,
      "outputs": [
        {
          "output_type": "stream",
          "name": "stdout",
          "text": [
            "Feature Matrix (X) Shape: (768, 8)\n",
            "Target Variable (y) Shape: (768,)\n",
            "\n",
            "Training Set Size (X_train, y_train): (537, 8) (537,)\n",
            "Testing Set Size (X_test, y_test): (231, 8) (231,)\n"
          ]
        }
      ]
    },
    {
      "cell_type": "markdown",
      "source": [
        "4. Implement KNN:\n",
        "\n",
        "   • Build the KNN algorithm from scratch (no libraries like sickit-learn for KNN).\n",
        "\n",
        "      • Compute distances using Euclidean distance.\n",
        "         \n",
        "         • Write functions for:\n",
        "      – Predicting the class for a single query.\n",
        "      – Predicting classes for all test samples.\n",
        "\n",
        "         • Evaluate the performance using accuracy."
      ],
      "metadata": {
        "id": "GGt3BpQ8kYId"
      }
    },
    {
      "cell_type": "code",
      "source": [
        "\n",
        "class KNN:\n",
        "    def __init__(self, k=3):\n",
        "\n",
        "        self.k = k\n",
        "        self.X_train = None\n",
        "        self.y_train = None\n",
        "\n",
        "    def fit(self, X_train, y_train):\n",
        "\n",
        "        self.X_train = X_train.values if isinstance(X_train, pd.DataFrame) else X_train\n",
        "        self.y_train = y_train.values if isinstance(y_train, pd.Series) else y_train\n",
        "\n",
        "    def _euclidean_distance(self, x1, x2):\n",
        "\n",
        "        return np.sqrt(np.sum((x1 - x2) ** 2))\n",
        "\n",
        "    def predict_single(self, x):\n",
        "\n",
        "        distances = [self._euclidean_distance(x, x_train) for x_train in self.X_train]\n",
        "\n",
        "        k_indices = np.argsort(distances)[:self.k]\n",
        "\n",
        "        k_nearest_labels = [self.y_train[i] for i in k_indices]\n",
        "\n",
        "        return max(set(k_nearest_labels), key=k_nearest_labels.count)\n",
        "\n",
        "    def predict(self, X):\n",
        "\n",
        "        X = X.values if isinstance(X, pd.DataFrame) else X\n",
        "        return np.array([self.predict_single(x) for x in X])\n",
        "\n",
        "    def evaluate(self, X_test, y_test):\n",
        "\n",
        "        X_test = X_test.values if isinstance(X_test, pd.DataFrame) else X_test\n",
        "        y_test = y_test.values if isinstance(y_test, pd.Series) else y_test\n",
        "        y_pred = self.predict(X_test)\n",
        "        accuracy = np.sum(y_pred == y_test) / len(y_test)\n",
        "        return accuracy * 100  # Return accuracy as a percentage\n",
        "\n",
        "# Load dataset\n",
        "df = pd.read_csv('/content/drive/My Drive/second year/diabetes.csv')\n",
        "\n",
        "\n",
        "X = df.drop('Outcome', axis=1)\n",
        "y = df['Outcome']\n",
        "\n",
        "\n",
        "train_size = int(0.7 * len(df))\n",
        "indices = np.arange(len(df))\n",
        "\n",
        "np.random.seed(42)\n",
        "np.random.shuffle(indices)\n",
        "\n",
        "train_indices = indices[:train_size]\n",
        "test_indices = indices[train_size:]\n",
        "\n",
        "X_train, X_test = X.iloc[train_indices], X.iloc[test_indices]\n",
        "y_train, y_test = y.iloc[train_indices], y.iloc[test_indices]\n",
        "\n",
        "knn = KNN(k=5)\n",
        "knn.fit(X_train, y_train)\n",
        "accuracy = knn.evaluate(X_test, y_test)\n",
        "print(f\"Accuracy of the KNN model on the test set: {accuracy:.2f}%\")"
      ],
      "metadata": {
        "id": "7qUL-ERZlJPc",
        "colab": {
          "base_uri": "https://localhost:8080/"
        },
        "outputId": "93776bec-97dc-4ea5-aa70-8a842554841e"
      },
      "execution_count": 13,
      "outputs": [
        {
          "output_type": "stream",
          "name": "stdout",
          "text": [
            "Accuracy of the KNN model on the test set: 71.43%\n"
          ]
        }
      ]
    },
    {
      "cell_type": "markdown",
      "source": [
        "Problem - 2 - Experimentation:"
      ],
      "metadata": {
        "id": "C7zB2E2lFwv8"
      }
    },
    {
      "cell_type": "markdown",
      "source": [
        "1. Repeat the Classification Task:\n",
        "\n",
        "• Scale the Feature matrix X.\n",
        "\n",
        "• Use the scaled data for training and testing the kNN Classifier.\n",
        "\n",
        "• Record the results."
      ],
      "metadata": {
        "id": "FGtPvrROF1J9"
      }
    },
    {
      "cell_type": "code",
      "source": [
        "import numpy as np\n",
        "import pandas as pd\n",
        "from sklearn.preprocessing import StandardScaler\n",
        "from sklearn.model_selection import train_test_split, cross_val_score\n",
        "\n",
        "class KNN:\n",
        "    def __init__(self, k=3):\n",
        "        self.k = k\n",
        "        self.X_train = None\n",
        "        self.y_train = None\n",
        "\n",
        "    def fit(self, X_train, y_train):\n",
        "        \"\"\"\n",
        "        Store the training data.\n",
        "\n",
        "        Parameters:\n",
        "        X_train (numpy.ndarray or pandas.DataFrame): Training features.\n",
        "        y_train (numpy.ndarray or pandas.Series): Training labels.\n",
        "        \"\"\"\n",
        "        self.X_train = X_train.values if isinstance(X_train, pd.DataFrame) else X_train\n",
        "        self.y_train = y_train.values if isinstance(y_train, pd.Series) else y_train\n",
        "\n",
        "    def _euclidean_distance(self, x1, x2):\n",
        "        \"\"\"\n",
        "        Compute the Euclidean distance between two points.\n",
        "\n",
        "        Parameters:\n",
        "        x1 (numpy.ndarray): First point.\n",
        "        x2 (numpy.ndarray): Second point.\n",
        "\n",
        "        Returns:\n",
        "        float: Euclidean distance.\n",
        "        \"\"\"\n",
        "        return np.sqrt(np.sum((x1 - x2) ** 2))\n",
        "\n",
        "    def predict_single(self, x):\n",
        "        \"\"\"\n",
        "        Predict the class for a single query point.\n",
        "\n",
        "        Parameters:\n",
        "        x (numpy.ndarray): Query point.\n",
        "\n",
        "        Returns:\n",
        "        int: Predicted class.\n",
        "        \"\"\"\n",
        "        distances = [self._euclidean_distance(x, x_train) for x_train in self.X_train]\n",
        "\n",
        "        k_indices = np.argsort(distances)[:self.k]\n",
        "\n",
        "        k_nearest_labels = [self.y_train[i] for i in k_indices]\n",
        "\n",
        "        return max(set(k_nearest_labels), key=k_nearest_labels.count)\n",
        "\n",
        "    def predict(self, X):\n",
        "        \"\"\"\n",
        "        Predict the classes for multiple query points.\n",
        "\n",
        "        Parameters:\n",
        "        X (numpy.ndarray or pandas.DataFrame): Query points.\n",
        "\n",
        "        Returns:\n",
        "        numpy.ndarray: Predicted classes.\n",
        "        \"\"\"\n",
        "        X = X.values if isinstance(X, pd.DataFrame) else X\n",
        "        return np.array([self.predict_single(x) for x in X])\n",
        "\n",
        "    def evaluate(self, X_test, y_test):\n",
        "        \"\"\"\n",
        "        Evaluate the model on the test data.\n",
        "\n",
        "        Parameters:\n",
        "        X_test (numpy.ndarray or pandas.DataFrame): Test features.\n",
        "        y_test (numpy.ndarray or pandas.Series): Test labels.\n",
        "\n",
        "        Returns:\n",
        "        float: Accuracy of the model.\n",
        "        \"\"\"\n",
        "        X_test = X_test.values if isinstance(X_test, pd.DataFrame) else X_test\n",
        "        y_test = y_test.values if isinstance(y_test, pd.Series) else y_test\n",
        "        y_pred = self.predict(X_test)\n",
        "        accuracy = np.sum(y_pred == y_test) / len(y_test) * 100\n",
        "        return accuracy\n",
        "\n",
        "# Load dataset\n",
        "df = pd.read_csv('/content/drive/My Drive/second year/diabetes.csv')\n",
        "\n",
        "# Prepare features and labels\n",
        "X = df.drop('Outcome', axis=1)\n",
        "y = df['Outcome']\n",
        "\n",
        "# Split the data\n",
        "X_train, X_test, y_train, y_test = train_test_split(X, y, test_size=0.3, random_state=42)\n",
        "\n",
        "# Scale the feature matrix\n",
        "scaler = StandardScaler()\n",
        "X_train_scaled = scaler.fit_transform(X_train)\n",
        "X_test_scaled = scaler.transform(X_test)\n",
        "\n",
        "# Experiment with different k values\n",
        "scaled_accuracy_k = 0\n",
        "scaled_accuracy = 0\n",
        "results = []\n",
        "\n",
        "for k in range(1, 16):\n",
        "    knn = KNN(k=k)\n",
        "    knn.fit(X_train_scaled, y_train)\n",
        "    accuracy = knn.evaluate(X_test_scaled, y_test)\n",
        "    results.append((k, accuracy))\n",
        "    if accuracy > scaled_accuracy:\n",
        "        scales_k = k\n",
        "        scaled_accuracy = accuracy\n",
        "\n",
        "# Display results\n",
        "print(\"k-value | Accuracy\")\n",
        "for k, acc in results:\n",
        "    print(f\"{k:>6} | {acc:.2f}%\")\n",
        "\n",
        "print(f\"\\nscaled k: {'scaled_k'} with Accuracy: {scaled_accuracy:.2f}%\")\n"
      ],
      "metadata": {
        "colab": {
          "base_uri": "https://localhost:8080/"
        },
        "id": "03piK89TF74c",
        "outputId": "4e74bced-a4d2-41db-ff74-895f7c62a445"
      },
      "execution_count": 5,
      "outputs": [
        {
          "output_type": "stream",
          "name": "stdout",
          "text": [
            "k-value | Accuracy\n",
            "     1 | 63.64%\n",
            "     2 | 66.23%\n",
            "     3 | 71.00%\n",
            "     4 | 68.83%\n",
            "     5 | 70.13%\n",
            "     6 | 69.26%\n",
            "     7 | 69.70%\n",
            "     8 | 68.83%\n",
            "     9 | 69.70%\n",
            "    10 | 69.70%\n",
            "    11 | 71.00%\n",
            "    12 | 72.29%\n",
            "    13 | 71.43%\n",
            "    14 | 71.43%\n",
            "    15 | 74.03%\n",
            "\n",
            "scaled k: scaled_k with Accuracy: 74.03%\n"
          ]
        }
      ]
    },
    {
      "cell_type": "markdown",
      "source": [
        "2. Comparative Analysis:\n",
        "\n",
        "Compare the Results -\n",
        "\n",
        "• Compare the accuracy and performance of the kNN model on the original dataset from problem 1\n",
        "\n",
        "versus the scaled dataset.\n",
        "\n",
        "• Discuss:\n",
        "\n",
        "– How scaling impacted the KNN performance.\n",
        "\n",
        "– The reason for any observed changes in accuracy."
      ],
      "metadata": {
        "id": "R_5g4U1SGYiT"
      }
    },
    {
      "cell_type": "markdown",
      "source": [
        "=>Discussion:\n",
        "How Scaling Impacted Performance:\n",
        "\n",
        "KNN Sensitivity to Scale: KNN relies on distance measures like Euclidean distance to identify neighbors. If features are on different scales, the distance calculation can be dominated by features with larger numerical ranges, biasing the results.\n",
        "After Scaling: Scaling ensures all features contribute equally to the distance calculation, reducing bias from features with large magnitudes. This often improves the model's ability to identify relevant neighbors and thus boosts accuracy.\n",
        "Observed Changes in Accuracy:\n",
        "\n",
        "Improved Accuracy: If accuracy improved after scaling, it indicates that feature ranges in the original dataset were significantly different, leading to biased distance calculations.\n",
        "No Change or Minimal Improvement: If there was no noticeable improvement, it suggests that the features in the original dataset were already on similar scales or the KNN model was not highly sensitive to the feature magnitudes for this dataset.\n",
        "Key Insights:\n",
        "\n",
        "Scaling typically benefits algorithms like KNN, which depend on distance metrics.\n",
        "The impact of scaling may vary depending on the dataset's feature distribution. For datasets with naturally balanced feature ranges, scaling might not provide substantial benefits.\n",
        "Conclusion:\n",
        "Scaling generally enhances KNN performance by ensuring fair contribution from all features.\n",
        "For this particular task, the observed accuracy and performance differences highlight the importance of preprocessing steps like scaling when working with distance-based algorithms."
      ],
      "metadata": {
        "id": "Ha_CKY97HHHF"
      }
    },
    {
      "cell_type": "markdown",
      "source": [
        "Problem - 3 -\n",
        "\n",
        " Experimentation with k:\n",
        "\n",
        "\n",
        "1. Vary the number of neighbors - k:\n",
        "\n",
        "• Run the KNN model on both the original and scaled datasets for a range of:\n",
        "\n",
        "k= 1, 2, 3, . . . 15\n",
        "\n",
        "\n",
        "• For each k, record:\n",
        "\n",
        "– Accuracy.\n",
        "\n",
        "– Time taken to make predictions."
      ],
      "metadata": {
        "id": "qR2cPnYlHOVT"
      }
    },
    {
      "cell_type": "code",
      "source": [
        "import pandas as pd\n",
        "import numpy as np\n",
        "import time\n",
        "from sklearn.preprocessing import StandardScaler\n",
        "\n",
        "# Define KNN class\n",
        "class KNN:\n",
        "    def __init__(self, k=3):\n",
        "        self.k = k\n",
        "        self.X_train = None\n",
        "        self.y_train = None\n",
        "\n",
        "    def fit(self, X_train, y_train):\n",
        "        self.X_train = X_train\n",
        "        self.y_train = y_train\n",
        "\n",
        "    def _euclidean_distance(self, x1, x2):\n",
        "        return np.sqrt(np.sum((x1 - x2) ** 2))\n",
        "\n",
        "    def predict_single(self, x):\n",
        "        distances = [self._euclidean_distance(x, x_train) for x_train in self.X_train]\n",
        "        k_indices = np.argsort(distances)[:self.k]\n",
        "        k_nearest_labels = [self.y_train[i] for i in k_indices]\n",
        "        return max(set(k_nearest_labels), key=k_nearest_labels.count)\n",
        "\n",
        "    def predict(self, X):\n",
        "        return np.array([self.predict_single(x) for x in X])\n",
        "\n",
        "    def evaluate(self, X_test, y_test):\n",
        "        y_pred = self.predict(X_test)\n",
        "        accuracy = np.sum(y_pred == y_test) / len(y_test) * 100  # Accuracy in percentage\n",
        "        return accuracy\n",
        "\n",
        "# Load dataset\n",
        "df = pd.read_csv('/content/drive/My Drive/second year/diabetes.csv')\n",
        "\n",
        "# Prepare features and labels\n",
        "X = df.drop('Outcome', axis=1).to_numpy()\n",
        "y = df['Outcome'].to_numpy()\n",
        "\n",
        "# Split dataset into train and test sets\n",
        "train_size = int(0.7 * len(df))\n",
        "indices = np.arange(len(df))\n",
        "np.random.seed(42)\n",
        "np.random.shuffle(indices)\n",
        "\n",
        "train_indices = indices[:train_size]\n",
        "test_indices = indices[train_size:]\n",
        "\n",
        "X_train, X_test = X[train_indices], X[test_indices]\n",
        "y_train, y_test = y[train_indices], y[test_indices]\n",
        "\n",
        "# Scale the data\n",
        "scaler = StandardScaler()\n",
        "X_train_scaled = scaler.fit_transform(X_train)\n",
        "X_test_scaled = scaler.transform(X_test)\n",
        "\n",
        "# Evaluate KNN for different values of k\n",
        "results = []\n",
        "for k in range(1, 16):\n",
        "    knn = KNN(k=k)\n",
        "\n",
        "    # Original dataset\n",
        "    start_time = time.time()\n",
        "    knn.fit(X_train, y_train)\n",
        "    accuracy_original = knn.evaluate(X_test, y_test)\n",
        "    time_original = time.time() - start_time\n",
        "\n",
        "    # Scaled dataset\n",
        "    start_time = time.time()\n",
        "    knn.fit(X_train_scaled, y_train)\n",
        "    accuracy_scaled = knn.evaluate(X_test_scaled, y_test)\n",
        "    time_scaled = time.time() - start_time\n",
        "\n",
        "    # Record results\n",
        "    results.append({\n",
        "        'k': k,\n",
        "        'Accuracy Original (%)': accuracy_original,\n",
        "        'Time Original (s)': time_original,\n",
        "        'Accuracy Scaled (%)': accuracy_scaled,\n",
        "        'Time Scaled (s)': time_scaled\n",
        "    })\n",
        "\n",
        "# Convert results to a DataFrame for better visualization\n",
        "results_df = pd.DataFrame(results)\n",
        "\n",
        "# Display results\n",
        "print(results_df)\n",
        "\n",
        "# Optionally, save results to a CSV file for analysis\n",
        "results_df.to_csv('knn_results.csv', index=False)\n"
      ],
      "metadata": {
        "colab": {
          "base_uri": "https://localhost:8080/"
        },
        "id": "d94PgCdwxE7V",
        "outputId": "dbacc264-6f1c-43a2-a6ae-e185f67c66c0"
      },
      "execution_count": 7,
      "outputs": [
        {
          "output_type": "stream",
          "name": "stdout",
          "text": [
            "     k  Accuracy Original (%)  Time Original (s)  Accuracy Scaled (%)  \\\n",
            "0    1              64.935065           0.797496            71.428571   \n",
            "1    2              71.428571           0.822671            71.428571   \n",
            "2    3              70.129870           0.788689            69.696970   \n",
            "3    4              74.891775           0.829581            72.727273   \n",
            "4    5              71.428571           1.537153            73.593074   \n",
            "5    6              76.190476           1.674515            74.458874   \n",
            "6    7              73.160173           1.814524            74.891775   \n",
            "7    8              74.891775           1.673223            75.324675   \n",
            "8    9              74.458874           2.248194            72.727273   \n",
            "9   10              73.593074           1.382905            71.861472   \n",
            "10  11              72.727273           0.881902            71.861472   \n",
            "11  12              73.160173           0.788938            73.160173   \n",
            "12  13              74.025974           0.838034            73.160173   \n",
            "13  14              74.891775           0.803920            73.593074   \n",
            "14  15              73.593074           0.807777            73.160173   \n",
            "\n",
            "    Time Scaled (s)  \n",
            "0          0.842209  \n",
            "1          0.790740  \n",
            "2          0.842257  \n",
            "3          1.646439  \n",
            "4          1.988695  \n",
            "5          1.459455  \n",
            "6          1.527704  \n",
            "7          1.581830  \n",
            "8          2.729989  \n",
            "9          0.811713  \n",
            "10         0.798506  \n",
            "11         0.788913  \n",
            "12         0.840564  \n",
            "13         0.785918  \n",
            "14         0.794607  \n"
          ]
        }
      ]
    },
    {
      "cell_type": "markdown",
      "source": [
        "2. Visualize the Results:\n",
        "\n",
        "• Plot the following graphs:\n",
        "\n",
        "– k vs. Accuracy for original and scaled datasets.\n",
        "\n",
        "– k vs. Time Taken for original and scaled datasets."
      ],
      "metadata": {
        "id": "8OHpn8ai0jPi"
      }
    },
    {
      "cell_type": "code",
      "source": [
        "import pandas as pd\n",
        "import numpy as np\n",
        "import time\n",
        "from sklearn.preprocessing import StandardScaler\n",
        "import matplotlib.pyplot as plt\n",
        "\n",
        "# Define KNN class\n",
        "class KNN:\n",
        "    def __init__(self, k=3):\n",
        "        self.k = k\n",
        "        self.X_train = None\n",
        "        self.y_train = None\n",
        "\n",
        "    def fit(self, X_train, y_train):\n",
        "        self.X_train = X_train.values if isinstance(X_train, pd.DataFrame) else X_train\n",
        "        self.y_train = y_train.values if isinstance(y_train, pd.Series) else y_train\n",
        "\n",
        "    def _euclidean_distance(self, x1, x2):\n",
        "        return np.sqrt(np.sum((x1 - x2) ** 2))\n",
        "\n",
        "    def predict_single(self, x):\n",
        "        distances = [self._euclidean_distance(x, x_train) for x_train in self.X_train]\n",
        "        k_indices = np.argsort(distances)[:self.k]\n",
        "        k_nearest_labels = [self.y_train[i] for i in k_indices]\n",
        "        return max(set(k_nearest_labels), key=k_nearest_labels.count)\n",
        "\n",
        "    def predict(self, X):\n",
        "        X = X.values if isinstance(X, pd.DataFrame) else X\n",
        "        return np.array([self.predict_single(x) for x in X])\n",
        "\n",
        "    def evaluate(self, X_test, y_test):\n",
        "        X_test = X_test.values if isinstance(X_test, pd.DataFrame) else X_test\n",
        "        y_test = y_test.values if isinstance(y_test, pd.Series) else y_test\n",
        "        y_pred = self.predict(X_test)\n",
        "        accuracy = (np.sum(y_pred == y_test) / len(y_test)) * 100  # Accuracy in percentage\n",
        "        return accuracy\n",
        "\n",
        "# Load dataset\n",
        "df = pd.read_csv('/content/drive/My Drive/second year/diabetes.csv')\n",
        "\n",
        "X = df.drop('Outcome', axis=1)\n",
        "y = df['Outcome']\n",
        "\n",
        "train_size = int(0.7 * len(df))\n",
        "indices = np.arange(len(df))\n",
        "np.random.seed(42)\n",
        "np.random.shuffle(indices)\n",
        "\n",
        "train_indices = indices[:train_size]\n",
        "test_indices = indices[train_size:]\n",
        "\n",
        "X_train, X_test = X.iloc[train_indices], X.iloc[test_indices]\n",
        "y_train, y_test = y.iloc[train_indices], y.iloc[test_indices]\n",
        "\n",
        "scaler = StandardScaler()\n",
        "X_train_scaled = scaler.fit_transform(X_train)\n",
        "X_test_scaled = scaler.transform(X_test)\n",
        "\n",
        "results = []\n",
        "for k in range(1, 16):\n",
        "    knn = KNN(k=k)\n",
        "\n",
        "    start_time = time.time()\n",
        "    knn.fit(X_train, y_train)\n",
        "    accuracy_original = knn.evaluate(X_test, y_test)\n",
        "    time_original = time.time() - start_time\n",
        "\n",
        "    start_time = time.time()\n",
        "    knn.fit(X_train_scaled, y_train)\n",
        "    accuracy_scaled = knn.evaluate(X_test_scaled, y_test)\n",
        "    time_scaled = time.time() - start_time\n",
        "\n",
        "    results.append({\n",
        "        'k': k,\n",
        "        'accuracy_original': accuracy_original,\n",
        "        'time_original': time_original,\n",
        "        'accuracy_scaled': accuracy_scaled,\n",
        "        'time_scaled': time_scaled\n",
        "    })\n",
        "\n",
        "print(\"\\nk, Accuracy (Original, %), Time (Original, s), Accuracy (Scaled, %), Time (Scaled, s)\")\n",
        "for result in results:\n",
        "    print(f\"k={result['k']:2d}, {result['accuracy_original']:6.2f}%, {result['time_original']:7.4f}s, {result['accuracy_scaled']:6.2f}%, {result['time_scaled']:7.4f}s\")\n",
        "\n",
        "k_values = [r['k'] for r in results]\n",
        "accuracy_original = [r['accuracy_original'] for r in results]\n",
        "time_original = [r['time_original'] for r in results]\n",
        "accuracy_scaled = [r['accuracy_scaled'] for r in results]\n",
        "time_scaled = [r['time_scaled'] for r in results]\n",
        "\n",
        "plt.figure(figsize=(14, 6))\n",
        "\n",
        "plt.subplot(1, 2, 1)\n",
        "plt.plot(k_values, accuracy_original, label='Original Data', marker='o', color='blue', linestyle='-', markersize=8)\n",
        "plt.plot(k_values, accuracy_scaled, label='Scaled Data', marker='o', color='green', linestyle='-', markersize=8)\n",
        "plt.title('k vs. Accuracy', fontsize=14)\n",
        "plt.xlabel('k (Number of Neighbors)', fontsize=12)\n",
        "plt.ylabel('Accuracy (%)', fontsize=12)\n",
        "plt.legend(loc='best', fontsize=12)\n",
        "plt.grid(True, linestyle='--', alpha=0.6)\n",
        "\n",
        "plt.subplot(1, 2, 2)\n",
        "plt.plot(k_values, time_original, label='Original Data', marker='s', color='blue', linestyle='-', markersize=8)\n",
        "plt.plot(k_values, time_scaled, label='Scaled Data', marker='s', color='green', linestyle='-', markersize=8)\n",
        "plt.title('k vs. Time Taken', fontsize=14)\n",
        "plt.xlabel('k (Number of Neighbors)', fontsize=12)\n",
        "plt.ylabel('Time (seconds)', fontsize=12)\n",
        "plt.legend(loc='best', fontsize=12)\n",
        "plt.grid(True, linestyle='--', alpha=0.6)\n",
        "\n",
        "plt.tight_layout()\n",
        "plt.show()\n"
      ],
      "metadata": {
        "colab": {
          "base_uri": "https://localhost:8080/",
          "height": 797
        },
        "id": "P3aX-hS50umd",
        "outputId": "842927af-1017-4756-92a2-d73090b22501"
      },
      "execution_count": 9,
      "outputs": [
        {
          "output_type": "stream",
          "name": "stdout",
          "text": [
            "\n",
            "k, Accuracy (Original, %), Time (Original, s), Accuracy (Scaled, %), Time (Scaled, s)\n",
            "k= 1,  64.94%,  1.6485s,  71.43%,  1.3350s\n",
            "k= 2,  71.43%,  0.7935s,  71.43%,  0.7988s\n",
            "k= 3,  70.13%,  0.7986s,  69.70%,  0.7901s\n",
            "k= 4,  74.89%,  0.7842s,  72.73%,  1.3420s\n",
            "k= 5,  71.43%,  1.5348s,  73.59%,  1.4934s\n",
            "k= 6,  76.19%,  1.1389s,  74.46%,  0.8046s\n",
            "k= 7,  73.16%,  0.8019s,  74.89%,  0.8199s\n",
            "k= 8,  74.89%,  0.8185s,  75.32%,  0.7941s\n",
            "k= 9,  74.46%,  0.8390s,  72.73%,  0.9207s\n",
            "k=10,  73.59%,  0.9121s,  71.86%,  1.5562s\n",
            "k=11,  72.73%,  0.8051s,  71.86%,  1.1478s\n",
            "k=12,  73.16%,  1.4309s,  73.16%,  1.4233s\n",
            "k=13,  74.03%,  1.2926s,  73.16%,  0.8038s\n",
            "k=14,  74.89%,  0.8573s,  73.59%,  0.7794s\n",
            "k=15,  73.59%,  0.8412s,  73.16%,  0.8265s\n"
          ]
        },
        {
          "output_type": "display_data",
          "data": {
            "text/plain": [
              "<Figure size 1400x600 with 2 Axes>"
            ],
            "image/png": "[encoded data removed]"
          },
          "metadata": {}
        }
      ]
    },
    {
      "cell_type": "markdown",
      "source": [
        "3. Analyze and Discuss:\n",
        "\n",
        "• Discuss how the choice of k affects the accuracy and computational cost.\n",
        "\n",
        "• Identify the optimal k based on your analysis."
      ],
      "metadata": {
        "id": "_ou9sfqh1a-7"
      }
    },
    {
      "cell_type": "markdown",
      "source": [
        "=> Effect of k on Accuracy:\n",
        "\n",
        "\n",
        "For smaller k (e.g.,k=1), the model overfits and becomes sensitive to noise, while larger k values reduce variance but may introduce bias. Scaling improves accuracy by ensuring all features contribute equally to distance calculations. Computational cost increases with k due to sorting neighbors, though scaling reduces redundant calculations. The optimal k balances accuracy and cost, typically k=5 to k=7 for original data and slightly higher for scaled data. Cross-validation and optimized KNN methods like tree-based structures can further enhance performance."
      ],
      "metadata": {
        "id": "R0aoMFnq16Ff"
      }
    }
  ]
}